{
  "nbformat": 4,
  "nbformat_minor": 0,
  "metadata": {
    "colab": {
      "name": "FA22_Prelab7",
      "provenance": [],
      "authorship_tag": "ABX9TyMZ3XyTtOh5VUAHxHJplzO/",
      "include_colab_link": true
    },
    "kernelspec": {
      "name": "python3",
      "display_name": "Python 3"
    },
    "language_info": {
      "name": "python"
    }
  },
  "cells": [
    {
      "cell_type": "markdown",
      "metadata": {
        "id": "view-in-github",
        "colab_type": "text"
      },
      "source": [
        "<a href=\"https://colab.research.google.com/github/hewp84/tinyml/blob/main/FA22_Prelab7.ipynb\" target=\"_parent\"><img src=\"https://colab.research.google.com/assets/colab-badge.svg\" alt=\"Open In Colab\"/></a>"
      ]
    },
    {
      "cell_type": "markdown",
      "source": [
        "# Prelab 7: Database & Visualization 1 - SQL Database"
      ],
      "metadata": {
        "id": "sQ3lfLGgjZ6C"
      }
    },
    {
      "cell_type": "markdown",
      "source": [
        "## Introduction\n",
        "\n",
        "In this lab, we will use a database to store data that is collected by IoT sensors and devices. In Lab 5 and 6, we learned MTConnect as a middleware to integrate data flow. Because data size in the MTConnect agent is limited to the memory size of the computer, introducing database is needed to store data for long-term use. \n",
        "\n",
        "There are many different types of databases. Normally the types of databases are divided into SQL (Structured Query Language) and NoSQL (non SQL or not only SQL). The selection of a proper database is important when you start a project. Of course, NoSQL can be better in many applications. However, of the various databases, we will use SQL (Structured Query Language) database, specifically MySQL. SQL is a standardized programing “language” that is used to manage relational databases and perform various operations on the data in them. Because SQL database is elementary of database, we will use SQL for the lab activities. SQL allow us to store, update, and retrieve data in databases. MySQL is an open-source (royalty free) relational database management system (RDBMS). It is developed by Oracle Co. MySQL is a representative RDBMS and it is used by many popular websites, including Facebook, Flickr, YouTube and so on. \n",
        "\n",
        "The purpose of Lab 7 is 1) to understand the basic syntax of SQL and 2) to manipulate (store and retrieve) databases. As a hands-on activity, we will store sensor data into MySQL database using SQL and retrieve data from it. \n"
      ],
      "metadata": {
        "id": "NDJMI3eUjf78"
      }
    },
    {
      "cell_type": "markdown",
      "source": [
        "## MySQL Python Package Installation on Raspberry Pi\n",
        "\n",
        "In Lab 7, we will program a Python script to store sensor data into MySQL database. PyMySQL \n",
        "(https://pypi.org/project/PyMySQL/, available on Feb. 28, 2022) will be used. Please follow the steps to install PyMySQL Python package below. \n",
        "1.\tTo make your Raspberry Pi up to date and upgrade \n",
        "\n",
        "---\n",
        "\n",
        "**Raspberry Pi - Terminal**\n",
        "\n",
        "`sudo apt update`\n",
        "\n",
        "\n",
        "`sudo apt upgrade`\n",
        "\n",
        "---\n",
        "2.\tInstall PyMySQL Python package (latest version is 1.0.2) \n",
        "\n",
        "---\n",
        "\n",
        "**Raspberry Pi - Terminal**\n",
        "\n",
        "`sudo pip3 install PyMySQL`\n",
        "\n",
        "---\n",
        "\n",
        "![picture](https://github.com/hewp84/tinyml/blob/main/img/PL7_Figure1_2.png?raw=true)\n",
        "\n",
        "*Figure 1 PyMySQL installation on Raspberry Pi*\n",
        "\n",
        "3. Check if PyMySQL is installed as below\n",
        "\n",
        "---\n",
        "\n",
        "**Raspberry Pi - Terminal**\n",
        "\n",
        "`python3`\n",
        "\n",
        "**Python - Python3 interpreter in 'Terminal'**\n",
        "\n",
        "`import pymysql`\n",
        "\n",
        "`print(\"PyMySQL version:\", pymysql.__version__)`\n",
        "\n",
        "![picture](https://github.com/hewp84/tinyml/blob/main/img/PL7_Figure2.png?raw=true)\n",
        "\n",
        "\n",
        "*Figure 2 PyMySQL import and check the version*\n",
        "\n",
        "---"
      ],
      "metadata": {
        "id": "JubZzBqsjhDY"
      }
    },
    {
      "cell_type": "markdown",
      "source": [
        "### TASK 1\n",
        "\n",
        "Install PyMySQL package on Raspberry Pi. Check the version of PyMySQL and then attach the result of the terminal window as Figure 2 to the report. \n",
        "* To exit the Python interpreter, the command is ‘exit()’. \n"
      ],
      "metadata": {
        "id": "wT1-tImujl8-"
      }
    },
    {
      "cell_type": "markdown",
      "source": [
        "## MySQL Workbench Installation on Windows\n",
        "\n",
        "We can manage MySQL database through command line interface. However, it requires fluent skills on both MySQL client and CLI. We will use the MySQL Workbench (https://www.mysql.com/products/workbench/, available on Feb. 28, 2022). MySQL Workbench is a unified visual tool for database architects, developers. It provides data modeling, SQL development, and comprehensive administration tools. We will use MySQL Workbench to practice basic syntax of SQL. To install MySQL Workbench, please follow the steps below. \n",
        "1.\tVisit MySQL Community Downloads website (https://dev.mysql.com/downloads/workbench/) \n",
        "2.\tDownload and install MySQL Workbench Community version 8.0.28 \n",
        "\n",
        "  a. You can install other versions but please make sure to install the version higher than 8.0. \n",
        "\n",
        "![picture](https://github.com/hewp84/tinyml/blob/main/img/PL7_Figure3.png?raw=true)\n",
        "\n",
        "*Figure 3 MySQL Workbench window*"
      ],
      "metadata": {
        "id": "Vtrcvs2rjrPu"
      }
    },
    {
      "cell_type": "markdown",
      "source": [
        "### TASK 2\n",
        "\n",
        "Install MySQL Workbench on Windows and run it. Capture the window as Figure 3 and then attach it to the report. "
      ],
      "metadata": {
        "id": "xOqcGrWrjuPT"
      }
    },
    {
      "cell_type": "markdown",
      "source": [
        "## Related Websites and Further Reading\n",
        "\n",
        "We cannot cover all topics of SQL because SQL itself is sometimes taught in a university-level course. If you are interested in depth about SQL, please consider taking courses offered by Computer Science below. \n",
        "* CS348: Information Systems \n",
        "* CS448: Introduction To Relational Database Systems \n",
        "* CS541: Database Systems \n",
        "\n",
        "It is highly recommended to perform SQL Tutorial by W3Schools from “SQL HOME” to “SQL Like”. \n",
        "* (Tutorial) W3Schools: https://www.w3schools.com/sql/default.asp o In each tutorial, you can try yourself. \n"
      ],
      "metadata": {
        "id": "uwrgB8RFjvth"
      }
    },
    {
      "cell_type": "markdown",
      "source": [
        "## Deliverable\n",
        "\n",
        "1.\tPerform all Tasks and submit your Prelab7 report on Brightspace before Lab7. \n",
        "2.\tPlease summarize SQL syntax from the tutorial or any online resources. \n",
        "3.\tExplain SQL Statements and Clauses listed below briefly. \n",
        "\n",
        "  a.\tSELECT (Statement) \n",
        "\n",
        "  b.\tINSERT INTO (Statement) \n",
        "\n",
        "  c.\tWHERE (Clause) \n",
        "\n",
        "  d.\tORDER BY (Clause) \n",
        "\n",
        "  e.\tFROM (Clause) \n"
      ],
      "metadata": {
        "id": "gG7J1Qd8jzPh"
      }
    }
  ]
}