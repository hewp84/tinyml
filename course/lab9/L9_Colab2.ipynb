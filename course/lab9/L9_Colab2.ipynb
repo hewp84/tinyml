{
  "nbformat": 4,
  "nbformat_minor": 0,
  "metadata": {
    "colab": {
      "name": "L9_Colab2",
      "provenance": [],
      "collapsed_sections": [],
      "include_colab_link": true
    },
    "kernelspec": {
      "name": "python3",
      "display_name": "Python 3"
    },
    "language_info": {
      "name": "python"
    }
  },
  "cells": [
    {
      "cell_type": "markdown",
      "metadata": {
        "id": "view-in-github",
        "colab_type": "text"
      },
      "source": [
        "<a href=\"https://colab.research.google.com/github/hewp84/tinyml/blob/main/course/lab9/L9_Colab2.ipynb\" target=\"_parent\"><img src=\"https://colab.research.google.com/assets/colab-badge.svg\" alt=\"Open In Colab\"/></a>"
      ]
    },
    {
      "cell_type": "markdown",
      "source": [
        "# Lab 9.2 Machine Learning 2 – Artificial Neural Network, Classification "
      ],
      "metadata": {
        "id": "5_3ACMzJBDFw"
      }
    },
    {
      "cell_type": "markdown",
      "source": [
        "## Training ML model for anomaly detection"
      ],
      "metadata": {
        "id": "A14Tj7DCCTgA"
      }
    },
    {
      "cell_type": "markdown",
      "source": [
        "### Part 4: Run Autoencoder sample\n",
        "\n",
        "Now, you are ready to train ML model. Please download a Jupyter Notebook sample file (‘Lab9_ML_sample.ipynb’) from Brightspace to your laptop. Follow the steps below to run the sample file. \n",
        "\n",
        "1.\tCreate a folder you want to work for this lab. \n",
        "\n",
        "2.\tCopy files below in the folder. Please make sure the collected data and the Jupyter Notebook file must be in the same directory. \n",
        "\n",
        "  a.\t‘Lab9_ML_sample.ipynb’ \n",
        "\n",
        "  b.\t‘DATE_TIME_Normal_lab9_data.csv’ \n",
        "\n",
        "  c.\t‘DATE_TIME_Abnormal_lab9_data.csv’ \n",
        "    \n",
        "    ![picture](https://github.com/hewp84/tinyml/blob/main/img/L9_Image1.png?raw=true)\n",
        "  \n",
        "3.\tOpen the sample Jupyter Notebook file (Lab9_ML_sample.ipynb) using any IDEs. In this example, it was opened by Jupyter Notebook as capture below. \n",
        "4.\tRun each code cell of the sample. \n",
        "\n",
        "  a.\tThe basic structure of ML training is the same as Prelab9. \n",
        "\n",
        "  b.\tPlease read comments in each line. \n",
        "\n",
        "  c.\tThe sample code is set for X-axis acceleration data and raw data feature input. \n",
        "\n",
        "  ![picture](https://github.com/hewp84/tinyml/blob/main/img/L9_Image2.png?raw=true)\n"
      ],
      "metadata": {
        "id": "El9qsNAOCWS8"
      }
    },
    {
      "cell_type": "markdown",
      "source": [
        "#### TASK 4\n",
        "\n",
        "Run ‘Lab9_ML_sample.ipynb’ with the conditions below. \n",
        "\n",
        "  a.\tAcceleration axis: X-axis \n",
        "\n",
        "  b.\tInput feature: Raw data (without signal processing as Prelab9) \n",
        "\n",
        "  c.\tEmbedding size = 16 \n",
        "\n",
        "  d.\tPlease note if you change any hyper-parameters or variables. \n",
        "<br></br>\n",
        "After finish to run the sample code, answer the questions below. \n",
        "1.\tWhat is performance of the test data? Evaluate and analyze your model by including below. \n",
        "  a. ROC curve \n",
        "\n",
        "  b.\tTraining reconstruction histogram \n",
        "\n",
        "  c.\tThreshold, Accuracy, Precision, Recall \n",
        "\n",
        "  d.\tReconstruction error plots \n",
        "\n",
        "2.\tDo you think your model is good enough for anomaly detection of the AFF? "
      ],
      "metadata": {
        "id": "2QcvvGgiCZxm"
      }
    },
    {
      "cell_type": "markdown",
      "source": [
        "### Part 5: Save ML model\n",
        "\n",
        "After you train a model, you should save the model and assets for use in the future. As a practice, follow the steps below to save the model you created in TASK4. \n",
        "1.\tAt the end of the sample code after you finish TASK4, add a Code Cell. \n",
        "2.\tWrite the code in the cell below. \n",
        "\n",
        "---\n",
        "\n",
        "**Jupyter - Save model and assets**\n",
        "\n",
        "```\n",
        "## Save the model \n",
        "model_folder = \"model\" # directory name to save the model\n",
        "if not os.path.exists(model_folder): # create the directory if not exist     \n",
        "  os.mkdir(model_folder) \n",
        " \n",
        "t = datetime.datetime.now().strftime(\"%Y%m%d_%H%M%S\") # define the time the model saved \n",
        "model_identifier = \"_lab9_anomaly_TASK4\" # model identifier, if you want to make identifier to tell models, please change this \n",
        "export_path = './model/'+t+model_identifier # export path \n",
        "autoencoder.save(export_path) # model will be saved in \"export_path\" \n",
        "\n",
        "\n",
        "```\n",
        "\n",
        "---\n",
        "\n",
        "3. If you don't see any errors as below, you are done!\n",
        "\n",
        "  ![picture](https://github.com/hewp84/tinyml/blob/main/img/L9_Image3.png?raw=true)\n",
        "\n",
        "4. You can see the saved model and assets’ files in the ‘model’ folder as captured below. \n",
        " \n",
        " ![picture](https://github.com/hewp84/tinyml/blob/main/img/L9_Image4.png?raw=true)\n",
        "\n",
        "The last step of Lab9 is to load the saved model. Perform TASK 5 to load and check the loaded model. "
      ],
      "metadata": {
        "id": "hO3xr3y0CbXQ"
      }
    },
    {
      "cell_type": "markdown",
      "source": [
        "#### TASK 5\n",
        "\n",
        "1.\tAt the end of the sample code after you save the model, add a Cell code. \n",
        "2.\tWrite the code in the cell below. \n",
        "\n",
        "---\n",
        "\n",
        "**Jupyter - Load and check hte model**\n",
        "\n",
        "```\n",
        "## reload your model \n",
        "reloaded = tf.keras.models.load_model(export_path) \n",
        "## Test your data! \n",
        "check_data = tensorNormalization(input_feature) \n",
        "predict(reloaded, check_data, threshold) \n",
        "\n",
        "```\n",
        "\n",
        "---\n",
        "\n",
        "3.\tIf you perform all correctly, you will see the output you will see the output cell as Figure 7. \n",
        "\n",
        "After performing the steps above, attach the output cell as Figure 7 to the report. Explain the output cell. What are the outputs meaning? Are they as expected? \n",
        "\n",
        "![picture](https://github.com/hewp84/tinyml/blob/main/img/L9_Figure7.png?raw=true)\n",
        "\n",
        "*Figure 7 Output after loading and checking saved model*\n",
        "\n",
        "Based on the sample code given, try different input features, hyper-parameters, and variables to create the best model! \n"
      ],
      "metadata": {
        "id": "fkIe3h3GCk_v"
      }
    },
    {
      "cell_type": "markdown",
      "source": [
        "## Deliverable\n",
        "\n",
        "1.\tPerform all Tasks and submit your Lab9 report on Brightspace before Lab 10. \n",
        "2.\tSummarize Lab 9 what you performed and learned.\n",
        "  * Use any photos, figures, tables, and equations if needed. \n",
        "3.\tWhich axis acceleration data is the best for anomaly detection? \n",
        "\n",
        "  a.\tJustify your decision based on the performance of the model and in terms of a mechanical approach. \n",
        "4.\tWhich feature among raw, time domain, and frequency domain is the best for anomaly detection? \n",
        "\n",
        "  a.\tJustify your decision based on the performance of the model and in terms of a mechanical approach. \n",
        "5.\tHow to improve the model? \n",
        "\n",
        "  a.\tTry to change Embedding size, and other hyper-parameters and then explain the results. \n",
        "6.\tSave the finally selected model and evaluate it. \n",
        "  \n",
        "  a.\tYou must note the created folder and the threshold for your final model to use in Lab10 on Raspberry Pi. \n",
        "7.\tFurther discussion: Explain how to utilize all axis data to a model. \n"
      ],
      "metadata": {
        "id": "xFq-8F-9CoP4"
      }
    }
  ]
}