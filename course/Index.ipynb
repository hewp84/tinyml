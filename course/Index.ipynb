{
  "nbformat": 4,
  "nbformat_minor": 0,
  "metadata": {
    "colab": {
      "name": "Index.ipynb",
      "provenance": [],
      "toc_visible": true,
      "collapsed_sections": [],
      "authorship_tag": "ABX9TyMjuKmQDibgnU9do3zkxU1j",
      "include_colab_link": true
    },
    "kernelspec": {
      "name": "python3",
      "display_name": "Python 3"
    },
    "language_info": {
      "name": "python"
    }
  },
  "cells": [
    {
      "cell_type": "markdown",
      "metadata": {
        "id": "view-in-github",
        "colab_type": "text"
      },
      "source": [
        "<a href=\"https://colab.research.google.com/github/hewp84/tinyml/blob/main/course/Index.ipynb\" target=\"_parent\"><img src=\"https://colab.research.google.com/assets/colab-badge.svg\" alt=\"Open In Colab\"/></a>"
      ]
    },
    {
      "cell_type": "markdown",
      "source": [
        "<table><tr>\n",
        "    <td  style=\"background-color:#ffffff;text-align:left;\"><a href=\"http://www.purdue.edu\" target=\"_blank\"><img src=\"https://github.com/hewp84/tinyml/blob/main/img/Logo-Purdue-University.png?raw=1\" width=\"30%\" align=\"left\"></a></td>\n",
        "    <td style=\"background-color:#ffffff;\">&nbsp;</td>\n",
        "    <td style=\"background-color:#ffffff;vertical-align:text-middle;text-align:right;\">\n",
        "        <table><tr style=\"background-color:white;\">\n",
        "            <td><h1 style=\"font-size:10vw\">TinyML for Manufacturing</h1></td>\n",
        "            <td>\n",
        "        </tr></table>\n",
        "    </td>     \n",
        "</tr></table>"
      ],
      "metadata": {
        "id": "kA7Ug5PpWzut"
      }
    },
    {
      "cell_type": "markdown",
      "source": [
        "<h1>Learning TinyML</h1>\n",
        "\n",
        "This self contained course will guide you through the process of learning TinyML applied to manufacturing."
      ],
      "metadata": {
        "id": "Al70SOqGOxaV"
      }
    },
    {
      "cell_type": "markdown",
      "source": [
        "## Overview of the course\n",
        "\n",
        "\n",
        "Through lab sessions, you will perform a series of hands-on activities, and mainly learn tangible practical skills \n",
        "for implementation of IIoT (Industrial Internet of Things) The lab sessions will be broken down into four main \n",
        "parts as followed.\n",
        "\n",
        "\n",
        "\n",
        "1. Data collection: IoT sensor connectivity, and communication\n",
        "\n",
        "  a. Sensors: temperature, humidity, and accelerometer\n",
        "\n",
        "  b. Other IoT devices: power meter (Modbus protocol), CNC machine controller (TCP/IP)\n",
        "  \n",
        "  c. Target machines: Vacuum pump system, and axial flow fan\n",
        "\n",
        "2. Middleware: MTConnect\n",
        "\n",
        "  a. Data agent: local data server\n",
        "\n",
        "  b. Data adapter: data pushing from sensor to agent\n",
        "\n",
        "3. Database\n",
        "\n",
        "  a. SQL database\n",
        "\n",
        "  b. Web-based dashboard (Grafana Interface)\n",
        "\n",
        "4. Machine Learning\n",
        "\n",
        "  a. Artificial Nueral Network\n",
        "\n",
        "  b. Classification and regression\n",
        "\n",
        "\n",
        "\n",
        "At the end of this semester, it is expected that for implementation of IoT solution you can be equipped with \n",
        "abilities as followed: 1) selecting and deploying appropriate IoT devices, 2) building up middleware for \n",
        "aggregating data, 3) constructing database, 4) developing a machine learning model, and 5) visualizing data."
      ],
      "metadata": {
        "id": "EFr4AUf1Ebm_"
      }
    },
    {
      "cell_type": "markdown",
      "source": [
        "## Grading\n",
        "\n",
        "The grading rule of prelab and lab reports is basically subtracting scores from the maximum. Each TASK is \n",
        "worth 2 to 5 pt credit. The maximum score of the prelab and lab reports is 10 pt each. Please do not miss any \n",
        "lab. If you skip a lab, it is hard to catch up with the following labs. You should submit each assignment in time via \n",
        "Brightspace. No late submissions are accepted without the agreement of the instructor and TA. The due date rule is 1) the prelab report due date is before the lab and 2) the lab report due date is before the next lab. For \n",
        "example, if Lab 1 and Lab 2 start at 3:00 pm on Jan. 21 and Jan. 28, respectively, the Prelab1 report due is before \n",
        "3:00 pm on Jan. 21, and the Lab1 and Prelab2 report due is before 3:00 pm on Jan. 28. But each assignment due \n",
        "will be posted on Brightspace."
      ],
      "metadata": {
        "id": "Vtfqfe6zFPHF"
      }
    },
    {
      "cell_type": "markdown",
      "source": [
        "## **Getting started**\n",
        "\n",
        "The document you are reading is not a static web page, but an interactive environment called a **Colab notebook** that lets you write and execute code.\n",
        "\n",
        "For example, here is a **code cell** with a short Python script that computes a value, stores it in a variable, and prints the result:"
      ],
      "metadata": {
        "id": "tJFL3TpFPaIG"
      }
    },
    {
      "cell_type": "code",
      "source": [
        "ft_in_a_mile = 1760*3\n",
        "ft_in_a_mile"
      ],
      "metadata": {
        "colab": {
          "base_uri": "https://localhost:8080/"
        },
        "id": "pIk2dDwZO4je",
        "outputId": "182d1402-6e4e-436c-b896-0e085e5973b6"
      },
      "execution_count": null,
      "outputs": [
        {
          "output_type": "execute_result",
          "data": {
            "text/plain": [
              "5280"
            ]
          },
          "metadata": {},
          "execution_count": 1
        }
      ]
    },
    {
      "cell_type": "markdown",
      "source": [
        "To execute the code in the above cell, select it with a click and then either press the play button to the left of the code, or use the keyboard shortcut \"Command/Ctrl+Enter\". To edit the code, just click the cell and start editing.\n",
        "\n",
        "Variables that you define in one cell can later be used in other cells:"
      ],
      "metadata": {
        "id": "yJu5v6m5QlpS"
      }
    },
    {
      "cell_type": "code",
      "source": [
        "inches_in_a_mile = ft_in_a_mile * 12\n",
        "inches_in_a_mile"
      ],
      "metadata": {
        "id": "p69bGVwNOs9S"
      },
      "execution_count": null,
      "outputs": []
    },
    {
      "cell_type": "markdown",
      "source": [
        "## Table of Content\n",
        "---\n",
        "### **Introduction / Lab 0**\n",
        "\n",
        "[Intro to Colab Notebooks]() &nbsp;|&nbsp;\n",
        "[Basics of Python]() &nbsp;|&nbsp;\n",
        "[Conditionals](python/Python16_Basics_Conditionals.ipynb) &nbsp;|&nbsp;\n",
        "[Lists](python/Python20_Basics_Lists.ipynb)\n",
        "\n",
        "---\n",
        "### **Lab 1 section**\n",
        "#### Prelab 1 activity\n",
        "[PL1 Colab 1](2_1_TinymlParadigm.ipynb) &nbsp;|&nbsp;\n",
        "[PL1 Colab 2](Simple_Model.ipynb) &nbsp;|&nbsp;\n",
        "[PL1 Colab 3]() &nbsp;|&nbsp;\n",
        "[PL1 Colab 4]() &nbsp;|&nbsp;\n",
        "\n",
        "#### Lab 1 activity\n",
        "[L1 Colab 1](2_1_TinymlParadigm.ipynb) &nbsp;|&nbsp;\n",
        "\n",
        "---\n",
        "### **Lab 2 section**\n",
        "#### Prelab 2 activity\n",
        "[PL2 Colab 1](2_1_TinymlParadigm.ipynb) &nbsp;|&nbsp;\n",
        "[PL2 Colab 2](Simple_Model.ipynb) &nbsp;|&nbsp;\n",
        "\n",
        "#### Lab 2 activity\n",
        "[L2 Colab 1](2_1_TinymlParadigm.ipynb) &nbsp;|&nbsp;\n",
        "\n",
        "---\n",
        "\n",
        "### **Lab 3 section**\n",
        "#### Prelab 2 activity\n",
        "[PL3 Colab 1](2_1_TinymlParadigm.ipynb) &nbsp;|&nbsp;\n",
        "[PL3 Colab 2](Simple_Model.ipynb) &nbsp;|&nbsp;\n",
        "\n",
        "#### Lab 2 activity\n",
        "[L3 Colab 1](2_1_TinymlParadigm.ipynb) &nbsp;|&nbsp;\n",
        "[L3 Colab 2](2_1_TinymlParadigm.ipynb) &nbsp;|&nbsp;\n",
        "[L3 Colab 3](2_1_TinymlParadigm.ipynb) &nbsp;|&nbsp;"
      ],
      "metadata": {
        "id": "GTdKXhAOSfQi"
      }
    }
  ]
}