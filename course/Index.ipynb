{
  "nbformat": 4,
  "nbformat_minor": 0,
  "metadata": {
    "colab": {
      "name": "Index.ipynb",
      "provenance": [],
      "collapsed_sections": [],
      "include_colab_link": true
    },
    "kernelspec": {
      "name": "python3",
      "display_name": "Python 3"
    },
    "language_info": {
      "name": "python"
    }
  },
  "cells": [
    {
      "cell_type": "markdown",
      "metadata": {
        "id": "view-in-github",
        "colab_type": "text"
      },
      "source": [
        "<a href=\"https://colab.research.google.com/github/hewp84/tinyml/blob/main/course/Index.ipynb\" target=\"_parent\"><img src=\"https://colab.research.google.com/assets/colab-badge.svg\" alt=\"Open In Colab\"/></a>"
      ]
    },
    {
      "cell_type": "markdown",
      "source": [
        "<table><tr>\n",
        "    <td  style=\"background-color:#ffffff;text-align:left;\"><a href=\"http://www.purdue.edu\" target=\"_blank\"><img src=\"https://github.com/hewp84/tinyml/blob/main/img/Logo-Purdue-University.png?raw=1\" width=\"30%\" align=\"left\"></a></td>\n",
        "    <td style=\"background-color:#ffffff;\">&nbsp;</td>\n",
        "    <td style=\"background-color:#ffffff;vertical-align:text-middle;text-align:right;\">\n",
        "        <table><tr style=\"background-color:white;\">\n",
        "            <td><h1 style=\"font-size:10vw\">TinyML for Manufacturing</h1></td>\n",
        "            <td>\n",
        "        </tr></table>\n",
        "    </td>     \n",
        "</tr></table>"
      ],
      "metadata": {
        "id": "kA7Ug5PpWzut"
      }
    },
    {
      "cell_type": "markdown",
      "source": [
        "<h1>Learning TinyML</h1>\n",
        "\n",
        "This self contained course will guide you through the process of learning TinyML applied to manufacturing."
      ],
      "metadata": {
        "id": "Al70SOqGOxaV"
      }
    },
    {
      "cell_type": "markdown",
      "source": [
        "## Overview of the course\n",
        "\n",
        "\n",
        "Through lab sessions, you will perform a series of hands-on activities, and mainly learn tangible practical skills \n",
        "for implementation of IIoT (Industrial Internet of Things) The lab sessions will be broken down into four main \n",
        "parts as followed.\n",
        "\n",
        "\n",
        "\n",
        "1. Data collection: IoT sensor connectivity, and communication\n",
        "\n",
        "  a. Sensors: temperature, humidity, and accelerometer\n",
        "\n",
        "  b. Other IoT devices: power meter (Modbus protocol), CNC machine controller (TCP/IP)\n",
        "  \n",
        "  c. Target machines: Vacuum pump system, and axial flow fan\n",
        "\n",
        "2. Middleware: MTConnect\n",
        "\n",
        "  a. Data agent: local data server\n",
        "\n",
        "  b. Data adapter: data pushing from sensor to agent\n",
        "\n",
        "3. Database\n",
        "\n",
        "  a. SQL database\n",
        "\n",
        "  b. Web-based dashboard (Grafana Interface)\n",
        "\n",
        "4. Machine Learning\n",
        "\n",
        "  a. Artificial Nueral Network\n",
        "\n",
        "  b. Classification and regression\n",
        "\n",
        "\n",
        "\n",
        "At the end of this semester, it is expected that for implementation of IoT solution you can be equipped with \n",
        "abilities as followed: 1) selecting and deploying appropriate IoT devices, 2) building up middleware for \n",
        "aggregating data, 3) constructing database, 4) developing a machine learning model, and 5) visualizing data."
      ],
      "metadata": {
        "id": "EFr4AUf1Ebm_"
      }
    },
    {
      "cell_type": "markdown",
      "source": [
        "## Grading\n",
        "\n",
        "The grading rule of prelab and lab reports is basically subtracting scores from the maximum. Each TASK is \n",
        "worth 2 to 5 pt credit. The maximum score of the prelab and lab reports is 10 pt each. Please do not miss any \n",
        "lab. If you skip a lab, it is hard to catch up with the following labs. You should submit each assignment in time via \n",
        "Brightspace. No late submissions are accepted without the agreement of the instructor and TA. The due date rule is 1) the prelab report due date is before the lab and 2) the lab report due date is before the next lab. For \n",
        "example, if Lab 1 and Lab 2 start at 3:00 pm on Jan. 21 and Jan. 28, respectively, the Prelab1 report due is before \n",
        "3:00 pm on Jan. 21, and the Lab1 and Prelab2 report due is before 3:00 pm on Jan. 28. But each assignment due \n",
        "will be posted on Brightspace."
      ],
      "metadata": {
        "id": "Vtfqfe6zFPHF"
      }
    },
    {
      "cell_type": "markdown",
      "source": [
        "## **Getting started**\n",
        "\n",
        "The document you are reading is not a static web page, but an interactive environment called a **Colab notebook** that lets you write and execute code.\n",
        "\n",
        "For example, here is a **code cell** with a short Python script that computes a value, stores it in a variable, and prints the result:"
      ],
      "metadata": {
        "id": "tJFL3TpFPaIG"
      }
    },
    {
      "cell_type": "code",
      "source": [
        "ft_in_a_mile = 1760*3\n",
        "ft_in_a_mile"
      ],
      "metadata": {
        "colab": {
          "base_uri": "https://localhost:8080/"
        },
        "id": "pIk2dDwZO4je",
        "outputId": "182d1402-6e4e-436c-b896-0e085e5973b6"
      },
      "execution_count": null,
      "outputs": [
        {
          "output_type": "execute_result",
          "data": {
            "text/plain": [
              "5280"
            ]
          },
          "metadata": {},
          "execution_count": 1
        }
      ]
    },
    {
      "cell_type": "markdown",
      "source": [
        "To execute the code in the above cell, select it with a click and then either press the play button to the left of the code, or use the keyboard shortcut \"Command/Ctrl+Enter\". To edit the code, just click the cell and start editing.\n",
        "\n",
        "Variables that you define in one cell can later be used in other cells:"
      ],
      "metadata": {
        "id": "yJu5v6m5QlpS"
      }
    },
    {
      "cell_type": "code",
      "source": [
        "inches_in_a_mile = ft_in_a_mile * 12\n",
        "inches_in_a_mile"
      ],
      "metadata": {
        "id": "p69bGVwNOs9S"
      },
      "execution_count": null,
      "outputs": []
    },
    {
      "cell_type": "markdown",
      "source": [
        "## Nomenclature\n",
        "\n",
        "Throughout the lab material, you will often work through multiple colab notebooks for each lab. For notebook organization, the following numbering scheme was used:\n",
        "\n",
        "**For the title**: Lab [lab number].[colab notebook #]\n",
        "\n",
        "**For sections within each lab**: [colab notebook #].[section #]\n",
        "\n",
        "**For tasks**: [colab notebook #].[Task #]\n",
        "\n",
        "For example, \n",
        "\n",
        "*Prelab 1.1; Prelab 1.2; Prelab 1.3; and Prelab 1.4* are all Prelab 1, seperated into multiple colab notebooks to help distinguish parts of the lab. Then, inside of Prelab 1.3, there is heading 3.1 which defines part 1, inside of colab 3. Then, Task 3.1.\n"
      ],
      "metadata": {
        "id": "IzVgqZBYDxCy"
      }
    },
    {
      "cell_type": "markdown",
      "source": [
        "## Table of Content\n",
        "---\n",
        "### **Introduction / Lab 0**\n",
        "\n",
        "[Intro to Colab Notebooks](lab0/Introduction_to_Colab_Notebooks.ipynb) &nbsp;|&nbsp;\n",
        "[Basics of Python](lab0/Basics_of_Python.ipynb) &nbsp;|&nbsp;\n",
        "\n",
        "---\n",
        "### **Lab 1 - Edge Computer & Headless Environment Setup**\n",
        "#### Prelab 1 activity\n",
        "[PL1 Colab 1](lab1/PL1_Colab1.ipynb) &nbsp;|&nbsp;\n",
        "[PL1 Colab 2](lab1/PL1_Colab2.ipynb) &nbsp;|&nbsp;\n",
        "[PL1 Colab 3](lab1/PL1_Colab3.ipynb) &nbsp;|&nbsp;\n",
        "[PL1 Colab 4](lab1/PL1_Colab4.ipynb) &nbsp;|&nbsp;\n",
        "\n",
        "#### Lab 1 activity\n",
        "[L1 Colab 1](lab1/L1_Colab1.ipynb) &nbsp;|&nbsp;\n",
        "\n",
        "---\n",
        "### **Lab 2 - IoT Sensor Data Collection: Humidity & Temperature**\n",
        "#### Prelab 2 activity\n",
        "[PL2 Colab 1](lab2/PL2_Colab1.ipynb) &nbsp;|&nbsp;\n",
        "[PL2 Colab 2](lab2/PL2_Colab1.ipynb) &nbsp;|&nbsp;\n",
        "\n",
        "#### Lab 2 activity\n",
        "[L2 Colab 1](lab2/L2_Colab1.ipynb) &nbsp;|&nbsp;\n",
        "[L2 Colab 2](lab2/L2_Colab2.ipynb) &nbsp;|&nbsp;\n",
        "\n",
        "---\n",
        "\n",
        "### **Lab 3 - IoT Sensor Data Collection: Accelerometer & Signal processing**\n",
        "#### Prelab 3 activity\n",
        "[PL3 Colab 1](lab3/PL3_Colab1.ipynb) &nbsp;|&nbsp;\n",
        "[PL3 Colab 2](lab3/PL3_Colab2.ipynb) &nbsp;|&nbsp;\n",
        "\n",
        "#### Lab 3 activity\n",
        "[L3 Colab 1](lab3/L3_Colab1.ipynb) &nbsp;|&nbsp;\n",
        "[L3 Colab 2](lab3/L3_Colab2.ipynb) &nbsp;|&nbsp;\n",
        "[L3 Colab 3](lab3/L3_Colab3.ipynb) &nbsp;|&nbsp;\n",
        "\n",
        "---\n",
        "\n",
        "### **Lab 4 - IoT Sensor Data Collection: Power Meter & CNC**\n",
        "#### Prelab 4 activity\n",
        "[PL4 Colab 1](lab4/PL4_Colab1.ipynb) &nbsp;|&nbsp;\n",
        "\n",
        "#### Lab 4 activity\n",
        "[L4 Colab 1](lab4/L4_Colab1.ipynb) &nbsp;|&nbsp;\n",
        "[L4 Colab 2](lab4/L4_Colab2.ipynb) &nbsp;|&nbsp;\n",
        "[L4 Colab 3](lab4/L4_Colab3.ipynb) &nbsp;|&nbsp;\n",
        "\n",
        "---\n",
        "\n",
        "### **Lab 5 - Middleware: MTConnect Agent**\n",
        "#### Prelab 5 activity\n",
        "[PL5 Colab 1](lab5/PL5_Colab1.ipynb) &nbsp;|&nbsp;\n",
        "\n",
        "#### Lab 5 activity\n",
        "[L5 Colab 1](lab5/L5_Colab1.ipynb) &nbsp;|&nbsp;\n",
        "[L5 Colab 2](lab5/L5_Colab2.ipynb) &nbsp;|&nbsp;\n",
        "[L5 Colab 3](lab5/L5_Colab3.ipynb) &nbsp;|&nbsp;\n",
        "\n",
        "---\n",
        "\n",
        "### **Lab 6 - Middleware: MTConnect Adapter**\n",
        "#### Prelab 6 activity\n",
        "[PL6 Colab 1](lab6/PL6_Colab1.ipynb) &nbsp;|&nbsp;\n",
        "\n",
        "#### Lab 6 activity\n",
        "[L6 Colab 1](lab6/L6_Colab1.ipynb) &nbsp;|&nbsp;\n",
        "[L6 Colab 2](lab6/L6_Colab2.ipynb) &nbsp;|&nbsp;\n",
        "[L6 Colab 3](lab6/L6_Colab3.ipynb) &nbsp;|&nbsp;\n",
        "\n",
        "---\n",
        "\n",
        "### **Lab 7 - Database & Visualization: SQL Database**\n",
        "#### Prelab 7 activity\n",
        "[PL7 Colab 1](lab7/PL7_Colab1.ipynb) &nbsp;|&nbsp;\n",
        "\n",
        "#### Lab 7 activity\n",
        "[L7 Colab 1](lab7/L7_Colab1.ipynb) &nbsp;|&nbsp;\n",
        "[L7 Colab 2](lab7/L7_Colab2.ipynb) &nbsp;|&nbsp;\n",
        "\n",
        "---\n",
        "\n",
        "### **Lab 8 - Database & Visualization: Grafana Dashboard**\n",
        "#### Prelab 8 activity\n",
        "[PL8 Colab 1](lab8/PL8_Colab1.ipynb) &nbsp;|&nbsp;\n",
        "\n",
        "#### Lab 8 activity\n",
        "[L8 Colab 1](lab8/L8_Colab1.ipynb) &nbsp;|&nbsp;\n",
        "[L8 Colab 2](lab8/L8_Colab2.ipynb) &nbsp;|&nbsp;"
      ],
      "metadata": {
        "id": "GTdKXhAOSfQi"
      }
    }
  ]
}