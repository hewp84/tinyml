{
  "nbformat": 4,
  "nbformat_minor": 0,
  "metadata": {
    "colab": {
      "name": "PL1_Colab1",
      "provenance": [],
      "include_colab_link": true
    },
    "kernelspec": {
      "name": "python3",
      "display_name": "Python 3"
    },
    "language_info": {
      "name": "python"
    }
  },
  "cells": [
    {
      "cell_type": "markdown",
      "metadata": {
        "id": "view-in-github",
        "colab_type": "text"
      },
      "source": [
        "<a href=\"https://colab.research.google.com/github/hewp84/tinyml/blob/main/course/lab1/PL1_Colab1.ipynb\" target=\"_parent\"><img src=\"https://colab.research.google.com/assets/colab-badge.svg\" alt=\"Open In Colab\"/></a>"
      ]
    },
    {
      "cell_type": "markdown",
      "source": [
        "#Prelab 1.1 Introduction"
      ],
      "metadata": {
        "id": "iVWfyXRRENQk"
      }
    },
    {
      "cell_type": "markdown",
      "source": [
        "## 1.1 Notation and rule\n",
        "\n",
        "In the lab manuals, variables, menu, filename, command, code, and so on are written in a tilted font within \n",
        "single quotation marks (like ‘example‘) to distinguish other text in the manual. Command for figuring out the IP \n",
        "address of Windows computer, for example, instruction will be 1) Open ‘Command Prompt’, 2) Type ‘ipconfig’. \n",
        "Or it is instructed as followed so that you can copy and paste the command when it is too long and complicated. \n",
        "Tips or comments will be given after a bullet point or pound mark (#).\n",
        "\n",
        "---\n",
        "**Windows - Command Prompt**\n",
        "\n",
        "`ipconfig`\n",
        "\n",
        "---\n",
        "\n",
        "![picture](https://github.com/hewp84/tinyml/blob/main/img/PL1_Figure2.png?raw=true)\n",
        "\n",
        "*Figure 2 Check IP address using Windows Command Prompt*\n",
        "\n",
        "In case of Raspberry Pi, your IP address can be checked by 1) Open *'Terminal'*, 2) Type *'ifconifg'.\n",
        "\n",
        "---\n",
        "**Raspberry Pi - Linux - Terminal**\n",
        "\n",
        "`ifconfig`\n",
        "\n",
        "---\n",
        "\n",
        "![picture](https://github.com/hewp84/tinyml/blob/main/img/PL1_Figure3.png?raw=true)\n",
        "\n",
        "*Figure 3 Check IP address of Raspberry Pi Terminal*\n",
        "\n"
      ],
      "metadata": {
        "id": "z87U-_qAEjyH"
      }
    },
    {
      "cell_type": "markdown",
      "source": [
        "In the prelab and lab manuals, there will be 'Task' directions. You should include TASK outcomes or answers \n",
        "to the question according to the directions in your prelab and lab report. You do not need to complete these, but an example of TASK is shown below.\n",
        "\n",
        "### Example:\n",
        "\n",
        "### Task 1"
      ],
      "metadata": {
        "id": "tt_RBeAWFB7Z"
      }
    },
    {
      "cell_type": "code",
      "source": [
        "#@title 1) Capture your Terminal window and attach it to the report below: {display-mode: \"form\"}"
      ],
      "metadata": {
        "id": "IzIYDTzmFIls"
      },
      "execution_count": null,
      "outputs": []
    },
    {
      "cell_type": "markdown",
      "source": [
        "Paste here:"
      ],
      "metadata": {
        "id": "SzrEepAaFJhR"
      }
    },
    {
      "cell_type": "code",
      "source": [
        ""
      ],
      "metadata": {
        "id": "8JmCznSpFQ_m"
      },
      "execution_count": null,
      "outputs": []
    },
    {
      "cell_type": "code",
      "source": [
        "#@title 2) What is your IP address? {display-mode: \"form\"}\n",
        "T1 = '' #@param {type:\"string\"}\n",
        "print(T1)"
      ],
      "metadata": {
        "id": "6pTQlQ9DFLit"
      },
      "execution_count": null,
      "outputs": []
    }
  ]
}