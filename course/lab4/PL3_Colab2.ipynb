{
  "nbformat": 4,
  "nbformat_minor": 0,
  "metadata": {
    "colab": {
      "name": "PL3_Colab2",
      "provenance": [],
      "collapsed_sections": [],
      "include_colab_link": true
    },
    "kernelspec": {
      "name": "python3",
      "display_name": "Python 3"
    },
    "language_info": {
      "name": "python"
    }
  },
  "cells": [
    {
      "cell_type": "markdown",
      "metadata": {
        "id": "view-in-github",
        "colab_type": "text"
      },
      "source": [
        "<a href=\"https://colab.research.google.com/github/hewp84/tinyml/blob/main/course/lab4/PL3_Colab2.ipynb\" target=\"_parent\"><img src=\"https://colab.research.google.com/assets/colab-badge.svg\" alt=\"Open In Colab\"/></a>"
      ]
    },
    {
      "cell_type": "markdown",
      "source": [
        "# Prelab 3.2 Signal processing, visualization, time and frequency domain practice\n"
      ],
      "metadata": {
        "id": "cWq02gZZN6kF"
      }
    },
    {
      "cell_type": "markdown",
      "source": [
        "## 2.1 Sample signal processing and visualization practice\n",
        "\n",
        "For practicing signal processing and visualization, let’s first create signals. The sample code for generating and visualization of signals is uploaded on Brightspace (prelab3_signal_processing_sample.py). The scenario is that sampling frequency (f<sub>s</sub>), sampling period (T), and number of samples (N) are 100 Hz, 0.01 sec-1, and 100, respectively. Therefore, total length of the signal is 100 for 1 second. The sample signal (x) are combinations of three signals (x<sub>1</sub>, x<sub>2</sub>, and x<sub>noise</sub>). The first signal, x<sub>1</sub>, is sine wave signal with 10 Hz main frequency and amplitude 2. The second signal, x<sub>2</sub>, is cosine wave signal with 15 Hz main frequency and amplitude 1.5. The third signal, x<sub>noise</sub>, is random signal of normal distribution from 0 to 0.3. By summing three signals, x can be defined as Eq. (1). \n",
        "\n",
        "(1): \n",
        "\n",
        "---\n",
        "$x[n] = x_{1}[n] + x_{2}[n] + x_{noise}[n]$\n",
        "\n",
        "---\n",
        "\n",
        "where n is sample index. By using Matplotlib library of Python, signals in time domain are plotted as Figure 4 and Figure 5. Run the sample code and check the plots. \n",
        "\n",
        "![picture](https://github.com/hewp84/tinyml/blob/main/img/PL3_Figure4.jpg?raw=true)\n",
        "\n",
        "*Figure 4 Time domain plot 1 of each signal*\n",
        "\n",
        "![picture](https://github.com/hewp84/tinyml/blob/main/img/PL3_Figure5.jpg?raw=true)\n",
        "\n",
        "*Figure 5 Time domain plot 2 of combined signal*\n",
        "\n",
        "\n",
        "---\n",
        "**Python - Python3 (Signal plotting code)**\n",
        "\n",
        "Please run the code below in Google Colab to practice plotting the visualization.\n",
        "\n",
        "---\n"
      ],
      "metadata": {
        "id": "9Rtc6HAA32T6"
      }
    },
    {
      "cell_type": "code",
      "source": [
        "import numpy as np\n",
        "import matplotlib\n",
        "#matplotlib.use('tkagg')\n",
        "import matplotlib.pyplot as plt\n",
        "\n",
        "fs = 100 # sampling frequency, fs = 100 Hz\n",
        "T = 1/fs # sampling period, T = 1/100 [sec^-1]\n",
        "N = 100 # number of samples\n",
        "\n",
        "f1 = 10 # main frequency 1, f1 = 10 Hz\n",
        "f2 = 25 # main frequency 2, f2 = 15 Hz\n",
        "\n",
        "t = np.linspace(0, N*T, N, endpoint=False) # define time vector, t\n",
        "x1 = 2 * np.sin(f1 * 2 * np.pi * t) # signal 1, amplitude = 2, frequency = f1\n",
        "x2 = 1.5 * np.cos(f2 * 2 * np.pi * t) # signal 2, amplidue = 1.5, frequency = f2\n",
        "noise = np.random.normal(0,0.3,N) # noise, random value normal distribution from 0 to 0.3\n",
        "x =  x1 + x2 + noise # define signal vector, x\n",
        "\n",
        "# plot each signal\n",
        "fig1 = plt.figure(1)\n",
        "ax1 = fig1.gca()\n",
        "ax1.plot(t, x1)\n",
        "ax1.plot(t, x2)\n",
        "ax1.plot(t, noise)\n",
        "ax1.legend([\"x1\", \"x2\", \"noise\"])\n",
        "ax1.set_xlabel(\"Time [sec]\")\n",
        "ax1.set_ylabel(\"Signal amplitude\")\n",
        "ax1.set_title(\"Time domain 1: Each signal\")\n",
        "\n",
        "# plot summation of all signal, output signal x\n",
        "fig2 = plt.figure(2)\n",
        "ax2 = fig2.gca()\n",
        "ax2.plot(t, x)\n",
        "ax2.set_xlabel(\"Time [sec]\")\n",
        "ax2.set_ylabel(\"Signal amplitude\")\n",
        "ax2.set_title(\"Time domain 2: Signal x\")\n",
        "\n",
        "plt.show()"
      ],
      "metadata": {
        "id": "WH3-rotWJj6K"
      },
      "execution_count": null,
      "outputs": []
    },
    {
      "cell_type": "markdown",
      "source": [
        "### Task 2.1\n",
        "\n",
        "Modify the code above and experiment with the different parameters given below. In the Code Cell below, copy and paste the code, modify the parameters, and you can run the plt.show() function to plot the graphs.\n",
        "\n",
        "1. Change amplitude and main frequency of signal 1, x<sub>1</sub>, to 3 and 20 Hz, respectively.\n",
        "2. Change amplitude and main frequency of signal 2, x<sub>2</sub>, to 2 and 30 Hz, respectively.\n",
        "3. Change random noise signal, x<sub>noise</sub>, distribution from 0 to 0.5.\n",
        "4. Add your name at the end of the title of each plot (e.g., ‘Time domain 1: Each signal, John Doe’)"
      ],
      "metadata": {
        "id": "mA10mkRy6BBD"
      }
    },
    {
      "cell_type": "code",
      "source": [
        "#Write your code here.\n"
      ],
      "metadata": {
        "id": "cA1WgncySDLG"
      },
      "execution_count": null,
      "outputs": []
    },
    {
      "cell_type": "markdown",
      "source": [
        "## 2.2 Time domain\n",
        "\n",
        "Let’s try signal processing using Numpy and SciPy. First, time domain features are statistical analysis of data \n",
        "set. 7 selected features in time domain are shown in Table 1. These features are widely used for data analytics. \n",
        "Try to find the time domain features from the signal generated in PART 3. Keep the changed signal from TASK 3.\n",
        "\n",
        "\n",
        "*Table 1 Time-domain feature<sup>1</sup>*\n",
        "\n",
        "![picture](https://github.com/hewp84/tinyml/blob/main/img/PL3_Table1_2.png?raw=true)\n",
        "\n",
        "---\n",
        "<sup>1</sup>Lei, Yaguo, et al. \"New clustering algorithm-based fault diagnosis using compensation distance evaluation technique.\" Mechanical Systems and Signal Processing 22.2 (2008): 419-435. "
      ],
      "metadata": {
        "id": "KCMUs_fF7oG4"
      }
    },
    {
      "cell_type": "markdown",
      "source": [
        "### Task 2.2\n",
        "\n",
        "1. Using the code below, complete the formulas from Table 1 (above) using Python script.\n",
        "\n",
        "2. Find time domain features by using the code below with the data stored in the mixed signal variable 'x'. \n",
        "\n",
        "* Once you finish, you can execute them in this Colab notebbok. \n",
        "* As reminder, keep the changed values (amplitudes, main frequencies, and so on) from Task 1.\n",
        "\n",
        "![picture](https://github.com/hewp84/tinyml/blob/main/img/PL3_Figure6.jpg?raw=true)\n",
        "\n",
        "*Figure 6 Time domain features of example signal: terminal window (left) and Thonny shell (right)*\n"
      ],
      "metadata": {
        "id": "bl9g9XyN8jSP"
      }
    },
    {
      "cell_type": "code",
      "source": [
        "from scipy.stats import skew # package used to calculate skewness\n",
        "from scipy.stats import kurtosis # package used to calculate kurtosis\n",
        "import numpy as np # numpy can be used to calculate the necessary values below\n",
        "\n",
        "# Recall that data is saved in the signal variables: x1, x2, and x\n",
        "\n",
        "# Modify and write your code here to calculate these time domain features.\n",
        "\n",
        "#The first two metrics has been calculated. You can either complete the rest using this method or you can google numpy and scipy formulas\n",
        "\n",
        "#As you complete each metric, you can 'uncomment' each line to be executed as a code\n",
        "\n",
        "x_m = sum(x1)/len(x1) # mean \n",
        "x_std = np.sqrt(sum([(y - x_m) ** 2 for y in x1])/(len(x1)-1)) # standard \n",
        "#x_rms = # root mean square \n",
        "#x_peak = # peak \n",
        "#x_skew = # skewness \n",
        "#x_kurt = # kurtosis \n",
        "#x_cf = # crest factor \n",
        "\n",
        "\n",
        "print(\"1. Mean =\", x_m) \n",
        "print(\"2. Standard deviation =\", x_std) \n",
        "#print(\"3. Root mean square =\", x_rms) \n",
        "#print(\"4. Peak =\", x_peak) \n",
        "#print(\"5. Skewness =\", x_skew) \n",
        "#print(\"6. Kurtosis =\", x_kurt) \n",
        "#print(\"7. Crest factor =\", x_cf) \n"
      ],
      "metadata": {
        "id": "Wob2fZwwe124"
      },
      "execution_count": null,
      "outputs": []
    },
    {
      "cell_type": "markdown",
      "source": [
        "## 2.3 Frequency domain\n",
        "\n",
        "Frequency domain features and analysis refer to performing FFT (Fast Fourier Transform). FFT is a \n",
        "mathematical expression and algorithm which computes DFT (Discrete Fourier Transform) of a data set, so\u0002called Fourier analysis. It allows us to convert signals from the original domain, normally the time domain, to the \n",
        "frequency domain. The 1D (one-dimensional) DFT signal, y[k], of length-N sequence of signal from x[n] is defined \n",
        "as Eq. (2). The maximum frequency range of FFT from repetitive signals or oscillating systems is Nyquist \n",
        "frequency, f<sub>s</sub>/2.\n",
        "\n",
        "(2):\n",
        "\n",
        "---\n",
        " $y[k] = \\sum_{n=0}^{N-1}e^{-2\\pi j \\frac{kn}{N}}x[n]$\n",
        "\n",
        "---\n",
        "\n",
        "FFT is a useful method to analyze data in the frequency domain especially for high-frequency sampling data as well as image processing. If you are interested in further study and principle of FFT and frequency domain analysis, it is recommended to take courses, MA 511 - Linear Algebra with Application and ME 579 – Fourier Methods in Digital Signal Processing. Other common frequency domain analysis methods are Laplace transform (control systems), Z transform (discrete-time processing), Wavelet transform (image processing), and so on. But in the future lab, we will only use FFT for frequency domain analysis.\n"
      ],
      "metadata": {
        "id": "QEMITAcu-m1z"
      }
    },
    {
      "cell_type": "code",
      "source": [
        "#Here is a sample code to determine FFT for signal X2\n",
        "\n",
        "#First, import fft libraries\n",
        "from scipy.fft import fft, fftfreq\n",
        "\n",
        "# get_fft is a function to calculate FFT\n",
        "# Inputs:\n",
        "# x = # (signal array) \n",
        "# T (sampling period)\n",
        "# N (number of Samples)\n",
        "\n",
        "# Outputs:\n",
        "# f (frequency array)\n",
        "# y_mag (FFT magnitude array)\n",
        "\n",
        "#FFT function.\n",
        "def get_fft(x, T, N):\n",
        "    f = fftfreq(N, T)[:N//2]\n",
        "    y_mag = 2/N * np.abs(fft(x)[:N//2])\n",
        "    return f, y_mag\n",
        "\n",
        "#Output variables\n",
        "f_x, y_x = get_fft(x, T, N) #Signal x2 is been used\n",
        "\n",
        "#Plotting fft vs Hz\n",
        "fig2 = plt.figure(1)\n",
        "ax2 = fig2.gca()\n",
        "fig2.suptitle('Frequency domain')\n",
        "ax2.plot(f_x,y_x,'tab:blue')\n",
        "ax2.set_ylabel('|FFT| of x signal')\n",
        "ax2.set_xlabel('Frequency [Hz]')\n",
        "\n",
        "plt.show()"
      ],
      "metadata": {
        "id": "x6Xiyj0Mi3oi",
        "colab": {
          "base_uri": "https://localhost:8080/",
          "height": 308
        },
        "outputId": "90b24717-b1fd-4b82-c3e0-b7f8d06d1786"
      },
      "execution_count": null,
      "outputs": [
        {
          "output_type": "display_data",
          "data": {
            "text/plain": [
              "<Figure size 432x288 with 1 Axes>"
            ],
            "image/png": "[encoded data removed]"
          },
          "metadata": {
            "needs_background": "light"
          }
        }
      ]
    },
    {
      "cell_type": "markdown",
      "source": [
        "### Task 2.3\n",
        "\n",
        "1. Perform FFT from the example signal, x by using the coding space below.\n",
        "2. What is the range (min and max) of frequency in FFT?\n",
        "3. What are the two main frequencies? Are the results as expected?\n",
        "4. Change the title to 'Frequency domain --Your name--'\n",
        "\n",
        "Your graph should look like the one below\n",
        "\n",
        "\n",
        "![picture](https://github.com/hewp84/tinyml/blob/main/img/PL3_Figure7.jpg?raw=true)\n",
        "\n",
        "*Figure 7 Frequency domain plot of the example signal, x*"
      ],
      "metadata": {
        "id": "g3XLmXggC5eU"
      }
    },
    {
      "cell_type": "code",
      "source": [
        "#Insert your code for FFT here:\n",
        "#\n",
        "\n",
        "\n",
        "\n",
        "#"
      ],
      "metadata": {
        "id": "atyswquC4EXp"
      },
      "execution_count": null,
      "outputs": []
    }
  ]
}