{
  "nbformat": 4,
  "nbformat_minor": 0,
  "metadata": {
    "colab": {
      "name": "PL3_Colab1",
      "provenance": [],
      "include_colab_link": true
    },
    "kernelspec": {
      "name": "python3",
      "display_name": "Python 3"
    },
    "language_info": {
      "name": "python"
    }
  },
  "cells": [
    {
      "cell_type": "markdown",
      "metadata": {
        "id": "view-in-github",
        "colab_type": "text"
      },
      "source": [
        "<a href=\"https://colab.research.google.com/github/hewp84/tinyml/blob/main/course/lab3/PL3_Colab1.ipynb\" target=\"_parent\"><img src=\"https://colab.research.google.com/assets/colab-badge.svg\" alt=\"Open In Colab\"/></a>"
      ]
    },
    {
      "cell_type": "markdown",
      "source": [
        "# Prelab 3\n",
        "\n",
        "## More Raspberry Pi configuration and package installation"
      ],
      "metadata": {
        "id": "13tN86jELJgL"
      }
    },
    {
      "cell_type": "markdown",
      "source": [
        "## Introduction\n",
        "\n",
        "In Lab3, we will use a tri-axis MEMS (Micro-Electromechanical System) based accelerometer, ADXL345 module (https://www.analog.com/en/products/adxl345.html, available on Jan. 20, 2022 and the data sheet is uploaded on Brightspace), to measure accelerations of machinery. The ADXL345 is a cheap and low-power accelerometer with a high resolution (13-bit) measurement at up to ±16 g. Measurement is performed by digital output data formatted as 16bit and accessible through either an SPI (Serial Peripheral Interface) or I2C (or I2C, IIC, Inter-Integrated Circuit) digital interface. We will use the I2C method to access data of the sensor using Adafruit ADXL Python package (https://circuitpython.readthedocs.io/projects/adxl34x/en/latest/, available on Jan. 20, 2022). Also, signal processing of collected data is one of the major keys in data analytics. \n",
        "\n",
        "Prelab 3 is to prepare to use the ADXL345 sensor module and signal processing with visualization of signal in Raspberry Pi. For the signal processing, we will analyze data in both time-domain and frequency-domain. \n"
      ],
      "metadata": {
        "id": "fI96PR6a0eab"
      }
    },
    {
      "cell_type": "markdown",
      "source": [
        "## Part 1: Raspberry Pi configuration to enable I<sup>2</sup>C interface\n",
        "\n",
        "To access data from ADXL345, we will use I2C interface of Raspberry Pi. Please note, **part of this was completed in Prelab 1.** Continue to follow the procedure below for the remainder.\n",
        "\n",
        "1.\tClick ‘Menu’ \n",
        "2.\tDrop down ‘Preferences’ \n",
        "3.\tClick ‘Raspberry Pi configuration’ \n",
        "4.\tClick ‘Interfaces’ tab \n",
        "5.\tClick ‘Enable’ of ‘I2C’ as Figure 1. \n",
        "6.\tReboot Raspberry Pi \n",
        "\n",
        "![picture](https://github.com/hewp84/tinyml/blob/main/img/PL3_Figure1.png?raw=true)\n",
        "\n",
        "*Figure 1 Enabling I2C*\n",
        "\n",
        "<br></br>\n",
        "### Make sure Raspberry Pi up to date. And Install I2C package of Raspberry Pi. \n",
        "\n",
        "---\n",
        "**Raspberry Pi - Terminal**\n",
        "```\n",
        "sudo apt update \n",
        "sudo apt upgrade \n",
        "sudo apt install i2c-tools -y \n",
        "```\n",
        "\n",
        "---\n",
        "To check the I2C interface, you can use the command ‘sudo i2cdetect -y 1’ as below. Because there is no I2C interface connected now, the result will look like Figure 2. If you are interested in I2C communication protocol in detail, visit and go through Sparkfun tutorial for I2C (https://learn.sparkfun.com/tutorials/i2c/all, available on Jan. 20, 2022). \n",
        "\n",
        "---\n",
        "**Raspberry Pi - Terminal**\n",
        "\n",
        "`sudo i2cdetect -y 1`\n",
        "\n",
        "* If you have error and your Raspberry Pi is the very first version of Raspberry Pi (Raspberry Pi model B), ‘sudo i2cdetect -y 0’ will work. \n",
        "\n",
        "---\n",
        "\n",
        "![picture](https://github.com/hewp84/tinyml/blob/main/img/PL3_Figure2_2.png?raw=true)\n",
        "\n",
        "*Figure 2 Connected I2C interface check*"
      ],
      "metadata": {
        "id": "imL5sF010eJo"
      }
    },
    {
      "cell_type": "markdown",
      "source": [
        "### Task 1\n",
        "\n",
        "Capture your terminal window just like Figure 2 after checking I2C interface detection and attach to the report below:\n"
      ],
      "metadata": {
        "id": "qxRXMkDBd439"
      }
    },
    {
      "cell_type": "markdown",
      "source": [
        "\n",
        "---\n",
        "\n",
        "Place your screenshot in here.\n",
        "\n",
        "---"
      ],
      "metadata": {
        "id": "YJWY9nRWM_v6"
      }
    },
    {
      "cell_type": "markdown",
      "source": [
        "### Part 2: Installation of related Python packages\n",
        "\n",
        "To install the related Python packages for ADXL345 sensor and signal processing, run the installation command lines below. For signal processing, we will mainly use NumPy (https://numpy.org/) and SciPy \n",
        "(https://scipy.org/) libraries. Matplotlib (https://matplotlib.org/) is a powerful library to visualize data in Python. Both NumPy and SciPy are the fundamental Python libraries for scientific data analytics. Those are frequently used with machine learning applications as well. It is highly recommended to get familiar with those packages by trying tutorials available on the Internet. \n",
        "\n",
        "---\n",
        "**Raspberry Pi - Terminal**\n",
        "\n",
        "```\n",
        "sudo pip3 install smbus \n",
        "sudo pip3 install adafruit-circuitpython-ADXL34x \n",
        "# below are additional packages for signal processing and visualization. \n",
        "sudo pip3 install numpy \n",
        "sudo pip3 install scipy \n",
        "sudo pip3 install matplotlib \n",
        "# If error occurs when importing scipy, run the command below. \n",
        "sudo apt install libatlas-base-dev \n",
        "```\n",
        "\n",
        "---\n",
        "\n",
        "\n",
        "\n",
        "\n"
      ],
      "metadata": {
        "id": "-090UcBd2hIl"
      }
    },
    {
      "cell_type": "markdown",
      "source": [
        "#### TASK 2\n",
        "\n",
        "Run the command, `pip list`, and capture a screenshot of your terminal window just like Figure 3 below to see the installed ADXL34X package\n",
        "\n",
        "![picture](https://github.com/hewp84/tinyml/blob/main/img/PL3_Figure3.png?raw=true)\n",
        "\n",
        "*Figure 3 Terminal window to check the installed Python packages*\n",
        "\n",
        "\n",
        "\n"
      ],
      "metadata": {
        "id": "XLBXv3X33Hj3"
      }
    },
    {
      "cell_type": "markdown",
      "source": [
        "\n",
        "---\n",
        "\n",
        "Place your screenshot in here.\n",
        "\n",
        "---\n"
      ],
      "metadata": {
        "id": "K8p1RBrHNmMo"
      }
    }
  ]
}