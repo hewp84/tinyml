{
  "nbformat": 4,
  "nbformat_minor": 0,
  "metadata": {
    "colab": {
      "name": "L3_Colab3",
      "provenance": [],
      "include_colab_link": true
    },
    "kernelspec": {
      "name": "python3",
      "display_name": "Python 3"
    },
    "language_info": {
      "name": "python"
    }
  },
  "cells": [
    {
      "cell_type": "markdown",
      "metadata": {
        "id": "view-in-github",
        "colab_type": "text"
      },
      "source": [
        "<a href=\"https://colab.research.google.com/github/hewp84/tinyml/blob/main/course/lab3/L3_Colab3.ipynb\" target=\"_parent\"><img src=\"https://colab.research.google.com/assets/colab-badge.svg\" alt=\"Open In Colab\"/></a>"
      ]
    },
    {
      "cell_type": "markdown",
      "source": [
        "# Lab 3, Part 3: Time and frequency domain calculations and analysis"
      ],
      "metadata": {
        "id": "rLQg-6st1VpV"
      }
    },
    {
      "cell_type": "markdown",
      "source": [
        "##Learning Goals\n",
        "\n",
        "1.   Utilize time and frequency-domain tools to analyze real data graphs\n",
        "2.   Describe the steps to build a accelerometer that reads and processes data\n",
        "\n",
        "For this section of Lab 3, you will have to have in hand the csv files (highest rate outcome of 3200 Hz) from each activity: no fan, fan in normal condition, and  fan in anomolous condition"
      ],
      "metadata": {
        "id": "pUGVqjKhrXp0"
      }
    },
    {
      "cell_type": "markdown",
      "source": [
        "## Part 1: Signal Processing and plotting data\n",
        "\n",
        "### Reading a CSV file and plotting data\n",
        "\n",
        "In this part, we will read the saved CSV file in the previous part and then plot the data. The sample code, ‘lab3_sample5.py’ is given. It includes frequency domain transformations as well. However, the plotting part of the FFT signals is incomplete. You should finish the incomplete part. Please note that you must change the ‘filename’ variable according to the CSV file you saved in the previous part. By modifying and adding lines, try to calculate time domain features from each axis data in Table 1 in the Prelab3 manual, such as mean, standard deviation, root mean square, and so on.\n",
        "\n",
        "---\n",
        "\n",
        "**Python - Python3 (lab3_sample5.py)**\n",
        "```\n",
        "\n",
        "import matplotlib\n",
        "matplotlib.use('tkagg')\n",
        "import matplotlib.pyplot as plt\n",
        "import csv\n",
        "import numpy as np\n",
        "\n",
        "# You should change filename.\n",
        "filename = \"20220128_024155_lab3_part5.csv\"\n",
        "\n",
        "dt = [] # sampling period list, dt\n",
        "t = [] # time list, t\n",
        "a_x = [] # x-axis acceleration list, a_x\n",
        "a_y = [] # y-axis acceleration list, a_y\n",
        "a_z = [] # z-axis acceleration list, a_z\n",
        "\n",
        "# Reading a CSV file and convert rows as data\n",
        "with open(filename, 'r') as f:\n",
        "    rows = csv.reader(f, delimiter = ',')\n",
        "    header = next(rows)\n",
        "    for row in rows:\n",
        "        dt.append(float(row[0]))\n",
        "        t.append(float(row[1]))\n",
        "        a_x.append(float(row[2]))\n",
        "        a_y.append(float(row[3]))\n",
        "        a_z.append(float(row[4]))\n",
        "\n",
        "\n",
        "N = int(len(dt)) # Number of sample = 1000\n",
        "T = t[-1]/N # sampling period, assumed equally distributed\n",
        "\n",
        "n = np.array(range(len(dt))) + 1 # measured sequence\n",
        "dt = np.array(dt) # convert dt list to dt 1D array\n",
        "t = np.array(t) # convert t list to t 1D array\n",
        "a_x = np.array(a_x) # convert a_x list to a_x 1D array\n",
        "a_y = np.array(a_y) # convert a_y list to a_y 1D array\n",
        "a_z = np.array(a_z) # convert a_z list to a_z 1D array\n",
        "\n",
        "\n",
        "fig1, ax1 = plt.subplots(3)\n",
        "fig1.suptitle('Time domain')\n",
        "ax1[0].plot(t,a_x,'tab:blue')\n",
        "ax1[0].set_ylabel('a_x [m/s2]')\n",
        "ax1[1].plot(t,a_y, 'tab:orange')\n",
        "ax1[1].set_ylabel('a_y [m/s2]')\n",
        "ax1[2].plot(t,a_z, 'tab:green')\n",
        "ax1[2].set_ylabel('a_z [m/s2]')\n",
        "ax1[2].set_xlabel('Time [sec]')\n",
        "\n",
        "\n",
        "from scipy.fft import fft, fftfreq\n",
        "\n",
        "# get_fft is a function to calculate FFT\n",
        "# arguments are x(signal array, T(sampling period), N(number of Samples)\n",
        "# returns are f(frequency array) and y_mag(FFT magnitude array)\n",
        "def get_fft(x, T, N):\n",
        "    f = fftfreq(N, T)[:N//2]\n",
        "    y_mag = 2/N * np.abs(fft(x)[:N//2])\n",
        "    return f, y_mag\n",
        "\n",
        "\n",
        "f_x, y_x = get_fft(a_x, T, N)\n",
        "# f_y, y_y = \n",
        "# f_z, y_z = \n",
        "\n",
        "fig2, ax2 = plt.subplots(3)\n",
        "fig2.suptitle('Frequency domain')\n",
        "ax2[0].plot(f_x,y_x,'tab:blue')\n",
        "ax2[0].set_ylabel('|FFT| of a_x')\n",
        "# ax2[1].plot(f_y,y_y,'tab:orange')\n",
        "# ax2[1].set_ylabel('|FFT| of a_y')\n",
        "# ax2[2].plot(f_z,y_z,'tab:green')\n",
        "# ax2[2].set_ylabel('|FFT| of a_z')\n",
        "ax2[2].set_xlabel('Frequency [Hz]')\n",
        "\n",
        "plt.show()\n",
        "\n",
        "```\n",
        "\n",
        "---\n",
        "\n",
        "![picture](https://github.com/hewp84/tinyml/blob/main/img/L3_Figure9.jpg?raw=true)\n",
        "\n",
        "*Figure 9 Data plot: Time domain (left) and Frequency domain (right)*\n",
        "\n",
        "\n"
      ],
      "metadata": {
        "id": "ylAgvh2TIX3w"
      }
    },
    {
      "cell_type": "markdown",
      "source": [
        "Below is the code which you can edit and run inside of the Google Colab environment."
      ],
      "metadata": {
        "id": "hQr9tKgj1-sW"
      }
    },
    {
      "cell_type": "code",
      "source": [
        "\n",
        "import matplotlib\n",
        "matplotlib.use('tkagg')\n",
        "import matplotlib.pyplot as plt\n",
        "import csv\n",
        "import numpy as np\n",
        "\n",
        "# You should change filename.\n",
        "filename = \"20220128_024155_lab3_part5.csv\"\n",
        "\n",
        "dt = [] # sampling period list, dt\n",
        "t = [] # time list, t\n",
        "a_x = [] # x-axis acceleration list, a_x\n",
        "a_y = [] # y-axis acceleration list, a_y\n",
        "a_z = [] # z-axis acceleration list, a_z\n",
        "\n",
        "# Reading a CSV file and convert rows as data\n",
        "with open(filename, 'r') as f:\n",
        "    rows = csv.reader(f, delimiter = ',')\n",
        "    header = next(rows)\n",
        "    for row in rows:\n",
        "        dt.append(float(row[0]))\n",
        "        t.append(float(row[1]))\n",
        "        a_x.append(float(row[2]))\n",
        "        a_y.append(float(row[3]))\n",
        "        a_z.append(float(row[4]))\n",
        "\n",
        "\n",
        "N = int(len(dt)) # Number of sample = 1000\n",
        "T = t[-1]/N # sampling period, assumed equally distributed\n",
        "\n",
        "n = np.array(range(len(dt))) + 1 # measured sequence\n",
        "dt = np.array(dt) # convert dt list to dt 1D array\n",
        "t = np.array(t) # convert t list to t 1D array\n",
        "a_x = np.array(a_x) # convert a_x list to a_x 1D array\n",
        "a_y = np.array(a_y) # convert a_y list to a_y 1D array\n",
        "a_z = np.array(a_z) # convert a_z list to a_z 1D array\n",
        "\n",
        "\n",
        "fig1, ax1 = plt.subplots(3)\n",
        "fig1.suptitle('Time domain')\n",
        "ax1[0].plot(t,a_x,'tab:blue')\n",
        "ax1[0].set_ylabel('a_x [m/s2]')\n",
        "ax1[1].plot(t,a_y, 'tab:orange')\n",
        "ax1[1].set_ylabel('a_y [m/s2]')\n",
        "ax1[2].plot(t,a_z, 'tab:green')\n",
        "ax1[2].set_ylabel('a_z [m/s2]')\n",
        "ax1[2].set_xlabel('Time [sec]')\n",
        "\n",
        "\n",
        "from scipy.fft import fft, fftfreq\n",
        "\n",
        "# get_fft is a function to calculate FFT\n",
        "# arguments are x(signal array, T(sampling period), N(number of Samples)\n",
        "# returns are f(frequency array) and y_mag(FFT magnitude array)\n",
        "def get_fft(x, T, N):\n",
        "    f = fftfreq(N, T)[:N//2]\n",
        "    y_mag = 2/N * np.abs(fft(x)[:N//2])\n",
        "    return f, y_mag\n",
        "\n",
        "\n",
        "f_x, y_x = get_fft(a_x, T, N)\n",
        "# f_y, y_y = \n",
        "# f_z, y_z = \n",
        "\n",
        "fig2, ax2 = plt.subplots(3)\n",
        "fig2.suptitle('Frequency domain')\n",
        "ax2[0].plot(f_x,y_x,'tab:blue')\n",
        "ax2[0].set_ylabel('|FFT| of a_x')\n",
        "# ax2[1].plot(f_y,y_y,'tab:orange')\n",
        "# ax2[1].set_ylabel('|FFT| of a_y')\n",
        "# ax2[2].plot(f_z,y_z,'tab:green')\n",
        "# ax2[2].set_ylabel('|FFT| of a_z')\n",
        "ax2[2].set_xlabel('Frequency [Hz]')\n",
        "\n",
        "plt.show()\n"
      ],
      "metadata": {
        "id": "K743Cqz019sv"
      },
      "execution_count": null,
      "outputs": []
    },
    {
      "cell_type": "markdown",
      "source": [
        "#### TASK 4\n",
        "\n",
        "Complete ‘lab3_sample4.py’ and attach the results as Figure 9 on the report. \n",
        "1.\tYou do not need to attach the entire code. \n",
        "2.\tAdd your name at the end of the tile of each plot (e.g., ‘Time domain, John Doe’) \n"
      ],
      "metadata": {
        "id": "0tm22paTIc1e"
      }
    },
    {
      "cell_type": "markdown",
      "source": [
        "## Deliverable\n",
        "\n",
        "1.\tPerform all Tasks and submit your Lab3 report on Brightspace before Lab 4. \n",
        "2.\tCompare data of two conditions (normal vs. abnormal) of the axial flow fan. \n",
        "  \n",
        "  a. This deliverable is open-ended, but you must consider below. \n",
        "\n",
        "      i.\tYou must include comparisons of time-domain features.\n",
        "\n",
        "     ii.\tWhat are the main frequencies and FFT magnitudes of each measurement? \n",
        "\n",
        "     iii.\tWhich domain features are better to detect the abnormal condition of the fan? (Include reasoning) iv. Which axis shows the best to detect vibration? (Include reasoning) \n"
      ],
      "metadata": {
        "id": "w1IJYvp3I1KT"
      }
    }
  ]
}