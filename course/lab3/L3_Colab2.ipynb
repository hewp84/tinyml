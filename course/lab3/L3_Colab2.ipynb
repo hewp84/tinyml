{
  "nbformat": 4,
  "nbformat_minor": 0,
  "metadata": {
    "colab": {
      "name": "L3_Colab2",
      "provenance": [],
      "toc_visible": true,
      "include_colab_link": true
    },
    "kernelspec": {
      "name": "python3",
      "display_name": "Python 3"
    },
    "language_info": {
      "name": "python"
    }
  },
  "cells": [
    {
      "cell_type": "markdown",
      "metadata": {
        "id": "view-in-github",
        "colab_type": "text"
      },
      "source": [
        "<a href=\"https://colab.research.google.com/github/hewp84/tinyml/blob/main/course/lab3/L3_Colab2.ipynb\" target=\"_parent\"><img src=\"https://colab.research.google.com/assets/colab-badge.svg\" alt=\"Open In Colab\"/></a>"
      ]
    },
    {
      "cell_type": "markdown",
      "source": [
        "# Lab 3, Part 2: Reading sensors, collecting data, and saving as a .CSV file for a fan"
      ],
      "metadata": {
        "id": "MSWuiicmrVnK"
      }
    },
    {
      "cell_type": "markdown",
      "source": [
        "##Learning Goals\n",
        "\n",
        "Students will be able to:\n",
        "\n",
        "1.   Apply Python algorithms to measure vibrations on different apparatus\n",
        "2.   Apply algorithms to save data as a csv file\n",
        "\n"
      ],
      "metadata": {
        "id": "pUGVqjKhrXp0"
      }
    },
    {
      "cell_type": "markdown",
      "source": [
        "## L3.2.1 Applying to an axial flow fan vibration measurement\n",
        "\n",
        "### Measuring vibration in normal condition\n",
        "\n",
        "On each table, we will see an axial flow fan as Figure 10. For safety reasons, the base part is fixed on the table using tapes. Do not remove the tapes because it can move due to aerodynamic force when running. Flip ADXL345 sensor and then peel off the film from the bottom of the breadboard as Figure 11 (left). However, do not throw away the film because you need to reuse the file to protect adhesive so that the double-sided tape remains adhesion for next time use. And then attach your sensor on top of the axial flow fan as Figure 11 (right). Total 3 sensors can be attached to the fan. Please do this together with other table members.\n",
        "\n",
        "![picture](https://github.com/hewp84/tinyml/blob/main/img/L3_Figure10.jpg?raw=true)\n",
        "\n",
        "*Figure 10 Configuration of axial flow fan*\n",
        "\n",
        "![picture](https://github.com/hewp84/tinyml/blob/main/img/L3_Figure11.png?raw=true)\n",
        "\n",
        "*Figure 11 Peeling off adhesive protection film (left) and attaching ADXL345 to the fan (right)*\n",
        "\n",
        "After deploying the sensor, run the axial flow fan. While the fan is running, collect and save acceleration data by using ‘lab3_sample4.py’. It will take around 1 second.\n"
      ],
      "metadata": {
        "id": "xtWmdnNVIljS"
      }
    },
    {
      "cell_type": "markdown",
      "source": [
        "\n",
        "\n",
        "### Task 1\n",
        "\n",
        "Copy and run the sample code (lab3_sample1.py) in Raspberry Pi terminal to measure the new readings and then capture a screenshot and paste it in the below section\n",
        "\n",
        "\n",
        "---\n",
        "**Python - Python3 (lab3_sample1.py)**\n",
        "\n",
        "```\n",
        "import time \n",
        "import board \n",
        "import adafruit_adxl34x \n",
        "import datetime \n",
        "import busio\n",
        " \n",
        "# i2c variable defines I2C interfaces and GPIO pins using busio and board modules \n",
        "i2c = busio.I2C(board.SCL, board.SDA) \n",
        " \n",
        "# acc object is instantiation using i2c of Adafruit ADXL34X library\n",
        "acc = adafruit_adxl34x.ADXL345(i2c) \n",
        " \n",
        "while True: # To halt program, hit Ctrl + c or click Stop button\n",
        "  now = datetime.datetime.now()\n",
        "  x_acc, y_acc, z_acc = acc.acceleration \n",
        "  print(\"{}: x-axis={:.4f}m/s^2, y-axis={:.4f}m/s^2, z-axis={:.4f}m/s^2\".format(now, x_acc, y_acc, z_acc))     \n",
        "  time.sleep(1) \n",
        "```\n",
        "\n",
        "---\n",
        "\n"
      ],
      "metadata": {
        "id": "Hqgn6T4lHijP"
      }
    },
    {
      "cell_type": "markdown",
      "source": [
        "### Task 2\n",
        "\n",
        "Modify ‘acc.data_rate = const(0b1010)’ line to set the highest output data rate (3200 Hz) and run it. Capture the result as Figure 8 and attach it to the report. \n",
        "* Capture either one of terminal window as Figure 8 (left) or Thonny IDE Shell as Figure 8 (right). \n",
        "\n",
        "![picture](https://github.com/hewp84/tinyml/blob/main/img/L3_Figure8.png?raw=true)\n",
        "\n",
        "*Figure 8 Results of sample code 3 after setting 3200 Hz output data rate: Terminal window (left) and Thonny IDE Shell (right)*\n",
        "\n",
        "---\n",
        "\n",
        "The entire code, ‘lab3_sample4.py’, for collecting and saving data in a CSV file is given. The code is to collect 1000 times measurement data from each axis acceleration of ADXL345. And then all data are saved as a CSV file with timestamp. Run ‘lab3_sample4.py’ and see the results and data.\n",
        "\n",
        "\n",
        "---\n",
        "**Python - Python3 (lab3_sample3.py)**\n",
        "```\n",
        "\n",
        "import time\n",
        "import board\n",
        "import busio\n",
        "import adafruit_adxl34x\n",
        "from micropython import const\n",
        "import csv\n",
        "\n",
        "# i2c variable defines I2C interfaces and GPIO pins using busio and board modules\n",
        "i2c = busio.I2C(board.SCL, board.SDA)\n",
        "\n",
        "# acc object is instantiation using i2c of Adafruit ADXL34X library \n",
        "acc = adafruit_adxl34x.ADXL345(i2c)\n",
        "\n",
        "# acc.data_rate, 0b means binary. 1010 = 10 = 100 Hz Output data rate\n",
        "# so, if you want to change the output data rate as 3200 Hz, set it to 1111\n",
        "# to change back to default (0.1 Hz), set it to 0000\n",
        "acc.data_rate = const(0b1111)\n",
        "\n",
        "# ratedict=output rate dictionary\n",
        "# See Table5 of Lab3 manual key=rate code (decimal), value=output data rate (Hz)\n",
        "ratedict = {15:3200,14:1600,13:800,12:400,11:200,10:100,9:50,8:25,7:12.5,6:6.25,5:3.13,4:1.56,3:0.78,2:0.39,1:0.2,0:0.1}\n",
        "\n",
        "print(\"Output data rate is {} Hz.\".format(ratedict[acc.data_rate]))\n",
        "\n",
        "\n",
        "# === Data collection and saving ===\n",
        "N = 1000 # number of samples (measurements)\n",
        "\n",
        "T = [] # Sampling period\n",
        "t = [] # time\n",
        "data_x = [] # x-axis acceleration\n",
        "data_y = [] # y-axis acceleration\n",
        "data_z = [] # z-axis acceleration\n",
        "\n",
        "# filename and header\n",
        "filename = datetime.datetime.now().strftime(\"%Y%m%d_%H%M%S\") + \"_lab3_part5.csv\"\n",
        "header = [\"T [sec]\", \"t [sec]\", \"a_x [m/s2]\", \"a_y [m/s2]\", \"a_z [m/s2]\"]\n",
        "\n",
        "t_0 = time.time() # to calculate t\n",
        "for j in range(N):\n",
        "    t_s = time.time() # to calculate T\n",
        "    x_acc, y_acc, z_acc = acc.acceleration\n",
        "    data_x.append(x_acc)\n",
        "    data_y.append(y_acc)\n",
        "    data_z.append(z_acc)\n",
        "    T.append(time.time() - t_s)\n",
        "    t.append(time.time() - t_0)\n",
        "\n",
        "print(\"=== Collection takes {} seconds. ===\".format(time.time() - t_0))\n",
        "print(\"Filename is {}.\".format(filename))\n",
        "\n",
        "# Save data in a CSV file\n",
        "with open(filename, 'w') as f:\n",
        "    write = csv.writer(f)\n",
        "    write.writerow(header)\n",
        "    for k in range(N):\n",
        "        write.writerow([str(T[k]), str(t[k]), str(data_x[k]), str(data_y[k]), str(data_z[k])])\n",
        "\n",
        "f.close()\n",
        "print(\"=== Data saving is done. ===\")\n",
        "\n",
        "```\n",
        "\n",
        "---\n",
        "\n",
        "\n"
      ],
      "metadata": {
        "id": "EP8kb_u1ISZp"
      }
    },
    {
      "cell_type": "markdown",
      "source": [
        "## L3.2.2 Measuring vibration in anomalous condition \n",
        "\n",
        "Let’s make an anomalous condition by adding mass to the blade. There will be an adhesive putty on the base of the fan. Press and rub the putty adhesive to make it a ball shape Figure 12 (right) so that the adhesive putty can be soft enough to attach to the blade.\n",
        "\n",
        "![picture](https://github.com/hewp84/tinyml/blob/main/img/L3_Figure12.png?raw=true)\n",
        "\n",
        "*Figure 12 Adhesive putty: initial shape (left) and ball-shaped after rubbing to softening (right)*\n",
        "\n",
        "And then disassemble the front part (wire guard) axial flow fan. Unscrew the four front nuts and then remove the wire guard as Figure 13. You can easily unscrew the nut by hand. And then disassemble the front part (wire guard) axial flow fan. Unscrew the four front nuts and then remove the wire guard as Figure 13. You can easily unscrew the nut by hand. The next step is to firmly attach the adhesive putty to one of the blades of the fan. When you attach the adhesive putty, please press holding both the adhesive putty and a blade together firmly for a few seconds as Figure 14 (left). And then assemble the wire guard and the front nuts as Figure 14 (right). Lastly, run the axial flow fan. Can you feel increased vibration? While the fan is running in the abnormal condition, collect and save acceleration data by using ‘lab3_sample4.py’. After finishing all measurements, please remove the attached adhesive putty. Keep the sensor assembly and jumper wires and return these at the end of the semester. It is strongly recommended to play with Raspberry Pi and the ADXL345 sensor. We will develop a machine learning model to predict running conditions (normal vs. abnormal) in Lab 9 and Lab 10.\n",
        "\n",
        "![picture](https://github.com/hewp84/tinyml/blob/main/img/L3_Figure13.png?raw=true)\n",
        "\n",
        "*Figure 13 Disassembling axial flow fan*\n",
        "\n",
        "![picture](https://github.com/hewp84/tinyml/blob/main/img/L3_Figure14.png?raw=true)\n",
        "\n",
        "*Figure 14 Attaching adhesive putty (left) and assembling again (right)*"
      ],
      "metadata": {
        "id": "c6KR2zP1ItJw"
      }
    },
    {
      "cell_type": "markdown",
      "source": [
        "### Task 3\n",
        " \n",
        " Perform the same measures as in L3.2.1:\n",
        "\n",
        "\n",
        "\n",
        "*   Read and display the sensor data on terminal and take a screenshot of it pasting it below\n",
        "*   Copy data and save it in a csv by setting it with the highest output data rate (3200 Hz)\n",
        "\n",
        "\n"
      ],
      "metadata": {
        "id": "QRO7MqwyQwjC"
      }
    },
    {
      "cell_type": "markdown",
      "source": [
        "---\n",
        "\n",
        "Place your screenshot in here.\n",
        "\n",
        "---"
      ],
      "metadata": {
        "id": "qxRXMkDBd439"
      }
    }
  ]
}