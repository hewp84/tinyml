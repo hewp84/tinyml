{
  "nbformat": 4,
  "nbformat_minor": 0,
  "metadata": {
    "colab": {
      "name": "Rubric.ipynb",
      "provenance": [],
      "authorship_tag": "ABX9TyPql29Ul7MoOB1s9ZLqaSzB",
      "include_colab_link": true
    },
    "kernelspec": {
      "name": "python3",
      "display_name": "Python 3"
    },
    "language_info": {
      "name": "python"
    }
  },
  "cells": [
    {
      "cell_type": "markdown",
      "metadata": {
        "id": "view-in-github",
        "colab_type": "text"
      },
      "source": [
        "<a href=\"https://colab.research.google.com/github/hewp84/tinyml/blob/main/Rubric.ipynb\" target=\"_parent\"><img src=\"https://colab.research.google.com/assets/colab-badge.svg\" alt=\"Open In Colab\"/></a>"
      ]
    },
    {
      "cell_type": "markdown",
      "source": [
        "<img src=\"https://github.com/hewp84/tinyml/blob/main/img/rubric9.png?raw=1\" />\n"
      ],
      "metadata": {
        "id": "8Nmq38ek0iNV"
      }
    },
    {
      "cell_type": "code",
      "source": [
        ""
      ],
      "metadata": {
        "id": "ojDzfdTx0nfq"
      },
      "execution_count": null,
      "outputs": []
    }
  ]
}