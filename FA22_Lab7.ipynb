{
  "nbformat": 4,
  "nbformat_minor": 0,
  "metadata": {
    "colab": {
      "name": "FA22_Lab7",
      "provenance": [],
      "authorship_tag": "ABX9TyNXduUZut7FbHBkNCEyXiRa",
      "include_colab_link": true
    },
    "kernelspec": {
      "name": "python3",
      "display_name": "Python 3"
    },
    "language_info": {
      "name": "python"
    }
  },
  "cells": [
    {
      "cell_type": "markdown",
      "metadata": {
        "id": "view-in-github",
        "colab_type": "text"
      },
      "source": [
        "<a href=\"https://colab.research.google.com/github/hewp84/tinyml/blob/main/FA22_Lab7.ipynb\" target=\"_parent\"><img src=\"https://colab.research.google.com/assets/colab-badge.svg\" alt=\"Open In Colab\"/></a>"
      ]
    },
    {
      "cell_type": "markdown",
      "source": [
        "# Lab 7: Database & Visualization 1 - SQL Database"
      ],
      "metadata": {
        "id": "IySqaOpE9ji-"
      }
    },
    {
      "cell_type": "markdown",
      "source": [
        "## Introduction\n",
        "\n",
        "The topic of Lab7 is SQL database. We will practice using SQL database, specifically MySQL, to collect IIoT data in this lab. Please note that even if SQL is the relational database, we won’t go on a relational database structure because it is out of the scope of this course. In this lab, however, you will learn the basic syntax of SQL and Python programming to aggregate sensor data to MySQL database. Through hands-on activities, you will perform 1) creating a database table, 2) inserting data to the table using SQL, and 3) Python programming to collect data to the database. At the end of this lab, you will make your Raspberry Pi transmit data from sensors (DHT11 and ADXL345) to the database. To focus on SQL in this lab, let’s set aside the use of MTConnect. "
      ],
      "metadata": {
        "id": "1vPaaQKI9vO_"
      }
    },
    {
      "cell_type": "markdown",
      "source": [
        "## MySQL Hands-On Activity"
      ],
      "metadata": {
        "id": "3fBelZOx9wx0"
      }
    },
    {
      "cell_type": "markdown",
      "source": [
        "### Part 1: Creating database table\n",
        "\n",
        "Let’s start with creating a database table to store data on MySQL server. The MySQL server domain and the port number information for this lab are below. \n",
        "* DNS: me597server1.ecn.purdue.edu \n",
        "* Port: 3306 \n",
        "\n",
        "TA made an account for each of you. The account name rule is your ‘firstnamelastname’ based on \n",
        "Brightspace, e.g., John Doe’s account name for ME597 MySQL server is ‘johndoe’. And TA will let you know the password of your account. \n",
        "<br></br>\n",
        "Let’s connect MySQL server using MySQL Workbench you installed on laptop in the prelab. Please follow the steps below. \n",
        "\n",
        "1.\tRun *‘MySQL Workbench’* on laptop. \n",
        "2.\tClick ‘+’ symbol next to *‘MySQL Connections’*. \n",
        "\n",
        "  a. *‘Setup New Connection’* window pops up. \n",
        "\n",
        "    ![picture](https://github.com/hewp84/tinyml/blob/main/img/L7_Image1.png?raw=true)\n",
        "\n",
        "3.\tPut information on *‘Setup New Connection’* below and then click ‘OK’. \n",
        "\n",
        "  a.\t‘Connection Name’: ME597 \n",
        "\n",
        "  b.\t‘Hostname’: me597server1.ecn.purdue.edu \n",
        "\n",
        "  c.\t‘Port’: 3306 \n",
        "\n",
        "  d.\t‘Username’: firstnamelastname \n",
        "\n",
        "  ![picture](https://github.com/hewp84/tinyml/blob/main/img/L7_Image2.png?raw=true)\n",
        "  \n",
        "4.\tClick ‘ME597’ connection on ‘MySQL Workbench’. \n",
        "5.\tPut your password on *‘Connection to MySQL Server’* window. \n",
        "6.\tClick *‘Save password in vault’* check box. \n",
        "7.\tClick *‘OK’* \n",
        "\n",
        "![picture](https://github.com/hewp84/tinyml/blob/main/img/L7_Image3.png?raw=true)\n",
        "\n",
        "Now, you made a connection to the MySQL server. The next is to create a table. Follow the steps below. \n",
        "\n",
        "1.\tClick ‘Schemas’ tab on the left middle side. \n",
        "\n",
        "  a.\tSchema in a SQL database stands for a list of logical structures of data. \n",
        "\n",
        "  b.\tIn the ‘Navigator’ section, you will see ‘ME597Spring22’ database. \n",
        "2.\tClick dropdown button (▼) on the left of *‘ME497Spring22’* database on *‘Navigator’* section. \n",
        "3.\tRight click on *‘Tables’* under *‘ME597Spring22’* database. \n",
        "4.\tClick *‘Create Tables…’* on the right click menu. \n",
        "\n",
        "  a.\tYou will see a new tab for creating a table. \n",
        "\n",
        "  ![picture](https://github.com/hewp84/tinyml/blob/main/img/L7_Image4.png?raw=true)\n",
        "\t \t \n",
        "5.\tMake table name as ‘firstnamelastname_lab7’. \n",
        "\n",
        "  a.\tE.g., ‘Table Name’: johndoe_lab7 \n",
        "\n",
        "6. Create columns as a table below. \n",
        "\n",
        "  <table width=\"471\">\n",
        "<tbody>\n",
        "<tr>\n",
        "<td width=\"157\">\n",
        "<p>Column Name</p>\n",
        "</td>\n",
        "<td width=\"157\">\n",
        "<p>Datatype</p>\n",
        "</td>\n",
        "<td width=\"157\">\n",
        "<p>Option (Column flag)</p>\n",
        "</td>\n",
        "</tr>\n",
        "<tr>\n",
        "<td width=\"157\">\n",
        "<p>id</p>\n",
        "</td>\n",
        "<td width=\"157\">\n",
        "<p>INT</p>\n",
        "</td>\n",
        "<td width=\"157\">\n",
        "<p>PK, NN</p>\n",
        "</td>\n",
        "</tr>\n",
        "<tr>\n",
        "<td width=\"157\">\n",
        "<p>timestamp</p>\n",
        "</td>\n",
        "<td width=\"157\">\n",
        "<p>TIMESTAMP(1)</p>\n",
        "</td>\n",
        "<td width=\"157\">\n",
        "<p>&nbsp;</p>\n",
        "</td>\n",
        "</tr>\n",
        "<tr>\n",
        "<td width=\"157\">\n",
        "<p>sensor</p>\n",
        "</td>\n",
        "<td width=\"157\">\n",
        "<p>VARCHAR(45)</p>\n",
        "</td>\n",
        "<td width=\"157\">\n",
        "<p>NN</p>\n",
        "</td>\n",
        "</tr>\n",
        "<tr>\n",
        "<td width=\"157\">\n",
        "<p>measurement</p>\n",
        "</td>\n",
        "<td width=\"157\">\n",
        "<p>VARCHAR(45)</p>\n",
        "</td>\n",
        "<td width=\"157\">\n",
        "<p>NN</p>\n",
        "</td>\n",
        "</tr>\n",
        "<tr>\n",
        "<td width=\"157\">\n",
        "<p>Value</p>\n",
        "</td>\n",
        "<td width=\"157\">\n",
        "<p>TINYTEXT</p>\n",
        "</td>\n",
        "<td width=\"157\">\n",
        "<p>NN</p>\n",
        "</td>\n",
        "</tr>\n",
        "</tbody>\n",
        "</table>\n",
        "\n",
        "  a. Brief descriptions of column flags are below. \n",
        "    * PK – Primary Key: It can be used to make the column as a primary key. \n",
        "    * NN – NOT NULL: It is used to enforce the column that it will not insert a NULL value.\n",
        "    * BIN – Binary: It is used to store data as a binary string. \n",
        "    * UN – Unsigned: It is used to store an only positive value started from 0. \n",
        "    * UQ – Unique: It can be used to enforce the column to insert only unique value for a specific column. \n",
        "    * ZF – Zero Filled: It makes stored values have specific size by filling 0. \n",
        "    * G – Generated column\n",
        "    * AI – Auto Increment \n",
        "\n",
        "7.\tClick *‘Apply’*. \n",
        "\n",
        "  a. ‘Apply SQL Script to Database’ window pops up. \n",
        "  \n",
        "    ![picture](https://github.com/hewp84/tinyml/blob/main/img/L7_Image5.png?raw=true)\n",
        "\n",
        "8.\tClick *‘Apply’* on *‘Apply SQL Script to Database’* window. \n",
        "9.\tClick *‘Finish’* on *‘Apply SQL Script to Database’* window. \n",
        "  \n",
        "  ![picture](https://github.com/hewp84/tinyml/blob/main/img/L7_Image6.png?raw=true)\n",
        "\n",
        "10.\tIf you click the dropdown button (▼) next to ‘Tables’ on ‘Navigator’ section, you will see the created table as below.\n",
        "\n",
        "  ![picture](https://github.com/hewp84/tinyml/blob/main/img/L7_Image7.png?raw=true)\n",
        "\n",
        "\n",
        "You are all set to store data. To see your table, the easiest way on ‘MySQL Workbench’ is that right click your table on ‘Navigator’ and then click ‘Select Rows – Limit 1000’ as Figure 1 (left). Because you do not have any data in the table yet, all column data are NULL as Figure 1 (right). And you can see the executed SQL query on the upper side of your table tab as figure 1 (right). \n",
        "\n",
        "![picture](https://github.com/hewp84/tinyml/blob/main/img/L7_Figure1.png?raw=true)\n",
        "\n",
        "*Figure 1 Select rows of created table (left) and executed SELECT statement to check data*\n",
        "\n"
      ],
      "metadata": {
        "id": "hdcWknXV9y89"
      }
    },
    {
      "cell_type": "markdown",
      "source": [
        "#### TASK 1\n",
        "\n",
        "After creating and checking your table, capture the result as Figure 1 (right) and attach it to the report. "
      ],
      "metadata": {
        "id": "mqryGJDa94DK"
      }
    },
    {
      "cell_type": "markdown",
      "source": [
        "### Part 2: SQL query practice\n",
        "\n",
        "By executing SQL query on ‘MySQL Workbench’, you can manipulate the database. In this part, we will practice only INSERT and SELECT statements to store and see data on the table before we move to Python programming. On the ‘Query’ tab, execute INSERT statement example below. To run the SQL query, click \n",
        "‘Execute’ icon (lightning bolt) on the menu bar as Figure 2. Please note that you need change the placeholder table name in the sample statement. \n",
        "\n",
        "---\n",
        "\n",
        "**SQL - INSERT Statement example**\n",
        "\n",
        "```\n",
        "INSERT INTO ME597Fall22.yourname_lab7 (sensor, measurement, value)\n",
        "VALUES('sensor1','acceleration1','0');\n",
        "INSERT INTO ME597Fall22.yourname_lab7 (sensor, measurement, value)\n",
        "VALUES('sensor1','acceleration2','3');\n",
        "INSERT INTO ME597Fall22.yourname_lab7 (sensor, measurement, value)\n",
        "VALUES('sensor2','temperature','25');\n",
        "\n",
        "```\n",
        "\n",
        "---\n",
        "\n",
        "![picture](https://github.com/hewp84/tinyml/blob/main/img/L7_Figure2.png?raw=true)\n",
        "\n",
        "*Figure 2 INSERT statement example*\n",
        "\n",
        "If you check the table, you see the inserted data as Figure 3. As you see, there is no data in ‘timestamp’ column because we did not include ‘timestamp’ information in the INSERT statement example. \n",
        "\n",
        "![picture](https://github.com/hewp84/tinyml/blob/main/img/L7_Figure3.png?raw=true)\n",
        "\n",
        "*Figure 3 Table after executing INSERT statement example*\n",
        "\n",
        "Now, let’s try SELECT statement example. The SELECT statement example below is to select only ‘measurement’ and ‘value’ data from ‘sensor1’. The result is shown in Figure 4. Please note that response of SELECT statement is a result grid and ‘*’ after SELECT statement means ‘ALL’.\n",
        "\n",
        "---\n",
        "\n",
        "**SQL - INSERT Statement example**\n",
        "\n",
        "```\n",
        "SELECT measurement, value from ME597Spring22.yourname_lab7\n",
        "WHERE sensor = 'sensor1';\n",
        "\n",
        "```\n",
        "\n",
        "---\n",
        "\n",
        "![picture](https://github.com/hewp84/tinyml/blob/main/img/L7_Figure4.png?raw=true)\n",
        "\n",
        "*Figure 4 Result after executing SELECT statement example*\n"
      ],
      "metadata": {
        "id": "eNrFIwdd95Xa"
      }
    },
    {
      "cell_type": "markdown",
      "source": [
        "#### TASK 2\n",
        "\n",
        "Execute SELECT statement to get ‘timestamp’, ‘measurement’, and ‘value’ data of only ‘sensor’ is ‘sensor2’. Capture the result grid and attach your SELECT statement and the result as Figure 4 to the report. "
      ],
      "metadata": {
        "id": "GAg2c4UL99bO"
      }
    },
    {
      "cell_type": "markdown",
      "source": [
        "So far, we performed basic use of MySQL. Let’s move to Python programming on Raspberry Pi to collect data.  "
      ],
      "metadata": {
        "id": "4VNd5rIgEnTu"
      }
    },
    {
      "cell_type": "markdown",
      "source": [
        "## Python MySQL Hands-On Activity"
      ],
      "metadata": {
        "id": "19Bh3m5G9-pg"
      }
    },
    {
      "cell_type": "markdown",
      "source": [
        "### Part 1: Python programming using pymysql\n",
        "\n",
        "The example sample code (‘lab7_sample.py’) is on Brightspace and as below. This example is generating 3 random values and then executing INSERT statements to store the values on the MySQL database. In this example, the sampling period is 3 seconds and total collection time is 60 seconds. Please go through the code and comments on each line to understand program logic. Please note that you need to modify the 'USER', 'PASSWORD', and 'TABLE' lines to run the sample script. \n",
        "\n",
        "---\n",
        "\n",
        "**Python - Python3 (lab7_sample.py)**\n",
        "\n",
        "```\n",
        "import datetime\n",
        "import time\n",
        "import random\n",
        "import pymysql.cursors\n",
        "\n",
        "## Credential\n",
        "HOST = 'me597server1.ecn.purdue.edu' # MySQL server host DNS\n",
        "PORT = 3306 # MySQL server port number\n",
        "USER = 'yourname' # MySQL account name\n",
        "PASSWORD = 'password' # Password of the account\n",
        "DB = 'ME597Spring22' # DB name\n",
        "TABLE = 'yourname_lab7' # table name\n",
        "## Credential\n",
        "\n",
        "sensor = 'sensor3' # sensor name\n",
        "measurement1 = 'acceleration1' # measurement name 1\n",
        "measurement2 = 'acceleration2' # measurement name 2\n",
        "measurement3 = 'acceleration3' # measurement name 3\n",
        "\n",
        "connection = pymysql.connect(host=HOST, user=USER, password=PASSWORD, db=DB, port=PORT) # make a connection to MySQL server\n",
        "cursor = connection.cursor() # Open cursur to execute SQL query\n",
        "\n",
        "duration = 60 # collection time in second unit\n",
        "start_time = time.time() # get current time\n",
        "\n",
        "while time.time() - start_time < duration:\n",
        "    value1 = str(random.uniform(0,2)) # random value for measurement1\n",
        "    value2 = str(random.uniform(-2,0)) # random value for measurement2\n",
        "    value3 = str(random.uniform(9.7,9.9)) # random value for measurement3\n",
        "    timestamp = datetime.datetime.now().strftime('%Y-%m-%d %H:%M:%S') # get datetime as MySQL timestamp format\n",
        "    \n",
        "    print(timestamp)\n",
        "    print(\"{}={}\".format(measurement1,value1)) # value1\n",
        "    print(\"{}={}\".format(measurement2,value2)) # value2\n",
        "    print(\"{}={}\".format(measurement3,value3)) # value2\n",
        "    \n",
        "    query1 = \"INSERT INTO \"+TABLE+\" (timestamp,sensor,measurement,value) VALUE('\"+timestamp+\"','\"+sensor+\"','\"+measurement1+\"','\"+value1+\"');\" #SQL query1 for value1\n",
        "    query2 = \"INSERT INTO \"+TABLE+\" (timestamp,sensor,measurement,value) VALUE('\"+timestamp+\"','\"+sensor+\"','\"+measurement2+\"','\"+value2+\"');\" #SQL query2 for value2\n",
        "    query3 = \"INSERT INTO \"+TABLE+\" (timestamp,sensor,measurement,value) VALUE('\"+timestamp+\"','\"+sensor+\"','\"+measurement3+\"','\"+value3+\"');\" #SQL query3 for value3\n",
        "    \n",
        "    cursor.execute(query1) # execute query 1\n",
        "    cursor.execute(query2) # execute query 2\n",
        "    cursor.execute(query3) # execute query 3\n",
        "    connection.commit() # commit all SQL queries\n",
        "    \n",
        "    print(\"==INSERT QUERIES DONE==\\n\")\n",
        "    \n",
        "    time.sleep(3) # wait for 2 seconds\n",
        "\n",
        "connection.close() # gently close connection\n",
        "print(\"==Program DONE==\")\n",
        "\n",
        "```\n",
        "\n",
        "---\n",
        "\n",
        "After run the sample code, you can see the stored data on ‘MySQL Workbench’ on laptop as Figure 5. \n",
        "\n",
        "![picture](https://github.com/hewp84/tinyml/blob/main/img/L7_Figure5.png?raw=true)\n",
        "\n",
        "*Figure 5 MySQL Workbench result grid after running sample script*\n",
        "\n"
      ],
      "metadata": {
        "id": "JjOPr195-BvG"
      }
    },
    {
      "cell_type": "markdown",
      "source": [
        "#### TASK 3\n",
        "\n",
        "Run the sample code on Raspberry Pi. Capture the result grid on MySQL workbench as Figure 5 and attach it to the report. "
      ],
      "metadata": {
        "id": "u5IINO4f-JUL"
      }
    },
    {
      "cell_type": "markdown",
      "source": [
        "Now, let’s store the measured data to MySQL database from the sensors (DHT11 and ADXL345). The schematic of data collection is shown in Figure 6. \n",
        " \n",
        "![picture](https://github.com/hewp84/tinyml/blob/main/img/L7_Figure6.png?raw=true)\n",
        "\n",
        "*Figure 6 Schematic for TASK4*"
      ],
      "metadata": {
        "id": "nCp-7U3uFtkY"
      }
    },
    {
      "cell_type": "markdown",
      "source": [
        "#### TASK 4\n",
        "\n",
        "1.\tBy modifying the given sample code, store sensor data (acceleration of each axis from ADXL345, and temperature and humidity from DHT11) to MySQL database you created. The data collection specifications are below: \n",
        "\n",
        "  a.\tTotal collection time is 120 seconds. \n",
        "\n",
        "  b.\tSampling period, Ts, is 3 seconds. \n",
        "\n",
        "  c.\tSensor name (sensor column) of ADXL345 is “ADXL345”. \n",
        "\n",
        "  d.\tSensor name (sensor column) of DHT11 is “DHT11”. \n",
        "\n",
        "  e.\tMeasurements (measurement column) of ADXL345 are “Xacc”, “Yacc”, “Zacc”. \n",
        "\n",
        "  f.\tMeasurements (measurement column) of ADXL345 are “Temp”, “Humd”. \n",
        "\n",
        "  g.\tValues (value column) of ADXL345 are measured data in unit of m/s2 \n",
        "\n",
        "  h.\tValues (value column) of DHT11 are measured data in °C and RH%. \n",
        "    * **Hint: To measure data, refer to the sample codes (‘lab6_ADXL345_sample.py’ and ‘lab6_DHT11_sample.py’) in the previous lab.**\n",
        "2.\tRun the modified script. \n",
        "3.\tCheck the stored data in MySQL database using ‘MySQL Workbench’. \n",
        "4.\tCapture the result grid as Figure 5 and attach it to the report. \n",
        "5.\tUpload the modified sample code on Brightspace\n"
      ],
      "metadata": {
        "id": "tT0nGs1U-MBe"
      }
    },
    {
      "cell_type": "markdown",
      "source": [
        "## Deliverable\n",
        "\n",
        "1.\tSummarize Lab 7 what you performed and learned. \n",
        "  * Use any photos, figures, tables, and equations if needed. \n",
        "2.\tPerform all Tasks and submit your Lab6 report on Brightspace before Lab 7. \n"
      ],
      "metadata": {
        "id": "_ZkoQqRJ-Ocm"
      }
    }
  ]
}