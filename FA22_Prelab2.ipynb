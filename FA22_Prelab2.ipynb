{
  "nbformat": 4,
  "nbformat_minor": 0,
  "metadata": {
    "colab": {
      "name": "FA22_Prelab2",
      "provenance": [],
      "collapsed_sections": [],
      "authorship_tag": "ABX9TyMm2beaJKmxZzzox5eSBMwD",
      "include_colab_link": true
    },
    "kernelspec": {
      "name": "python3",
      "display_name": "Python 3"
    },
    "language_info": {
      "name": "python"
    }
  },
  "cells": [
    {
      "cell_type": "markdown",
      "metadata": {
        "id": "view-in-github",
        "colab_type": "text"
      },
      "source": [
        "<a href=\"https://colab.research.google.com/github/hewp84/tinyml/blob/main/FA22_Prelab2.ipynb\" target=\"_parent\"><img src=\"https://colab.research.google.com/assets/colab-badge.svg\" alt=\"Open In Colab\"/></a>"
      ]
    },
    {
      "cell_type": "markdown",
      "source": [
        "# Prelab 2: IoT Sensor Data Collection 1 - Humidity and Temperature Sensor"
      ],
      "metadata": {
        "id": "qt1MVL2l98aT"
      }
    },
    {
      "cell_type": "markdown",
      "source": [
        "## Introduction\n",
        "\n",
        "In Lab 2, we will use a digital temperature and humidity sensor, DHT11 module \n",
        "(https://components101.com/sensors/dht11-temperature-sensor, available on Jan. 9, 2022), to measure atmospheric temperature and humidity. It uses a capacitive humidity sensor and a thermistor to measure the surrounding air and splits out a digital signal on the digital pin. It is simple to use but requires careful timing to grab data. The only real downside of this sensor is you can only get new data from it once every 2 seconds. There are many applications using the humidity and temperature sensor, such as HVAC (Heating, Ventilation, and Air Conditioning), testing and inspection equipment, consumer goods, automotive, automatic control, data loggers, humidity regulator, and so on. \n",
        "\n",
        "Prelab 2 is to prepare the DHT11 module use for Lab 2 and to get familiar with Python. In all lab manuals, Python means Python3 if no further descriptions. We will use Raspberry Pi and Python. Lab manuals will mainly describe the use of ‘Terminal’. However, if you are a beginner of Python, you can also use Thonny IDE, the default software of Raspberry Pi OS 11. If you are interested, visit and follow this tutorial (https://roboticsbackend.com/thonny-ide-raspberry-pi-os/, available on Jan. 9, 2022). "
      ],
      "metadata": {
        "id": "Qr7lyUq798VI"
      }
    },
    {
      "cell_type": "markdown",
      "source": [
        "## Python Package Installation\n",
        "\n",
        "At the first, you need to make Raspberry Pi the latest packages. \n",
        "\n",
        "---\n",
        "**Raspberry Pi - Terminal**\n",
        "\n",
        "`sudo apt update`\n",
        "\n",
        "`sudo apt upgrade`\n",
        "\n",
        "---\n",
        "\n",
        "To install Python additional packages, we will use ‘pip’ package. The ‘pip’ is the standard package manager for Python. It enables you to install and manage additional packages that are not part of Python library. Let’s install ‘pip’ package first. \n",
        "\n",
        "---\n",
        "**Raspberry Pi - Terminal**\n",
        "\n",
        "`sudo apt install python3-pip`\n",
        "\n",
        "---\n",
        "\n",
        "To check ‘pip’ version, you can use the command ‘pip --version’ in ‘Terminal’. To see all installed Python packages and versions, use ‘pip list’ in ‘Terminal’ as below. \n",
        "\n",
        "---\n",
        "**Raspberry Pi - Terminal**\n",
        "\n",
        "`pip --version pip`\n",
        "\n",
        "`list`\n",
        "\n",
        "---\n",
        "\n",
        "![picture](https://github.com/hewp84/tinyml/blob/main/img/PL2_Figure1.jpg?raw=true)\n",
        "\n",
        "*Figure 1 Terminal window to check pip version*\n",
        "\n"
      ],
      "metadata": {
        "id": "Nvp70zp4-8MA"
      }
    },
    {
      "cell_type": "markdown",
      "source": [
        "### Task 1\n",
        "\n",
        "Capture your terminal window as Figure 1 after checking pip version and attach it to the report below:"
      ],
      "metadata": {
        "id": "X9f99EbHADDh"
      }
    },
    {
      "cell_type": "markdown",
      "source": [
        "\n",
        "To read DHT11 sensor data, we will use the Python packages developed by Adafruit. Visit and look over the webpage (https://learn.adafruit.com/dht-humidity-sensing-on-raspberry-pi-with-gdocs-logging/python-setup, available on Jan. 9, 2022). Let’s install the relevant Python packages as followed. \n",
        "\n",
        "---\n",
        "**Raspberry Pi - Terminal**\n",
        "\n",
        "`sudo pip3 install adafruit-python-shell`\n",
        "* pip3 means pip for Python3. \n",
        "\n",
        "`sudo pip3 install adafruit-circuitpython-dht sudo apt`\n",
        "\n",
        "`install libgpiod2 sudo reboot`\n",
        "\n",
        "---\n",
        "\n",
        "After rebooting Raspberry Pi, you are all set. Let’s check installed packages using ‘pip3 list’ command in ‘Terminal’ as followed. \n",
        "\n",
        "---\n",
        "**Raspberry Pi - Terminal**\n",
        "\n",
        "`pip3 list`\n",
        "\n",
        "---\n",
        "\n",
        "![picture](https://github.com/hewp84/tinyml/blob/main/img/PL2_Figure2_2.jpg?raw=true)\n",
        "\n",
        "*Figure 2 Terminal window to check installed Python packages*\n"
      ],
      "metadata": {
        "id": "RizKYdNkAILf"
      }
    },
    {
      "cell_type": "markdown",
      "source": [
        "### Task 2\n",
        "\n",
        "Capture your terminal window as Figure 2 to see the installed packages and attach it to the report below:"
      ],
      "metadata": {
        "id": "8Jo-tuxBBJVT"
      }
    },
    {
      "cell_type": "markdown",
      "source": [
        "In addition, for practice, try to install ‘matplotlib’ Python package by using ‘pip3’ command. We will use ‘matplotlib’ package to visualize data in the following lab sessions. "
      ],
      "metadata": {
        "id": "IefqpVwYBXwP"
      }
    },
    {
      "cell_type": "markdown",
      "source": [
        "## Getting Familiar with Python and Basic Package\n",
        "\n",
        "As mentioned, you can create and modify Python scripts using both nano editor in the terminal window and Thonny IDE. (Optional) Try a Python tutorial on the Internet. Also, you can run Python script on Thonny IDE and it is possible to run line-by-line implementation of Python script using the terminal window. Try the example below. \n",
        "\n",
        "---\n",
        "**Raspberry Pi - Terminal**\n",
        "\n",
        "`python3`\n",
        "\n",
        "**Python - Python3**\n",
        "\n",
        "`print(\"Hello World!\")`\n",
        "\n",
        "---\n",
        "\n",
        "![picture](https://github.com/hewp84/tinyml/blob/main/img/PL2_Figure3.jpg?raw=true)\n",
        "\n",
        "*Figure 3 Running Python in terminal window*\n",
        "\n",
        "Create any Python script for practice, and then try to run it in ‘Terminal’. The command to run a Python script is ‘python3 filename.py’. \n",
        "\n",
        "In Lab 2, you will measure sensor data and save it as CSV (Comma-separated Values) file. A CSV file is a comma (,) delimited text file. It is widely used for a file format for data analytics. Also, in many cases, data should be logged with timestamps. If you are a beginner, try tutorials on the Internet to 1) create csv file using Python, 2) datetime package of Python. Tutorials available on the Internet are below (available on Jan. 9, 2022). \n",
        "\n",
        "* Python Write CSV File tutorial: https://www.pythontutorial.net/python-basics/python-write-csv-file/ \n",
        "  * Python datetime tutorial: https://www.datacamp.com/community/tutorials/python-datetime \n",
        "\n"
      ],
      "metadata": {
        "id": "n4wnKgiUBbh4"
      }
    },
    {
      "cell_type": "markdown",
      "source": [
        "## Deliverable\n",
        "\n",
        "1. Perform all Tasks and submit your Prelab 2 report on Brightspace before Lab 2"
      ],
      "metadata": {
        "id": "lVn64r67CLYz"
      }
    }
  ]
}