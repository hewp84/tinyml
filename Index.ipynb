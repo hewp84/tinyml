{
  "nbformat": 4,
  "nbformat_minor": 0,
  "metadata": {
    "colab": {
      "name": "Index.ipynb",
      "provenance": [],
      "toc_visible": true,
      "collapsed_sections": [],
      "authorship_tag": "ABX9TyPgBvzas7Dv0/wgdVfrfxKz",
      "include_colab_link": true
    },
    "kernelspec": {
      "name": "python3",
      "display_name": "Python 3"
    },
    "language_info": {
      "name": "python"
    }
  },
  "cells": [
    {
      "cell_type": "markdown",
      "metadata": {
        "id": "view-in-github",
        "colab_type": "text"
      },
      "source": [
        "<a href=\"https://colab.research.google.com/github/hewp84/tinyml/blob/main/Index.ipynb\" target=\"_parent\"><img src=\"https://colab.research.google.com/assets/colab-badge.svg\" alt=\"Open In Colab\"/></a>"
      ]
    },
    {
      "cell_type": "markdown",
      "source": [
        "<h1>Learning TinyML</h1>\n",
        "\n",
        "This self contained course will guide you through the process of learning TinyML applied to manufacturing."
      ],
      "metadata": {
        "id": "Al70SOqGOxaV"
      }
    },
    {
      "cell_type": "markdown",
      "source": [
        "## **Getting started**\n",
        "\n",
        "The document you are reading is not a static web page, but an interactive environment called a **Colab notebook** that lets you write and execute code.\n",
        "\n",
        "For example, here is a **code cell** with a short Python script that computes a value, stores it in a variable, and prints the result:"
      ],
      "metadata": {
        "id": "tJFL3TpFPaIG"
      }
    },
    {
      "cell_type": "code",
      "source": [
        "ft_in_a_mile = 1760*3\n",
        "ft_in_a_mile"
      ],
      "metadata": {
        "colab": {
          "base_uri": "https://localhost:8080/"
        },
        "id": "pIk2dDwZO4je",
        "outputId": "182d1402-6e4e-436c-b896-0e085e5973b6"
      },
      "execution_count": null,
      "outputs": [
        {
          "output_type": "execute_result",
          "data": {
            "text/plain": [
              "5280"
            ]
          },
          "metadata": {},
          "execution_count": 1
        }
      ]
    },
    {
      "cell_type": "markdown",
      "source": [
        "To execute the code in the above cell, select it with a click and then either press the play button to the left of the code, or use the keyboard shortcut \"Command/Ctrl+Enter\". To edit the code, just click the cell and start editing.\n",
        "\n",
        "Variables that you define in one cell can later be used in other cells:"
      ],
      "metadata": {
        "id": "yJu5v6m5QlpS"
      }
    },
    {
      "cell_type": "code",
      "source": [
        "inches_in_a_mile = ft_in_a_mile * 12\n",
        "inches_in_a_mile"
      ],
      "metadata": {
        "id": "p69bGVwNOs9S"
      },
      "execution_count": null,
      "outputs": []
    },
    {
      "cell_type": "markdown",
      "source": [
        "## Table of Content\n",
        "\n",
        "### Python Review\n",
        "\n",
        "[Variables]() &nbsp;|&nbsp;\n",
        "[Loops]() &nbsp;|&nbsp;\n",
        "[Conditionals](python/Python16_Basics_Conditionals.ipynb) &nbsp;|&nbsp;\n",
        "[Lists](python/Python20_Basics_Lists.ipynb)\n",
        "\n",
        "### Foundations of TinyML\n",
        "\n",
        "[Tiny ML Paradigm](2_1_TinymlParadigm.ipynb) &nbsp;|&nbsp;\n",
        "[Simple Models](Simple_Model.ipynb) &nbsp;|&nbsp;\n",
        "[Responsible AI]() &nbsp;|&nbsp;\n",
        "\n",
        "\n",
        "\n"
      ],
      "metadata": {
        "id": "GTdKXhAOSfQi"
      }
    },
    {
      "cell_type": "code",
      "source": [
        ""
      ],
      "metadata": {
        "id": "T5XZ9I-OSSJD"
      },
      "execution_count": null,
      "outputs": []
    }
  ]
}