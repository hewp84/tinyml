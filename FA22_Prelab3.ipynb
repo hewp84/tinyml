{
  "nbformat": 4,
  "nbformat_minor": 0,
  "metadata": {
    "colab": {
      "name": "FA22_Prelab3",
      "provenance": [],
      "toc_visible": true,
      "authorship_tag": "ABX9TyN5cd54ggNMcTndcHN4xUMk",
      "include_colab_link": true
    },
    "kernelspec": {
      "name": "python3",
      "display_name": "Python 3"
    },
    "language_info": {
      "name": "python"
    }
  },
  "cells": [
    {
      "cell_type": "markdown",
      "metadata": {
        "id": "view-in-github",
        "colab_type": "text"
      },
      "source": [
        "<a href=\"https://colab.research.google.com/github/hewp84/tinyml/blob/main/FA22_Prelab3.ipynb\" target=\"_parent\"><img src=\"https://colab.research.google.com/assets/colab-badge.svg\" alt=\"Open In Colab\"/></a>"
      ]
    },
    {
      "cell_type": "markdown",
      "source": [
        "# Prelab 3: IoT Sensor Data Collection 2 - Accelerometer and Signal Processing"
      ],
      "metadata": {
        "id": "UrIr9JqS0c8r"
      }
    },
    {
      "cell_type": "markdown",
      "source": [
        "## Introduction\n",
        "\n",
        "In Lab3, we will use a tri-axis MEMS (Micro-Electromechanical System) based accelerometer, ADXL345 module (https://www.analog.com/en/products/adxl345.html, available on Jan. 20, 2022 and the data sheet is uploaded on Brightspace), to measure accelerations of machinery. The ADXL345 is a cheap and low-power accelerometer with a high resolution (13-bit) measurement at up to ±16 g. Measurement is performed by digital output data formatted as 16bit and accessible through either an SPI (Serial Peripheral Interface) or I2C (or I2C, IIC, Inter-Integrated Circuit) digital interface. We will use the I2C method to access data of the sensor using Adafruit ADXL Python package (https://circuitpython.readthedocs.io/projects/adxl34x/en/latest/, available on Jan. 20, 2022). Also, signal processing of collected data is one of the major keys in data analytics. \n",
        "\n",
        "Prelab 3 is to prepare to use the ADXL345 sensor module and signal processing with visualization of signal in Raspberry Pi. For the signal processing, we will analyze data in both time-domain and frequency-domain. \n"
      ],
      "metadata": {
        "id": "fI96PR6a0eab"
      }
    },
    {
      "cell_type": "markdown",
      "source": [
        "## Raspberry Pi configuration and Python package installation"
      ],
      "metadata": {
        "id": "oLH36A0-0eUT"
      }
    },
    {
      "cell_type": "markdown",
      "source": [
        "### Part 1: Raspberry Pi configuration to enable I<sup>2</sup>C interface\n",
        "\n",
        "To access data from ADXL345, we will use I2C interface of Raspberry Pi. Follow the step below. \n",
        "\n",
        "1.\tClick ‘Menu’ \n",
        "2.\tDrop down ‘Preferences’ \n",
        "3.\tClick ‘Raspberry Pi configuration’ \n",
        "4.\tClick ‘Interfaces’ tab \n",
        "5.\tClick ‘Enable’ of ‘I2C’ as Figure 1. \n",
        "6.\tReboot Raspberry Pi \n",
        "\n",
        "![picture](https://github.com/hewp84/tinyml/blob/main/img/PL3_Figure1.png?raw=true)\n",
        "\n",
        "*Figure 1 Enabling I2C*\n",
        "\n",
        "Make Raspberry Pi up to date. And Install I2C package of Raspberry Pi. \n",
        "\n",
        "---\n",
        "**Raspberry Pi - Terminal**\n",
        "```\n",
        "sudo apt update \n",
        "sudo apt upgrade \n",
        "sudo apt install i2c-tools -y \n",
        "```\n",
        "\n",
        "---\n",
        "To check the I2C interface, you can use the command ‘sudo i2cdetect -y 1’ as below. Because there is no I2C interface connected now, the result will look like Figure 2. If you are interested in I2C communication protocol in detail, visit and go through Sparkfun tutorial for I2C (https://learn.sparkfun.com/tutorials/i2c/all, available on Jan. 20, 2022). \n",
        "\n",
        "---\n",
        "**Raspberry Pi - Terminal**\n",
        "\n",
        "`sudo i2cdetect -y 1`\n",
        "\n",
        "* If you have error and your Raspberry Pi is the very first version of Raspberry Pi (Raspberry Pi model B), ‘sudo i2cdetect -y 0’ will work. \n",
        "\n",
        "---\n",
        "\n",
        "![picture](https://github.com/hewp84/tinyml/blob/main/img/PL3_Figure2_2.png?raw=true)\n",
        "\n",
        "*Figure 2 Connected I2C interface check*"
      ],
      "metadata": {
        "id": "imL5sF010eJo"
      }
    },
    {
      "cell_type": "markdown",
      "source": [
        "#### TASK 1\n",
        "\n",
        "Capture your terminal window as Figure 2 after checking I2C interface detection and attach to the report below:"
      ],
      "metadata": {
        "id": "nOPzAyC40duz"
      }
    },
    {
      "cell_type": "markdown",
      "source": [
        "### Part 2: Installation of related Python packages\n",
        "\n",
        "To install the related Python packages for ADXL345 sensor and signal processing, run the installation command lines below. For signal processing, we will mainly use NumPy (https://numpy.org/) and SciPy \n",
        "(https://scipy.org/) libraries. Matplotlib (https://matplotlib.org/) is a powerful library to visualize data in Python. Both NumPy and SciPy are the fundamental Python libraries for scientific data analytics. Those are frequently used with machine learning applications as well. It is highly recommended to get familiar with those packages by trying tutorials available on the Internet. \n",
        "\n",
        "---\n",
        "**Raspberry Pi - Terminal**\n",
        "\n",
        "```\n",
        "sudo pip3 install smbus \n",
        "sudo pip3 install adafruit-circuitpython-ADXL34x \n",
        "# below are additional packages for signal processing and visualization. \n",
        "sudo pip3 install numpy \n",
        "sudo pip3 install scipy \n",
        "sudo pip3 install matplotlib \n",
        "# If error occurs when importing scipy, run the command below. \n",
        "sudo apt install libatlas-base-dev \n",
        "```\n",
        "\n",
        "---\n",
        "\n",
        "\n",
        "\n",
        "\n"
      ],
      "metadata": {
        "id": "-090UcBd2hIl"
      }
    },
    {
      "cell_type": "markdown",
      "source": [
        "#### TASK 2\n",
        "\n",
        "Capture your terminal window as Figure 3 after running ‘pip3 list’ to see the installed ADXL34X package\n",
        "\n",
        "![picture](https://github.com/hewp84/tinyml/blob/main/img/PL3_Figure3.png?raw=true)\n",
        "\n",
        "*Figure 3 Terminal window to check the installed Python packages*\n",
        "\n",
        "Attach below:\n"
      ],
      "metadata": {
        "id": "XLBXv3X33Hj3"
      }
    },
    {
      "cell_type": "markdown",
      "source": [
        "## Signal Processing and Visualization Practice"
      ],
      "metadata": {
        "id": "wuz-ZG_03YPa"
      }
    },
    {
      "cell_type": "markdown",
      "source": [
        "### Part 3: Sample signal and visualization\n",
        "\n",
        "For practicing signal processing and visualization, let’s first create signals. The sample code for generating and visualization of signals is uploaded on Brightspace (prelab3_signal_processing_sample.py). The scenario is that sampling frequency (f<sub>s</sub>), sampling period (T), and number of samples (N) are 100 Hz, 0.01 sec-1, and 100, respectively. Therefore, total length of the signal is 100 for 1 second. The sample signal (x) are combinations of three signals (x<sub>1</sub>, x<sub>2</sub>, and x<sub>noise</sub>). The first signal, x<sub>1</sub>, is sine wave signal with 10 Hz main frequency and amplitude 2. The second signal, x<sub>2</sub>, is cosine wave signal with 15 Hz main frequency and amplitude 1.5. The third signal, x<sub>noise</sub>, is random signal of normal distribution from 0 to 0.3. By summing three signals, x can be defined as Eq. (1). \n",
        "\n",
        "(1): \n",
        "\n",
        "---\n",
        "$x[n] = x_{1}[n] + x_{2}[n] + x_{noise}[n]$\n",
        "\n",
        "---\n",
        "\n",
        "where n is sample index. By using Matplotlib library of Python, signals in time domain are plotted as Figure 4 and Figure 5. Run the sample code and check the plots. \n",
        "\n",
        "![picture](https://github.com/hewp84/tinyml/blob/main/img/PL3_Figure4.jpg?raw=true)\n",
        "\n",
        "*Figure 4 Time domain plot 1 of each signal*\n",
        "\n",
        "![picture](https://github.com/hewp84/tinyml/blob/main/img/PL3_Figure5.jpg?raw=true)\n",
        "\n",
        "*Figure 5 Time domain plot 2 of combined signal*\n",
        "\n",
        "---\n",
        "**Python - Python3 (prelab3_signal_processing_sample.py)**\n",
        "\n",
        "```\n",
        "import numpy as np\n",
        "import matplotlib\n",
        "matplotlib.use('tkagg')\n",
        "import matplotlib.pyplot as plt\n",
        "\n",
        "fs = 100 # sampling frequency, fs = 100 Hz\n",
        "T = 1/fs # sampling period, T = 1/100 [sec^-1]\n",
        "N = 100 # number of samples\n",
        "\n",
        "f1 = 10 # main frequency 1, f1 = 10 Hz\n",
        "f2 = 15 # main frequency 2, f2 = 15 Hz\n",
        "\n",
        "t = np.linspace(0, N*T, N, endpoint=False) # define time vector, t\n",
        "x1 = 2 * np.sin(f1 * 2 * np.pi * t) # signal 1, amplitude = 2, frequency = f1\n",
        "x2 = 1.5 * np.cos(f2 * 2 * np.pi * t) # signal 2, amplidue = 1.5, frequency = f2\n",
        "noise = np.random.normal(0,0.3,N) # noise, random value normal distribution from 0 to 0.3\n",
        "x =  x1 + x2 + noise # define signal vector, x\n",
        "\n",
        "# plot each signal\n",
        "fig1 = plt.figure(1)\n",
        "ax1 = fig1.gca()\n",
        "ax1.plot(t, x1)\n",
        "ax1.plot(t, x2)\n",
        "ax1.plot(t, noise)\n",
        "ax1.legend([\"x1\", \"x2\", \"noise\"])\n",
        "ax1.set_xlabel(\"Time [sec]\")\n",
        "ax1.set_ylabel(\"Signal amplitude\")\n",
        "ax1.set_title(\"Time domain 1: Each signal\")\n",
        "\n",
        "# plot summation of all signal, output signal x\n",
        "fig2 = plt.figure(2)\n",
        "ax2 = fig2.gca()\n",
        "ax2.plot(t, x)\n",
        "ax2.set_xlabel(\"Time [sec]\")\n",
        "ax2.set_ylabel(\"Signal amplitude\")\n",
        "ax2.set_title(\"Time domain 2: Signal x\")\n",
        "\n",
        "plt.show()\n",
        "\n",
        "```\n",
        "\n",
        "---\n"
      ],
      "metadata": {
        "id": "9Rtc6HAA32T6"
      }
    },
    {
      "cell_type": "markdown",
      "source": [
        "#### TASK 3\n",
        "\n",
        "Modify the sample code as direction below, and then attach two plots as Figure 4 and Figure 5 on the report\n",
        "\n",
        "1. Change amplitude and main frequency of signal 1, x<sub>1</sub>, to 3 and 20 Hz, respectively.\n",
        "2. Change amplitude and main frequency of signal 2, x<sub>2</sub>, to 2 and 30 Hz, respectively.\n",
        "3. Change random noise signal, x<sub>noise</sub>, distribution from 0 to 0.5.\n",
        "4. Add your name at the end of the title of each plot (e.g., ‘Time domain 1: Each signal, John Doe’)"
      ],
      "metadata": {
        "id": "mA10mkRy6BBD"
      }
    },
    {
      "cell_type": "markdown",
      "source": [
        "### Part 4: Time domain\n",
        "\n",
        "Let’s try signal processing using Numpy and SciPy. First, time domain features are statistical analysis of data \n",
        "set. 7 selected features in time domain are shown in Table 1. These features are widely used for data analytics. \n",
        "Try to find the time domain features from the signal generated in PART 3. Keep the changed signal from TASK 3.\n",
        "\n",
        "\n",
        "*Table 1 Time-domain feature<sup>1</sup>*\n",
        "\n",
        "![picture](https://github.com/hewp84/tinyml/blob/main/img/PL3_Table1_2.png?raw=true)\n",
        "\n",
        "---\n",
        "<sup>1</sup>Lei, Yaguo, et al. \"New clustering algorithm-based fault diagnosis using compensation distance evaluation technique.\" Mechanical Systems and Signal Processing 22.2 (2008): 419-435. "
      ],
      "metadata": {
        "id": "KCMUs_fF7oG4"
      }
    },
    {
      "cell_type": "markdown",
      "source": [
        "#### TASK 4\n",
        "\n",
        "Find time domain features by adding code below at the end of the sample code \n",
        "(prelab3_signal_processing_sample.py) and attach the result from either the terminal window or Thonny IDE shell as Figure 6 to the report. \n",
        "\n",
        "* You must finalize the incomplete code below. \n",
        "* As reminder, keep the changed values (amplitudes, main frequencies, and so on) from TASK 3.\n",
        "\n",
        "---\n",
        "**Python - Python 3**\n",
        "\n",
        "```\n",
        "x_m = # mean \n",
        "x_std = # standard \n",
        "x_rms = # root mean square \n",
        "x_peak = # peak \n",
        "x_skew = # skewness \n",
        "x_kurt = # kurtosis \n",
        "x_cf = # crest factor \n",
        " \n",
        "print(\"1. Mean =\", x_m) \n",
        "print(\"2. Standard deviation =\", x_std) \n",
        "print(\"3. Root mean square =\", x_rms) print(\"4. Peak =\", x_peak) \n",
        "print(\"5. Skewness =\", x_skew) \n",
        "print(\"6. Kurtosis =\", x_kurt) \n",
        "print(\"7. Crest factor =\", x_cf) \n",
        "```\n",
        "\n",
        "---\n",
        "\n",
        "![picture](https://github.com/hewp84/tinyml/blob/main/img/PL3_Figure6.jpg?raw=true)\n",
        "\n",
        "*Figure 6 Time domain features of example signal: terminal window (left) and Thonny shell (right)*\n"
      ],
      "metadata": {
        "id": "bl9g9XyN8jSP"
      }
    },
    {
      "cell_type": "markdown",
      "source": [
        "### Part 5: Frequency domain\n",
        "\n",
        "Frequency domain features and analysis refer to performing FFT (Fast Fourier Transform). FFT is a \n",
        "mathematical expression and algorithm which computes DFT (Discrete Fourier Transform) of a data set, so\u0002called Fourier analysis. It allows us to convert signals from the original domain, normally the time domain, to the \n",
        "frequency domain. The 1D (one-dimensional) DFT signal, y[k], of length-N sequence of signal from x[n] is defined \n",
        "as Eq. (2). The maximum frequency range of FFT from repetitive signals or oscillating systems is Nyquist \n",
        "frequency, f<sub>s</sub>/2.\n",
        "\n",
        "(2):\n",
        "\n",
        "---\n",
        " $y[k] = \\sum_{n=0}^{N-1}e^{-2\\pi j \\frac{kn}{N}}x[n]$\n",
        "\n",
        "---\n",
        "\n",
        "FFT is a useful method to analyze data in the frequency domain especially for high-frequency sampling data as well as image processing. If you are interested in further study and principle of FFT and frequency domain analysis, it is recommended to take courses, MA 511 - Linear Algebra with Application and ME 579 – Fourier Methods in Digital Signal Processing. Other common frequency domain analysis methods are Laplace transform (control systems), Z transform (discrete-time processing), Wavelet transform (image processing), and so on. But in the future lab, we will only use FFT for frequency domain analysis.\n"
      ],
      "metadata": {
        "id": "QEMITAcu-m1z"
      }
    },
    {
      "cell_type": "markdown",
      "source": [
        "#### TASK 5\n",
        "\n",
        "1. Perform FFT from the example signal, x, of PART 3 and PART 4 and attach the plot below as Figure 7.\n",
        "2. What is the range (min and max) of frequency in FFT?\n",
        "3. What are the two main frequencies? Are the results as expected?\n",
        "\n",
        "* Hint: use 'scipy.fft' module to compute FFT of the signal.\n",
        "* If you are not sure how to compute FFT, google 'scipy fft'.\n",
        "* You should pay attention to finding frequency vector and the magnitude of FFT.\n",
        "\n",
        "![picture](https://github.com/hewp84/tinyml/blob/main/img/PL3_Figure7.jpg?raw=true)\n",
        "\n",
        "*Figure 7 Frequency domain plot of the example signal, x*"
      ],
      "metadata": {
        "id": "g3XLmXggC5eU"
      }
    },
    {
      "cell_type": "markdown",
      "source": [
        "## Deliverable\n",
        "\n",
        "1.\tPerform all Tasks and submit your Prelab 3 report on Brightspace before Lab 3. \n",
        "2.\tCompare time domain and frequency domain analyses. What are the cons and pros of each analysis? \n",
        "3.\tAttach the entire code for the Task 3, 4, and 5.  \n"
      ],
      "metadata": {
        "id": "z5jUDpyiDheg"
      }
    }
  ]
}