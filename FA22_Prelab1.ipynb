{
  "nbformat": 4,
  "nbformat_minor": 0,
  "metadata": {
    "colab": {
      "name": "FA22_Prelab1.ipynb",
      "provenance": [],
      "toc_visible": true,
      "authorship_tag": "ABX9TyPU7VwKa85xkXQjr3TpmW6w",
      "include_colab_link": true
    },
    "kernelspec": {
      "name": "python3",
      "display_name": "Python 3"
    },
    "language_info": {
      "name": "python"
    }
  },
  "cells": [
    {
      "cell_type": "markdown",
      "metadata": {
        "id": "view-in-github",
        "colab_type": "text"
      },
      "source": [
        "<a href=\"https://colab.research.google.com/github/hewp84/tinyml/blob/main/FA22_Prelab1.ipynb\" target=\"_parent\"><img src=\"https://colab.research.google.com/assets/colab-badge.svg\" alt=\"Open In Colab\"/></a>"
      ]
    },
    {
      "cell_type": "markdown",
      "source": [
        "# Prelab 1: Edge Computer and Headless Environment Setup"
      ],
      "metadata": {
        "id": "Pl4luazG_jVG"
      }
    },
    {
      "cell_type": "markdown",
      "source": [
        "## Content\n",
        "\n",
        "\n",
        "*   Overview\n",
        "*   Prerequisite\n",
        "* Notation and rule\n",
        "* Edge computer setup for headless access\n",
        "\n"
      ],
      "metadata": {
        "id": "pbCpdylL91D1"
      }
    },
    {
      "cell_type": "markdown",
      "source": [
        "## Overview\n",
        "\n",
        "Through lab sessions, you will perform a series of hands-on activities, and mainly learn tangible practical skills \n",
        "for implementation of IIoT (Industrial Internet of Things) The lab sessions will be broken down into four main \n",
        "parts as followed.\n",
        "\n",
        "\n",
        "\n",
        "1. Data collection: IoT sensor connectivity, and communication\n",
        "\n",
        "  a. Sensors: temperature, humidity, and accelerometer\n",
        "\n",
        "  b. Other IoT devices: power meter (Modbus protocol), CNC machine controller (TCP/IP)\n",
        "  \n",
        "  c. Target machines: Vacuum pump system, and axial flow fan\n",
        "\n",
        "2. Middleware: MTConnect\n",
        "\n",
        "  a. Data agent: local data server\n",
        "\n",
        "  b. Data adapter: data pushing from sensor to agent\n",
        "\n",
        "3. Database\n",
        "\n",
        "  a. SQL database\n",
        "\n",
        "  b. Web-based dashboard (Grafana Interface)\n",
        "\n",
        "4. Machine Learning\n",
        "\n",
        "  a. Artificial Nueral Network\n",
        "\n",
        "  b. Classification and regression\n",
        "\n",
        "\n",
        "\n",
        "At the end of this semester, it is expected that for implementation of IoT solution you can be equipped with \n",
        "abilities as followed: 1) selecting and deploying appropriate IoT devices, 2) building up middleware for \n",
        "aggregating data, 3) constructing database, 4) developing a machine learning model, and 5) visualizing data.\n"
      ],
      "metadata": {
        "id": "d-dp4ALk9uxg"
      }
    },
    {
      "cell_type": "markdown",
      "source": [
        "## Prerequisite\n",
        "\n",
        "* Hardware and accessory\n",
        "\n",
        "  * Laptop\n",
        "    * Requirement: Windows OS (Windows 10 preferred), or Linux (Ubuntu)\n",
        "      * All lab manuals are written based on Windows 10. Even if you are using Linux, you can follow and perform \n",
        "lab activities.\n",
        "\n",
        "  * Raspberry Pi\n",
        "    * Requirement: Raspberry Pi 3 B+ 2 Gb or higher version (Raspberry Pi 4 2 Gb preferred) with the \n",
        "latest version of Rasberry Pi OS (Raspberry Pi OS 11 “Bullseye” with desktop, release \n",
        "date: Oct. 30, 2021, Kernel version: 5.10)\n",
        "    * Accessory: a power cable, micro SD card, an ethernet cable – RJ45, a USB-Ethernet converter\n",
        "      * The ethernet cable is for setting up at the first time (Lab 1) and for one-time use. If your laptop is not \n",
        "equipped with an ethernet port, you need a USB-Ethernet adapter with the ethernet cable.\n",
        "\n",
        "![picture](https://github.com/hewp84/tinyml/blob/main/img/PL1_Figure1.png?raw=true)\n",
        "\n",
        "*Figure 1 An ethernet cable (RJ45) (left) and a USB-ethernet adapter (right)*\n",
        "\n",
        "* Software and programming language\n",
        "  * Software\n",
        "    * We will mainly use Python as a main programming language. Python 3.7 or a higher version is \n",
        "needed for both your laptop and Raspberry Pi. But Python 3.9.3 is the default software of Raspberry \n",
        "Pi OS 11. Python 3.7 (or higher) with an IDE (Integrated Development Environment), such as IDLE, \n",
        "PyCharm, Spyder, Microsoft Visual Studio Code, and so on, should be installed on your laptop.\n",
        "    * PuTTY (https://www.putty.org/, available on Jan 6, 2022): PuTTY is an SSH (Secure Shell) and telnet \n",
        "client, developed by Simon Tatham for the Windows platform. It is open-source software. We will \n",
        "use PuTTY to remotely access Raspberry Pi from your laptop. Download and install PuTTY on your \n",
        "laptop.\n",
        "    * VNC Viewer (https://www.realvnc.com/en/connect/download/viewer/, available on Jan. 6, 2022): \n",
        "VNC Viewer is a VNC (Virtual Network Control) client, developed by RealVNC®. It is commercial \n",
        "software, but up to 5 clients are free. If you are not familiar with CLI (Command Line Interface), you \n",
        "will mainly use VNC Viewer to access Raspberry Pi. There are many VNC software such as \n",
        "TeamViewer, Remmina, TigerVNC, UltraVNC, AnyDesk, and so on. Because RealVNC server is a \n",
        "default software of Raspberry Pi Desktop OS, we will use VNC Viewer of RealVNC to access \n",
        "Raspberry Pi from your laptop. Download and install VNC Viewer on your laptop.\n",
        "    * (Optional) In the CLI of Raspberry Pi, we will use GNU nano editor (simply, nano) to create and \n",
        "modify text files, configuration files, and even codes. If you are a beginner, please try a tutorial on \n",
        "the Internet. However, detailed instructions when using nano will be described in the lab manuals.\n",
        "  * Programming language\n",
        "    * It is highly recommended to get familiar with CLI for Raspberry Pi, even if you are using VNC Viewer \n",
        "to access Raspberry Pi, you will frequently use ‘Terminal’. There is a command line tutorial on the \n",
        "Internet (https://www.circuitbasics.com/useful-raspberry-pi-commands/, available on Jan. 6, 2022). \n",
        "Try the tutorial and other practices available on the Internet. Throughout the lab, we will mostly use \n",
        "‘Terminal’ to run, install, manage, software and packages.\n",
        "    * If you are not familiar with Python, please try a Python tutorial available on the Internet\n",
        "\n",
        "IoT sensors, cables, and sample codes will be given in the lab and via Brightspace.\n",
        "\n"
      ],
      "metadata": {
        "id": "UqU8jMR691kS"
      }
    },
    {
      "cell_type": "markdown",
      "source": [
        "## Notation and rule\n",
        "\n",
        "In the lab manuals, variables, menu, filename, command, code, and so on are written in a tilted font within \n",
        "single quotation marks (like ‘example‘) to distinguish other text in the manual. Command for figuring out the IP \n",
        "address of Windows computer, for example, instruction will be 1) Open ‘Command Prompt’, 2) Type ‘ipconfig’. \n",
        "Or it is instructed as followed so that you can copy and paste the command when it is too long and complicated. \n",
        "Tips or comments will be given after the ※ or # mark\n",
        "\n",
        "---\n",
        "**Windows - Command Prompt**\n",
        "\n",
        "`ipconfig`\n",
        "\n",
        "---\n",
        "\n",
        "![picture](https://github.com/hewp84/tinyml/blob/main/img/PL1_Figure2.png?raw=true)\n",
        "\n",
        "*Figure 2 Check IP address using Windows Command Prompt*\n",
        "\n",
        "In case of Raspberry Pi, your IP address can be checked by 1) Open *'Terminal'*, 2) Type *'ifconifg'.\n",
        "\n",
        "---\n",
        "**Raspberry Pi - Linux - Terminal**\n",
        "\n",
        "`ifconfig`\n",
        "\n",
        "---\n",
        "\n",
        "![picture](https://github.com/hewp84/tinyml/blob/main/img/PL1_Figure3.png?raw=true)\n",
        "\n",
        "*Figure 3 Check IP address of Raspberry Pi Terminal*\n",
        "\n",
        "In the prelab and lab manuals, there will be TASK directions. You should include TASK outcomes or answers \n",
        "to the question according to the directions in your prelab and lab report. An example of TASK is shown below.\n"
      ],
      "metadata": {
        "id": "xdRHr3Vh91nt"
      }
    },
    {
      "cell_type": "markdown",
      "source": [
        "#### TASK EXAMPLE"
      ],
      "metadata": {
        "id": "XL9iaT0x92Jo"
      }
    },
    {
      "cell_type": "code",
      "source": [
        "#@title 1) Capture your Terminal window and attach it to the report below: {display-mode: \"form\"}"
      ],
      "metadata": {
        "id": "t32Ps3GumtMo"
      },
      "execution_count": null,
      "outputs": []
    },
    {
      "cell_type": "markdown",
      "source": [
        "Paste here:"
      ],
      "metadata": {
        "id": "pDdnu0UrszH-"
      }
    },
    {
      "cell_type": "code",
      "source": [
        "#@title 2) What is your IP address? {display-mode: \"form\"}\n",
        "T1 = '' #@param {type:\"string\"}\n",
        "print(T1)"
      ],
      "metadata": {
        "id": "_AZo1OFcXdN3"
      },
      "execution_count": null,
      "outputs": []
    },
    {
      "cell_type": "markdown",
      "source": [
        "The grading rule of prelab and lab reports is basically subtracting scores from the maximum. Each TASK is \n",
        "worth 2 to 5 pt credit. The maximum score of the prelab and lab reports is 10 pt each. Please do not miss any \n",
        "lab. If you skip a lab, it is hard to catch up with the following labs. You should submit each assignment in time via \n",
        "Brightspace. No late submissions are accepted without the agreement of the instructor and TA. The due date rule is 1) the prelab report due date is before the lab and 2) the lab report due date is before the next lab. For \n",
        "example, if Lab 1 and Lab 2 start at 3:00 pm on Jan. 21 and Jan. 28, respectively, the Prelab1 report due is before \n",
        "3:00 pm on Jan. 21, and the Lab1 and Prelab2 report due is before 3:00 pm on Jan. 28. But each assignment due \n",
        "will be posted on Brightspace.\n"
      ],
      "metadata": {
        "id": "J-gs3ENHZBV3"
      }
    },
    {
      "cell_type": "markdown",
      "source": [
        "## Edge computer setup for headless access\n",
        "\n",
        "Raspberry Pi is a small and light edge computer. We will use Raspberry Pi as a headless system. A headless \n",
        "system is a device or computer system that can be operated without any physical interfaces like a monitor, \n",
        "keyboard, or mouse. As long as we have a network connection with Raspberry Pi, it is possible to access \n",
        "Raspberry Pi remotely at any time. Lab 1 is for preparing the headless setup and accessing Raspberry Pi via \n",
        "ethernet cable without physical interfaces. In Prelab 1, you will install Raspberry Pi OS and prepare the headless \n",
        "setup using the ethernet cable\n",
        "* For one who cannot use wireless internet, in Prelab 1, your Raspberry Pi does not need to be on the Internet\n",
        "\n",
        "\n",
        "\n",
        "\n",
        "\n"
      ],
      "metadata": {
        "id": "oWzSgrOhZRJp"
      }
    },
    {
      "cell_type": "markdown",
      "source": [
        "\n",
        "### PART 1: Install Raspberry Pi Desktop\n",
        "Prepare Raspberry Pi and install Raspberry Pi OS version 10 (“Buster”)with Desktop. To install Raspberry Pi \n",
        "OS in the micro-SD, you may use Raspberry Pi Imager (https://www.raspberrypi.com/software/, available in Jan. \n",
        "6, 2022). In the Raspberry Pi Imager, you can choose Raspberry Pi OS 10 (“Buster”) with Desktop. In the \n",
        "operating system, click ‘Raspberry Pi OS (others)’ and then choose ‘Raspberry Pi OS (Legacy)’ as shown in Figure 5\n",
        "and Figure 6, respectively.\n",
        "\n",
        "![picture](https://github.com/hewp84/tinyml/blob/main/img/PL1_Figure4.png?raw=true)\n",
        "\n",
        "*Figure 4 Capture of Raspberry Pi Imager download page at (https://www.raspberrypi.com/software/)*\n",
        "\n",
        "![picture](https://github.com/hewp84/tinyml/blob/main/img/PL1_Figure5.png?raw=true)\n",
        "\n",
        "*Figure 5 Click Raspberry Pi OS (other) in Operating System in Raspberry Pi Imager*\n",
        "\n",
        "![picture](https://github.com/hewp84/tinyml/blob/main/img/PL1_Figure6.png?raw=true)\n",
        "\n",
        "*Figure 6 Choose Raspberry Pi OS (Legacy) as Operating System*\n",
        "\n",
        "Install the Raspberry Pi OS (Legacy)in the micro-SD, and then do basic setup such as ‘Country’, ‘Language’, \n",
        "‘Timezone’, ‘Password’ and so on. If you are trouble with setting up, please follow the Beginners Guide to \n",
        "Installing Raspberry Pi OS (https://medium.com/@mkmety/beginners-guide-to-installing-raspberry-pi-os-on-a\u0002raspberry-pi-6d437ce2f54b, available on Jan. 6, 2022). After rebooting Raspberry Pi, you will see the screen like \n",
        "Figure 7. Task bar icons are described in Figure 8.\n",
        "\n",
        "![picture](https://github.com/hewp84/tinyml/blob/main/img/PL1_Figure7.png?raw=true)\n",
        "\n",
        "*Figure 7 Main screen of Raspberry Pi Desktop*\n",
        "\n",
        "![picture](https://github.com/hewp84/tinyml/blob/main/img/PL1_Figure8.png?raw=true)\n",
        "\n",
        "*Figure 8 Task bar icon*\n"
      ],
      "metadata": {
        "id": "cS-Smc0jq35r"
      }
    },
    {
      "cell_type": "markdown",
      "source": [
        "### PART 2: Change device name and enable access\n",
        "\n",
        "The default computer name is ‘raspberrypi’. Because in future lab activities, all Raspberry Pi will be in the \n",
        "same router network, it is needed to figure out your own Raspberry Pi between others. Follow the step below:\n",
        "1. Click 'Menu'\n",
        "2. Drop down 'Preferences'\n",
        "3. Click 'Raspberry Pi Configuration'\n",
        "4. Change 'Hostname' from 'raspberrypi' to your name in 'System' tab\n",
        "  a. Name rule is 'firstnamelastname' (e.g., johndoe)\n",
        "5. Click 'Ok'\n",
        "6. Reboot Raspberry Pi\n",
        "* Command of reboot is ‘sudo reboot’ in ‘Terminal’. The shortcut to open ‘Terminal’ of Raspberry Pi is Ctrl+Alt+t.\n",
        "\n",
        "![picture](https://github.com/hewp84/tinyml/blob/main/img/PL1_Figure9.png?raw=true)\n",
        "\n",
        "*Figure 9 Change Hostname*\n",
        "\n",
        "---\n",
        "**Reboot command of Raspberry Pi**\n",
        "\n",
        "**Raspberry Pi - Terminal**\n",
        "\n",
        "`sudo reboot`\n",
        "\n",
        "---\n",
        "\n",
        "After rebooting your Raspberry Pi, if you open ‘Terminal’ you will see the changed computer name (Figure 10)\n",
        "\n",
        "![picture](https://github.com/hewp84/tinyml/blob/main/img/PL1_Figure10.png?raw=true)\n",
        "\n",
        "*Figure 10 Terminal after rebooting*\n",
        "\n"
      ],
      "metadata": {
        "id": "esAka9C2q08t"
      }
    },
    {
      "cell_type": "markdown",
      "source": [
        "#### TASK 1\n",
        "Capture your Terminal window after rebooting and attach it to the report below\n",
        "* PrtSc on your keyboard will capture the entire screen of your Raspberry Pi. Or the command \n",
        "‘scrot’ in ‘Terminal’ will take a screenshot. The location of the captured screenshot is in ‘/home/pi’. \n",
        "To see the image file, open ‘File Manager’.\n"
      ],
      "metadata": {
        "id": "W8z9FdYjnuJQ"
      }
    },
    {
      "cell_type": "markdown",
      "source": [
        "Now, we will enable Raspberry Pi to be accessible via network. Follow the step below.\n",
        "1. Click ‘Menu’\n",
        "2. ‘Preferences’\n",
        "3. Click ‘Raspberry Pi Configuration’\n",
        "4. Click ‘Interfaces’ tab\n",
        "5. Click ‘Enable’ for both ‘SSH’ and ‘VNC’\n",
        "6. Reboot Raspberry Pi\n",
        "After rebooting your Raspberry Pi, you will find VNC server icon on the right top corner.\n",
        "\n",
        "![picture](https://github.com/hewp84/tinyml/blob/main/img/PL1_Figure11.png?raw=true)\n",
        "\n",
        "*Figure 11 Enabling SSH and VNC*\n",
        "\n",
        "SSH (Secure Shell) is a network communication protocol that enables two computers to communicate and \n",
        "share data. An inherent feature of SSH is that communication between the two computers is encrypted meaning \n",
        "that is suitable for use on an insecure network. VNC (Virtual Network Computing) is a cross-platform screen \n",
        "sharing (GUI, Graphical User Interface, sharing) system that was created to remotely control another computer. \n",
        "Since the RealVNC server is a default package of the Raspberry Pi as mentioned in Prerequisite, we can use VNC \n",
        "Viewer for access remotely without further software installation on Raspberry Pi"
      ],
      "metadata": {
        "id": "S78jPK67qOIp"
      }
    },
    {
      "cell_type": "markdown",
      "source": [
        "### PART 3: Assign static IP and network connection\n",
        "To make the wired network connection between Raspberry Pi and your laptop, assigning a static IP address \n",
        "is needed. Raspberry Pi and your laptop will be on the same network. Connect Raspberry Pi and laptop using the \n",
        "ethernet cable (RJ45). The ethernet IP of your laptop will be 192.168.137.1 and the ethernet IP of Raspberry Pi \n",
        "will be 192.168.137.2, as shown in Figure 12.\n",
        "\n",
        "* If your laptop does not have the ethernet port, you need to use USB-Ethernet adapter.\n",
        "\n",
        "![picture](https://github.com/hewp84/tinyml/blob/main/img/Pl1_Figure12.png?raw=true)\n",
        "\n",
        "*Figure 12 Wired connection configuration between Raspberry Pi and laptop*\n",
        "\n",
        "Let’s set up your laptop (Windows 10) first. Follow the step below.\n",
        "\n",
        "1. Open ‘Network Connections’ of ‘Control Panel’\n",
        "  ![picture](https://github.com/hewp84/tinyml/blob/main/img/PL1_UL_Image1.png?raw=true)\n",
        "2. Double click your network (Connected to Raspberry Pi, ‘Etherent 2’ in this example)\n",
        "3. Click ‘Properties’\n",
        "  ![picture](https://github.com/hewp84/tinyml/blob/main/img/PL1_UL_Image2.png?raw=true)\n",
        "4. Double click ‘Internet Protocol Version 4 (TCP/IPv4)’\n",
        "  ![picture](https://github.com/hewp84/tinyml/blob/main/img/PL1_UL_Image3.png?raw=true)\n",
        "5. Click ‘Use the following IP address’\n",
        "6. Set ‘IP address’ and ‘Subnet mask’ as followed:\n",
        "\n",
        "  a. IP address: 192.168.137.1\n",
        "\n",
        "  b. Subnet mask: 255.255.255.0\n",
        "\n",
        "  ![picture](https://github.com/hewp84/tinyml/blob/main/img/PL1_UL_Image4.png?raw=true)\n",
        "\n",
        "7. Click ‘OK’\n",
        "\n",
        "Next, let’s set up Raspberry Pi’s IP address as the step followed.\n",
        "\n",
        "1. Open ‘Terminal’\n",
        "2. Type ‘sudo nano /etc/dhcpcd.conf'\n",
        "\n",
        "---\n",
        "**Raspberry Pi - Terminal**\n",
        "\n",
        "`sudo nano /etc/dhcpcd.conf`\n",
        "* 'sudo' stands for either “substitute user do” or “super user do” and it allows you to elevate your current user \n",
        "account to have root privileges temporarily. Because this configuration file affects the system, you need a root \n",
        "privilege. Therefore, this command line means edit ‘dhcpcd.conf’ file at ‘/etc’ directory using ‘nano’ editor in the \n",
        "root privilege.\n",
        "---\n",
        "\n",
        "3. Write the following at the end of the 'dhcpcd.conf'\n",
        "\n",
        "---\n",
        "**Raspberry Pi - /etc/dhcpcd.conf**\n",
        "\n",
        "```\n",
        "interface eth0\n",
        "\n",
        "static ip_address=192.168.137.2/24\n",
        "\n",
        "static routers=192.168.137.1\n",
        "\n",
        "static domain_name_servers=192.168.137.1 8.8.8.8\n",
        "```\n",
        "\n",
        "---\n",
        "\n",
        "![picture](https://github.com/hewp84/tinyml/blob/main/img/PL1_UL_Image5.png?raw=true)\n",
        "\n",
        "4. Save this configuration file (Shortcut: Ctrl+o)\n",
        "5. Exit this configuration file (Shortcut: Ctrl+x)\n",
        "6. Unplug the ethernet cable from Raspberry Pi and plug it again\n",
        "\n",
        "You can check your IP address on both laptop and Raspberry Pi as the followed command. Confirm the changed and static IP address on both machines.\n",
        "\n",
        "---\n",
        "**Windows - Command Prompt**\n",
        "\n",
        "`ipconfig`\n",
        "\n",
        "**Raspberry Pi - Terminal**\n",
        "\n",
        "`ifconfig`\n",
        "\n",
        "---\n"
      ],
      "metadata": {
        "id": "L76k0vgjqOCe"
      }
    },
    {
      "cell_type": "markdown",
      "source": [
        "### PART 4: Network connection check using ping\n",
        "\n",
        "Now, you have set IP address on both laptop and Raspberry Pi. Let’s check network connection on both \n",
        "sides using ping test. The ping test is a method of checking if the computer is connected to a network. It also \n",
        "determines the latency and delay between two computers. It is used to ensure that a host computer which your \n",
        "computer tries to access is operating. Therefore, a ping test is run for troubleshooting to know connectivity as \n",
        "well as response time.\n",
        "\n",
        "---\n",
        "\n",
        "**Windows - Command Prompt**\n",
        "\n",
        "`ping 192.168.137.2`\n",
        "\n",
        "---\n",
        "\n",
        "![picture](https://github.com/hewp84/tinyml/blob/main/img/PL1_Figure13.png?raw=true)\n",
        "\n",
        "*Figure 13 Ping testresultfrom Windows to Raspberry Pi (192.168.137.2)*\n",
        "\n",
        "Try the same ping test from Raspberry Pi to laptop as followed. If you run the command below, Raspberry Pi \n",
        "continues checking until force halting. The shortcut to halt the command is Ctrl+c\n",
        "\n",
        "---\n",
        "**Raspberry Pi - Terminal**\n",
        "\n",
        "`ping 192.168.137.1`\n",
        "\n",
        "---\n",
        "\n",
        "![picture](https://github.com/hewp84/tinyml/blob/main/img/Pl1_Figure14.png?raw=true)\n",
        "\n",
        "*Figure 14 Ping test result from Raspberry Pi to Windows (192.168.137.1)*\n",
        "\n",
        "\n"
      ],
      "metadata": {
        "id": "WL_xazA12sdw"
      }
    },
    {
      "cell_type": "markdown",
      "source": [
        "#### TASK 2\n",
        "Capture your ping test results from both machines and attach those to the report below:\n",
        "\n"
      ],
      "metadata": {
        "id": "kyJ6pTTB4i0r"
      }
    },
    {
      "cell_type": "markdown",
      "source": [
        "Bring your laptop and Raspberry Pi and other accessories (power cable, ethernet cable, etc.) to Lab 1."
      ],
      "metadata": {
        "id": "NEUZPKWc5V42"
      }
    },
    {
      "cell_type": "markdown",
      "source": [
        "### PART 5 (Optional): Internet connection sharing\n",
        "\n",
        "In some cases, you may experience that Raspberry Pi cannot be connected to the Wifi. For example, \n",
        "Purdue’s open Wifi (eduroam or PAL3.0) does not allow the Internet connection from Raspberry Pi because of \n",
        "security reasons. However, Raspberry Pi can use the laptop’s internet connection via internet connection \n",
        "sharing. Leave the ethernet cable connection between laptop and Raspberry Pi and follow the step below.\n",
        "\n",
        "1. Open ‘Network Connections’ of ‘Control Panel’\n",
        "2. Double click your network that is connected to the Internet (not the ‘Ethernet #’ connected to Raspberry \n",
        "Pi; in this case, the network ‘Ethernet’ is connected to the Internet. If you are using Wifi, you should choose it.)\n",
        "![picture](https://github.com/hewp84/tinyml/blob/main/img/PL1_UL_Image6.png?raw=true)\n",
        "3. Click ‘Properties’\n",
        "4. Check ‘Allow other network users to connect through this computer’s Internet connection’ box in \n",
        "‘Sharing’ tab (You may need to select the network (Ethernet) connected to Raspberry Pi of ‘Home \n",
        "networking connection’ if you have more than 2 networks.)\n",
        "![picture](https://github.com/hewp84/tinyml/blob/main/img/PL1_UL_Image7.png?raw=true)\n",
        "5. Click 'OK'\n",
        "\n",
        "Now, you are all set. Although Raspberry Pi does not have Wifi connection, it can access the Internet via the \n",
        "network connection to laptop. Try to test on ‘Web Browser’ after turning off Wifi of your Raspberry Pi.\n",
        "\n"
      ],
      "metadata": {
        "id": "vikQsLLU5wQf"
      }
    },
    {
      "cell_type": "markdown",
      "source": [
        "## Deliverable\n",
        "\n",
        "1. Perform all Tasks and submit your Prelab 1 report on Brightspace before Lab 2"
      ],
      "metadata": {
        "id": "P9Pv-ZhM9dJ-"
      }
    }
  ]
}