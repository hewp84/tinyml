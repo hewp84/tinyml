{
  "nbformat": 4,
  "nbformat_minor": 0,
  "metadata": {
    "colab": {
      "name": "Lucas Test Push",
      "provenance": [],
      "authorship_tag": "ABX9TyPs3mUIQCxSwpRRMJQcTCYj",
      "include_colab_link": true
    },
    "kernelspec": {
      "name": "python3",
      "display_name": "Python 3"
    },
    "language_info": {
      "name": "python"
    }
  },
  "cells": [
    {
      "cell_type": "markdown",
      "metadata": {
        "id": "view-in-github",
        "colab_type": "text"
      },
      "source": [
        "<a href=\"https://colab.research.google.com/github/hewp84/tinyml/blob/main/Lucas_Test_Push.ipynb\" target=\"_parent\"><img src=\"https://colab.research.google.com/assets/colab-badge.svg\" alt=\"Open In Colab\"/></a>"
      ]
    },
    {
      "cell_type": "code",
      "execution_count": null,
      "metadata": {
        "id": "llBASUZjUVIF"
      },
      "outputs": [],
      "source": [
        "\n",
        "\n",
        "\n",
        "sdfasfdasfsfasd"
      ]
    },
    {
      "cell_type": "markdown",
      "source": [
        "sdafasdf\n",
        "\n",
        "asdf\n",
        "\n",
        "asdf\n",
        "\n",
        "![picture](https://upload.wikimedia.org/wikipedia/commons/thumb/8/87/PDF_file_icon.svg/1200px-PDF_file_icon.svg.png)\n",
        "<font size='1'>Figure 1: TP vs ML paradigm<sup>1</sup></font>\n",
        "\n"
      ],
      "metadata": {
        "id": "MNVFecfUUZCe"
      }
    }
  ]
}