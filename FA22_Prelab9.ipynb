{
  "nbformat": 4,
  "nbformat_minor": 0,
  "metadata": {
    "colab": {
      "name": "FA22_Prelab9",
      "provenance": [],
      "authorship_tag": "ABX9TyOhhqQHFGzMNZzmkn52ph7k",
      "include_colab_link": true
    },
    "kernelspec": {
      "name": "python3",
      "display_name": "Python 3"
    },
    "language_info": {
      "name": "python"
    }
  },
  "cells": [
    {
      "cell_type": "markdown",
      "metadata": {
        "id": "view-in-github",
        "colab_type": "text"
      },
      "source": [
        "<a href=\"https://colab.research.google.com/github/hewp84/tinyml/blob/main/FA22_Prelab9.ipynb\" target=\"_parent\"><img src=\"https://colab.research.google.com/assets/colab-badge.svg\" alt=\"Open In Colab\"/></a>"
      ]
    },
    {
      "cell_type": "markdown",
      "source": [
        "# Prelab 9: Machine Learning 1 – Artificial Neural Network, Classification "
      ],
      "metadata": {
        "id": "xXvKX0rm77lO"
      }
    },
    {
      "cell_type": "markdown",
      "source": [
        "## Introduction\n",
        "\n",
        "In Lab 9, we will create a machine learning (ML) model to predict a condition (anomaly detection) by the accelerometer (ADXL345) of a machine (Axial flow fan). This prelab (Prelab 9) is to learn and practice ML basics . This prelab is broken down into three main parts: **1) Basics of Machine Learning, 2) Classification hands-on activity by anomaly detection: Vacuum pump,** and **3) Installing Tensorflow and Jupyter Notebook.** It is expected that you take around 3 hours to finish this prelab. "
      ],
      "metadata": {
        "id": "l-nuQvdY79cX"
      }
    },
    {
      "cell_type": "markdown",
      "source": [
        "## Basics of Machine Learning\n",
        "\n",
        "Google Colab is prepared for some fundamental concepts of ML, and key elements to access fit models. Perform TASK 1 below.\n"
      ],
      "metadata": {
        "id": "vdOlewom7-4n"
      }
    },
    {
      "cell_type": "markdown",
      "source": [
        "### TASK 1: Google Colab\n",
        "\n",
        "1.\tGo to the following link and access the Colab Notebook (CN): \n",
        "https://colab.research.google.com/github/hewp84/tinyml/blob/main/Prelab_9.ipynb \n",
        "2.\tSave the CN in your Googld drive so that all changes can be saved in your personal drive. You go to ‘File’ → ‘Save a copy in Drive’ \n",
        "3.\tGo through the CN, fill in all prompts until completion. Once completed, download it to your local drive. (You must perform and fill in all Tasks and questions.) \n",
        "4.\tAfter download CN, convert it to PDF format. \n",
        "a.\tYou can convert CN file to PDF file by using Jupyter Notebook (last session). \n",
        "b.\tOr, see https://www.youtube.com/watch?v=-Ti9Mm21uVc to convert it. \n",
        "5.\tUpload CN and PDF (saved in your local drive) files to Brightspace. \n",
        "\n",
        "  a.\tFilename rule is ‘Prelab9_TASK1_yourname.extension’. \n",
        "    * E.g., ‘Prelab9_TASK1_Johndoe.ipynb’ and ‘Prelab9_TASK1_Johndoe.pdf’ \n"
      ],
      "metadata": {
        "id": "RIc_jejj8T2Z"
      }
    },
    {
      "cell_type": "markdown",
      "source": [
        "## Classification Hands-On Activity by Anomaly Detection: Vacuum\n",
        "\n",
        "Before getting into Lab 9, we will first practice a typical machine learning model development hands-on activity. The goal of this hands-on activity is to create a classification model based on anomaly detection using a machine learning algorithm, autoencoder. The target machine is the vacuum pump system we used in Lab 4. The sensor data is the 3-axis accelerometer we mainly used in Lab 3 (ADXL345).  \n",
        "\n",
        "The hardware configuration of the vacuum pump system to collect accelerations from the sensor is shown in Figure 1. Sensor placement and axis configuration is illustrated on the top-left side of Figure 1. If you want to see the details of the vacuum pump system and the sensor (ADXL345), please review Lab4 and Lab3 manuals, respectively. To set up the normal and abnormal conditions, the vacuum valve and the lid cover were manipulated while the vacuum pump is running. In the experiment, the normal condition Figure 2 (left) is defined by air-tight which means firmly closed all valves, connectors, and the lid cover. On the other hand, the abnormal \n",
        "  \n",
        "condition Figure 2 (right) is defined by air-leakage which means opened valves, connectors, or the lid cover. See the movie clips for each condition on Brightspace, ‘Prelab9_Video1_Air-tight.mp4’ and ‘Prelab9_Video2_Airleakage.mp4’, respectively. \n",
        "\n",
        "The experiment for data collection is summarized as follows. \n",
        "\n",
        "* Sensor and axis: ADXL345 (3-axis accelerometer, X-, Y-, and Z-axis, respectively) \n",
        "* Sampling rate: 1000 Hz (Ts = 0.001 sec.) \n",
        "* Unit: m/s2 \n",
        "* Classification (running condition)\n",
        "  * Air-tight (vacuuming, normal) vs. Air-leakage (anomaly) \n",
        "* Data collection time\n",
        "  * Air-tight: 10 minutes (each row: 1 second, total 600 rows)\n",
        "  * Air-leakage: 10 minutes (each row: 1 second, total 600 rows) \n",
        "\n",
        "  ![picture](https://github.com/hewp84/tinyml/blob/main/img/PL9_Figure1.png?raw=true)\n",
        "\n",
        "  *Figure 1 Hardware configuration to collect acceleration of vacuum pump system* \n",
        "\n",
        "  ![picture](https://github.com/hewp84/tinyml/blob/main/img/PL9_Figure1.png?raw=true)\n",
        "\n",
        "  *Figure 2 (left) Air-tight condition (normal) and (right) Air-leakage condition (abnormal)*\n",
        "\n",
        "The dataset (‘prelab9_data.csv’) is as Table 1 on Brightspace. In each data cell is equally spaced delimited float array. Each row contains data for 1 second. Because sampling period (Ts) is 1 msec, the number of data points in each cell is 1000. Total number of rows is 1200. On the first column (‘Condition’) you will see the conditions. \n",
        "\n",
        "*Table 1 Data format: CSV file*\n",
        "\n",
        "<table width=\"671\">\n",
        "<tbody>\n",
        "<tr>\n",
        "<td width=\"168\">\n",
        "<p>Condition</p>\n",
        "</td>\n",
        "<td width=\"161\">\n",
        "<p>Xacc array [m/s2]</p>\n",
        "</td>\n",
        "<td width=\"7\">\n",
        "<p>&nbsp;</p>\n",
        "</td>\n",
        "<td width=\"168\">\n",
        "<p>Yacc array [m/s2]</p>\n",
        "</td>\n",
        "<td width=\"168\">\n",
        "<p>Zacc array [m/s2]</p>\n",
        "</td>\n",
        "</tr>\n",
        "<tr>\n",
        "<td width=\"168\">\n",
        "<p>&nbsp;</p>\n",
        "</td>\n",
        "<td width=\"161\">\n",
        "<p>&nbsp;</p>\n",
        "</td>\n",
        "<td width=\"7\">\n",
        "<p>&hellip;</p>\n",
        "</td>\n",
        "<td width=\"168\">\n",
        "<p>&nbsp;</p>\n",
        "</td>\n",
        "<td width=\"168\">\n",
        "<p>&nbsp;</p>\n",
        "</td>\n",
        "</tr>\n",
        "<tr>\n",
        "<td width=\"168\">\n",
        "<p>Vacuuming</p>\n",
        "</td>\n",
        "<td width=\"161\">\n",
        "<p>x1 x2 &hellip; x999 x1000</p>\n",
        "</td>\n",
        "<td width=\"7\">\n",
        "<p>&nbsp;</p>\n",
        "</td>\n",
        "<td width=\"168\">\n",
        "<p>y1 y2 &hellip; y999 y1000</p>\n",
        "</td>\n",
        "<td width=\"168\">\n",
        "<p>z1 z2 &hellip; z999 z1000</p>\n",
        "</td>\n",
        "</tr>\n",
        "<tr>\n",
        "<td width=\"168\">\n",
        "<p>Vacuuming</p>\n",
        "</td>\n",
        "<td width=\"161\">\n",
        "<p>x1 x2 &hellip; x999 x1000</p>\n",
        "</td>\n",
        "<td width=\"7\">\n",
        "<p>&nbsp;</p>\n",
        "</td>\n",
        "<td width=\"168\">\n",
        "<p>y1 y2 &hellip; y999 y1000</p>\n",
        "</td>\n",
        "<td width=\"168\">\n",
        "<p>z1 z2 &hellip; z999 z1000</p>\n",
        "</td>\n",
        "</tr>\n",
        "<tr>\n",
        "<td width=\"168\">\n",
        "<p>Vacuuming</p>\n",
        "</td>\n",
        "<td width=\"161\">\n",
        "<p>x1 x2 &hellip; x999 x1000</p>\n",
        "</td>\n",
        "<td width=\"7\">\n",
        "<p>&nbsp;</p>\n",
        "</td>\n",
        "<td width=\"168\">\n",
        "<p>y1 y2 &hellip; y999 y1000</p>\n",
        "</td>\n",
        "<td width=\"168\">\n",
        "<p>z1 z2 &hellip; z999 z1000</p>\n",
        "</td>\n",
        "</tr>\n",
        "<tr>\n",
        "<td width=\"168\">\n",
        "<p>&nbsp;</p>\n",
        "</td>\n",
        "<td width=\"161\">\n",
        "<p>&nbsp;</p>\n",
        "</td>\n",
        "<td width=\"7\">\n",
        "<p>&hellip;</p>\n",
        "</td>\n",
        "<td width=\"168\">\n",
        "<p>&nbsp;</p>\n",
        "</td>\n",
        "<td width=\"168\">\n",
        "<p>&nbsp;</p>\n",
        "</td>\n",
        "</tr>\n",
        "<tr>\n",
        "<td width=\"168\">\n",
        "<p>Air leakage</p>\n",
        "</td>\n",
        "<td width=\"161\">\n",
        "<p>x1 x2 &hellip; x999 x1000</p>\n",
        "</td>\n",
        "<td width=\"7\">\n",
        "<p>&nbsp;</p>\n",
        "</td>\n",
        "<td width=\"168\">\n",
        "<p>y1 y2 &hellip; y999 y1000</p>\n",
        "</td>\n",
        "<td width=\"168\">\n",
        "<p>z1 z2 &hellip; z999 z1000</p>\n",
        "</td>\n",
        "</tr>\n",
        "<tr>\n",
        "<td width=\"168\">\n",
        "<p>Air leakage</p>\n",
        "</td>\n",
        "<td width=\"161\">\n",
        "<p>x1 x2 &hellip; x999 x1000</p>\n",
        "</td>\n",
        "<td width=\"7\">\n",
        "<p>&nbsp;</p>\n",
        "</td>\n",
        "<td width=\"168\">\n",
        "<p>y1 y2 &hellip; y999 y1000</p>\n",
        "</td>\n",
        "<td width=\"168\">\n",
        "<p>z1 z2 &hellip; z999 z1000</p>\n",
        "</td>\n",
        "</tr>\n",
        "<tr>\n",
        "<td width=\"168\">\n",
        "<p>Air leakage</p>\n",
        "</td>\n",
        "<td width=\"161\">\n",
        "<p>x1 x2 &hellip; x999 x1000</p>\n",
        "</td>\n",
        "<td width=\"7\">\n",
        "<p>&nbsp;</p>\n",
        "</td>\n",
        "<td width=\"168\">\n",
        "<p>y1 y2 &hellip; y999 y1000</p>\n",
        "</td>\n",
        "<td width=\"168\">\n",
        "<p>z1 z2 &hellip; z999 z1000</p>\n",
        "</td>\n",
        "</tr>\n",
        "<tr>\n",
        "<td width=\"168\">\n",
        "<p>&nbsp;</p>\n",
        "</td>\n",
        "<td width=\"161\">\n",
        "<p>&nbsp;</p>\n",
        "</td>\n",
        "<td width=\"7\">\n",
        "<p>&hellip;</p>\n",
        "</td>\n",
        "<td width=\"168\">\n",
        "<p>&nbsp;</p>\n",
        "</td>\n",
        "<td width=\"168\">\n",
        "<p>&nbsp;</p>\n",
        "</td>\n",
        "</tr>\n",
        "</tbody>\n",
        "</table>\n",
        "\n",
        "As in the previous session, Google Colab is prepared for the application of the algorithm to classify normal and abnormal data from the vacuum pump dataset. The algorithm that works best for this problem is the anomaly detector autoencoder. Perform TASK 2 below. \n"
      ],
      "metadata": {
        "id": "rTb8FsuG8A3A"
      }
    },
    {
      "cell_type": "markdown",
      "source": [
        "### TASK 2: Google Colab\n",
        "\n",
        "1.\tGo to the following link and access the Colab Notebook (CN): \n",
        "https://colab.research.google.com/github/hewp84/tinyml/blob/main/Anomaly_detector.ipynb \n",
        "2.\tSave the CN in your Googld drive so that all changes can be saved in your personal drive. You go to ‘File’ → ‘Save a copy in Drive’ \n",
        "3.\tGo through the CN, fill in all prompts until completion. Once completed, download it to your local drive. (You must perform and fill in all Tasks and questions.) \n",
        "4.\tAfter download CN, convert it to PDF format. \n",
        "5.\tUpload CN and PDF (saved in your local drive) files to Brightspace. \n",
        "\n",
        "  a. Filename rule is ‘Prelab9_TASK2_yourname.extension’. \n",
        "\n",
        "    * E.g., ‘Prelab9_TASK2_johndoe.ipynb’ and ‘Prelab9_TASK2_johndoe.pdf’ \n"
      ],
      "metadata": {
        "id": "SxPB-Sp28bJB"
      }
    },
    {
      "cell_type": "markdown",
      "source": [
        "## Installing Tensorflow (ver. 2.2.0) and Jupyter Notebook in your laptop\n",
        "\n",
        "The latest version (March 2022) of Tensorflow is 2.8.0. However, we will use Tensorflow version 2.2.0 for compatibility with the Raspberry Pi in the future. Please go to https://www.tensorflow.org/install/pip and install version 2.2.0 on your laptop in a proper way according to your computer architecture, OS, and environment."
      ],
      "metadata": {
        "id": "OxCDT2Yw8dLl"
      }
    },
    {
      "cell_type": "markdown",
      "source": [
        "### TASK 3: Tensorflow installation\n",
        "\n",
        "After installing Tensorflow v2.2.0 on your laptop, run Python script below to check the version installed as Figure 3 and then attach it to the report. \n",
        "\n",
        "---\n",
        "\n",
        "**Python - Python3 (lab4_sample2.py)**\n",
        "\n",
        "```\n",
        "import tensorflow\n",
        "print(\"Tensorflow version = \", tensorflow.__version__)\n",
        "\n",
        "```\n",
        "\n",
        "---"
      ],
      "metadata": {
        "id": "4k3hRLHv_MzU"
      }
    },
    {
      "cell_type": "markdown",
      "source": [
        "![picture](https://github.com/hewp84/tinyml/blob/main/img/PL9_Figure3.png?raw=true)\n",
        "\n",
        "*Figure 3 Tensorflow version check (v2.2.0)*\n",
        "\n",
        "Jupyter Notebook (https://jupyter.org/) allows you to run the CN (Colab Notebook) scripts in which the file extension is ‘*.ipynb’ in your local device as well. Please go to the Jupyter Notebook website and install it on your laptop so that you can perform Lap9 machine learning activities on your laptop. After installation of Jupyter Notebook, try to run the CNs you performed previous two sessions on your laptop to see if it works. You may need to install the required Python packages such as ‘matplotlib’, ‘scipy’ and so on."
      ],
      "metadata": {
        "id": "Dq6Yrm1c_xm1"
      }
    },
    {
      "cell_type": "markdown",
      "source": [
        "## Deliverable\n",
        "\n",
        "1. Perform all Tasks and submit your Prelab8 report on Brightspace before Lab8. \n",
        "\n",
        "  a. You do not need to attach the results of TASK1 and TASK2 because of uploading the files on Brightspace. \n"
      ],
      "metadata": {
        "id": "Ykoz7oX48jpu"
      }
    },
    {
      "cell_type": "markdown",
      "source": [
        "---\n",
        "\n",
        "<sup>1</sup> Prelab 9 is by a collaboration with ROCkETEd research group of Purdue Polytechnic Institute. We especially appreciate Dr. Alejandra Magana, Hector Will, and Lucas Wiese. "
      ],
      "metadata": {
        "id": "jLfj9gEU9iPd"
      }
    }
  ]
}