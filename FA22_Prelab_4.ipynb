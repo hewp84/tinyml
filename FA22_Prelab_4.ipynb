{
  "nbformat": 4,
  "nbformat_minor": 0,
  "metadata": {
    "colab": {
      "name": "FA22 Prelab 4",
      "provenance": [],
      "authorship_tag": "ABX9TyPLhJKZuIRw/NlykI9U9Li6",
      "include_colab_link": true
    },
    "kernelspec": {
      "name": "python3",
      "display_name": "Python 3"
    },
    "language_info": {
      "name": "python"
    }
  },
  "cells": [
    {
      "cell_type": "markdown",
      "metadata": {
        "id": "view-in-github",
        "colab_type": "text"
      },
      "source": [
        "<a href=\"https://colab.research.google.com/github/hewp84/tinyml/blob/main/FA22_Prelab_4.ipynb\" target=\"_parent\"><img src=\"https://colab.research.google.com/assets/colab-badge.svg\" alt=\"Open In Colab\"/></a>"
      ]
    },
    {
      "cell_type": "markdown",
      "source": [
        "# Prelab 4: IoT Sensor Data Collection 3 - Power meter (Modbus) and CNC controller (TCP/IP)"
      ],
      "metadata": {
        "id": "KDNuHODYLJrO"
      }
    },
    {
      "cell_type": "markdown",
      "source": [
        "## Introduction\n",
        "\n",
        "Seamless real-time communication is the core prerequisite for all Industry 4.0 and Industrial Internet of \n",
        "Things (IIoT) implementations. In Lab4, we will collect data from two IoT devices, a power meter (Acuvim L series \n",
        "(https://www.accuenergy.com/products/acuvim-l-multifunction-power-energy-meter/, available on Jan. 31, \n",
        "2022), AccuEnergy, Canada), and a CNC machine tool controller (Haas controller \n",
        "(https://www.haascnc.com/productivity/control.html, available on Jan. 31, 2022), Haas, USA). Please visit and look into both web pages of the devices. For the power meter, Modbus protocol will be used. On the other hand, for the CNC controller, TCP/IP (so-called EtherNet/IP) protocol will be used. This prelab is to install a related package on Raspberry Pi and to be familiar with the devices. Modbus is a representative protocol in Fieldbus communications. And TCP/IP is a representative protocol in Industrial Ethernet communications. \n"
      ],
      "metadata": {
        "id": "wNaBLQJbLJoz"
      }
    },
    {
      "cell_type": "markdown",
      "source": [
        "## Python package installation on Raspberry Pi"
      ],
      "metadata": {
        "id": "9uUx8sGjLJla"
      }
    },
    {
      "cell_type": "markdown",
      "source": [
        "### Part 1: 'pymodbus' package installation\n",
        "\n",
        "Install 'mymodbus' package on your Raspberry Pi as below.\n",
        "\n",
        "---\n",
        "**Raspberry Pi - Terminal**\n",
        "\n",
        "`pip3 install pymodbus`\n",
        "\n",
        "---\n",
        "\n",
        "After installing 'pymodbus' package, see if it is installed successfully using the command 'pip3 list'."
      ],
      "metadata": {
        "id": "zrfrVuofLJgC"
      }
    },
    {
      "cell_type": "markdown",
      "source": [
        "#### TASK 1\n",
        "\n",
        "Capture your terminal window as Figure 1 after running 'pip3 list'.\n",
        "\n",
        "![picture](https://github.com/hewp84/tinyml/blob/main/img/PL4_Figure1.png?raw=true)\n",
        "\n",
        "*Figure 1 Checking the installed Python packages*"
      ],
      "metadata": {
        "id": "3TAUpB1uLJYG"
      }
    },
    {
      "cell_type": "markdown",
      "source": [
        "## Deliverable\n",
        "\n",
        "1.\tPerform all Tasks and submit your Prelab4 report on Brightspace before Lab 4. \n",
        "2.\tWhat are Modbus and TCP/IP protocols? \n",
        "\n",
        "  a.\tSearch on the Internet and summarize each protocol. \n",
        "3.\tWhat are the electric power meter and its applications? \n",
        "4.\tWhat are the principles of the electric power measurement? \n",
        "\n",
        "  a.\tRefer to the Yokogawa tutorial (https://tmi.yokogawa.com/library/resources/trainingmodules/power-meter-tutorials-measurement/, available on Jan. 31, 2022). \n",
        "\n",
        "  b.\tSummarize the principle in short but must include how to measure electric power. \n",
        "5.\tWhat is CNC machine tool and how it works? \n",
        "6.\tWhat is OEE (Overall Equipment Effectiveness)? \n",
        "7.\tTo calculate a CNC machine tool’s OEE, which data do you need? \n"
      ],
      "metadata": {
        "id": "ODhHkzYYLJOH"
      }
    }
  ]
}