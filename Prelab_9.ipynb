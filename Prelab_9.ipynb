{
  "nbformat": 4,
  "nbformat_minor": 0,
  "metadata": {
    "colab": {
      "name": "Prelab 9",
      "provenance": [],
      "collapsed_sections": [],
      "include_colab_link": true
    },
    "kernelspec": {
      "name": "python3",
      "display_name": "Python 3"
    },
    "language_info": {
      "name": "python"
    }
  },
  "cells": [
    {
      "cell_type": "markdown",
      "metadata": {
        "id": "view-in-github",
        "colab_type": "text"
      },
      "source": [
        "<a href=\"https://colab.research.google.com/github/hewp84/tinyml/blob/main/Prelab_9.ipynb\" target=\"_parent\"><img src=\"https://colab.research.google.com/assets/colab-badge.svg\" alt=\"Open In Colab\"/></a>"
      ]
    },
    {
      "cell_type": "markdown",
      "source": [
        "<table><tr>\n",
        "    <td  style=\"background-color:#ffffff;text-align:left;\"><a href=\"http://www.purdue.edu\" target=\"_blank\"><img src=\"https://github.com/hewp84/tinyml/blob/main/img/Logo-Purdue-University.png?raw=1\" width=\"30%\" align=\"left\"></a></td>\n",
        "    <td style=\"background-color:#ffffff;\">&nbsp;</td>\n",
        "    <td style=\"background-color:#ffffff;vertical-align:text-middle;text-align:right;\">\n",
        "        <table><tr style=\"background-color:white;\">\n",
        "            <td><h1 style=\"font-size:10vw\">ME597: Pre-lab 9. Part 1</h1></td>\n",
        "            <td>\n",
        "        </tr></table>\n",
        "    </td>     \n",
        "</tr></table>"
      ],
      "metadata": {
        "id": "XX1e6wjUFP_m"
      }
    },
    {
      "cell_type": "markdown",
      "source": [
        "## Learning Goals\n",
        "\n",
        "building models for anomaly detection and \n",
        "assessing models for anomaly detection\n",
        "\n",
        "1. Identify the characteristics of an overfitted, underfitted, and well-fitted model\n",
        "2. Develop, train, and refine a model that uses machine learning to detect anomalies on data batches. \n",
        "3. Assess the accuracy, precision, and loss of a model in detecting anomalies on data batches.\n"
      ],
      "metadata": {
        "id": "q5AGLRdVFTiw"
      }
    },
    {
      "cell_type": "markdown",
      "source": [
        "## Foundation and Background\n",
        "\n",
        "### What is Machine Learning (ML)?\n",
        "Machine learning figures things out on its own. It doesn't need explicit programming to find patterns, features, or irregularities in big data sets. Compare the traditional programming paradigm to the machine learning paradigm below.\n",
        "\n",
        "![picture](https://github.com/hewp84/tinyml/blob/main/img/Screenshot%202022-02-03%20114832.jpg?raw=1)\n",
        "<font size='1'>Figure 1: TP vs ML paradigm<sup>1</sup></font>\n",
        "\n",
        "For a Machine Learning algorithm to solve a problem, there are two key features. (1) it will take a piece of **data** and (2) will take a **guess** at the **answer**. Then, it will *optimize* its **guess** until it gets the correct **answer**. The concept of *loss* will be what helps to *optimize* the **guess**. \n",
        "\n",
        "To illustrate, the below diagram shows the general machine learning process.\n",
        "\n",
        "<img src=\"https://github.com/hewp84/tinyml/blob/main/img/Screenshot%202022-02-03%20163227.jpg?raw=1\" width=\"635\" height=\"250\"/>\n",
        "<br><font size='1'>Figure 2: ML paradigm process<sup>1</sup></font>\n",
        "\n",
        "### Main aspects of ML\n",
        "* Neurons and Layers\n",
        "  * When designing a neural network, there are decisions to make on the amount of layers and the amount of neurons. Reference the picture below to see neurons & layers and how they are portrayed in a visualized ML model. \n",
        "  <img src=\"https://github.com/hewp84/tinyml/blob/0181124ce1acd78e835e2ed761ec2670369a47b2/img/Screenshot%202022-03-09%20144744.png?raw=1\" width=\"450\" height=\"250\" />\n",
        "* Model\n",
        "  * The product of training and data sets. When \"machine learning\" happens, it is usually the model making inferences on data given to it. See the figure below.\n",
        "  <img src=\"https://github.com/hewp84/tinyml/blob/main/img/Screenshot%202022-02-10%20093032.jpg?raw=1\" width=\"490\" height=\"159\"/> <br>\n",
        "<font size='1'>Figure 3: A \"model\"<sup>1</sup></font>\n",
        "* Training\n",
        "  * The process of determining the best \"fit\" for the model. After a bunch of iterations, a model will be trained for making good inferences. Seeing figure 2 above, that \"Repeat\" process is the training process.\n",
        "* \"Fit\"ness\n",
        "  * As an ML Engineer, you can either underfit or overfit a model. If a model is underfit, it will not make good inferences on the data used to train the model and will not make good inferences on the real-world/unknown data. An overfit model will be super good at the training data, but when in the real-world, it will not be good. Take a look at the figure below.\n",
        "\n",
        "  <img src=\"https://github.com/hewp84/tinyml/blob/main/img/Screenshot%202022-02-10%20114507.jpg?raw=1\" width=\"450\" height=\"250\" />\n",
        "\n",
        "* Visualizing\n",
        "  * Visualizing helps the ML Enginineer (you) determine if you have appropiately tuned your model (the parameters) according to your data set. Typically, neural networks are seen as \"black boxes\" -- it is hard for humans to make reliable inferences based on the machine learning code, layer decisions, neuron decisions, etc.\n",
        "\n",
        "\n",
        "### Exploring how neurons, layers, and algorithms change the efficiency of our chosen ML model\n",
        "\n",
        "We will use the website ' https://ml-playground.com/ ' to form our intuitions and gain a better understanding of how the different neurons, layers, and machine learning algorithms effect a model.\n",
        "\n",
        "This website allows you to click Orange and Purple dots to form data points, then choose an algoritm to train your model. Once selecting an algorithm, you'll see there are choices to let you tune your parameters. This algorithm, with parameters, is how your model will be trained. This process is visualized and simplified to help you build intuition.\n",
        "\n",
        "The screenshot below shows a fit model. By looking at the data points, it is safe to say the algorithm should classify half orange and half purple, although there are data points, or anomalies, on either side of the opposite color. You can see in the bottom right that there are 2 layers with 2 neurons each. These parameters were chosen after trial-and-error to find the best one. \n",
        "\n",
        "<img src=\"https://github.com/hewp84/tinyml/blob/0181124ce1acd78e835e2ed761ec2670369a47b2/img/BetterFit.png?raw=1\" width=\"390\" height=\"300\"/>\n",
        "\n",
        "The screenshot below shows an overfit model. You see, the data is roughly split 50/50 by a diagonal line. However, the colored regions show where the model would predict a data point to be. And, in this case it would not infer correctly. It is too fit for the training data, and if we introduced new data (real-world / unknown data), it would not draw accurate inferences.\n",
        "\n",
        "<img src=\"https://github.com/hewp84/tinyml/blob/main/img/WorseFit.png?raw=1\" width=\"390\" height=\"300\"/>\n",
        "\n",
        "There is not an example provided for the underfit model, that is your Task.\n",
        "\n",
        "**Task**\n",
        "\n",
        "Draw data points wherever you see fit. Try to use a pattern of orange/purple that is not like the data in the screenshots we have provided. \n",
        "\n",
        "Once you have a pattern of orange/purple dots, select the **Artificial Neural Network** and mess with the parameters below. So, change the amount of neurons and layers and click \"Train\" to see if you think the colored regions are suitable for the data you put in. Feel free to read the information the website provides below the graph, and mess with learning rate, epochs, and error as well. \n",
        "\n",
        "Provide a screenshot of your data with **(1)** underfit regions, **(2)** overfit regions, and **(3)** fit regions.\n",
        "\n",
        "**(4)** Explain why the choices you made impacted your model to be fit or not fit.\n",
        "\n"
      ],
      "metadata": {
        "id": "7JCIt5qCFbmo"
      }
    },
    {
      "cell_type": "markdown",
      "source": [
        "### Interpreting Air-tight Vacuum and Air-leak Vacuum Data\n",
        "\n",
        "\n",
        "Proceed to the next Colab Notebook to work in building a model on anomaly detection in a vacuum pump [Anomaly Detector](https://colab.research.google.com/github/hewp84/tinyml/blob/main/Anomaly_detector.ipynb) example.\n",
        "\n",
        "\n",
        "\n"
      ],
      "metadata": {
        "id": "hjH_3MNSFexl"
      }
    },
    {
      "cell_type": "code",
      "execution_count": null,
      "metadata": {
        "id": "RynJzKM3EeyD"
      },
      "outputs": [],
      "source": [
        ""
      ]
    }
  ]
}