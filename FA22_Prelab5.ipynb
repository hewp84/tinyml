{
  "nbformat": 4,
  "nbformat_minor": 0,
  "metadata": {
    "colab": {
      "name": "FA22_Prelab5",
      "provenance": [],
      "authorship_tag": "ABX9TyOdV1o4uHgfJq5gNddT7ETj",
      "include_colab_link": true
    },
    "kernelspec": {
      "name": "python3",
      "display_name": "Python 3"
    },
    "language_info": {
      "name": "python"
    }
  },
  "cells": [
    {
      "cell_type": "markdown",
      "metadata": {
        "id": "view-in-github",
        "colab_type": "text"
      },
      "source": [
        "<a href=\"https://colab.research.google.com/github/hewp84/tinyml/blob/main/FA22_Prelab5.ipynb\" target=\"_parent\"><img src=\"https://colab.research.google.com/assets/colab-badge.svg\" alt=\"Open In Colab\"/></a>"
      ]
    },
    {
      "cell_type": "markdown",
      "source": [
        "# Prelab 5: Middleware 1 - MTConnect agent"
      ],
      "metadata": {
        "id": "3o1rAtZD8hUZ"
      }
    },
    {
      "cell_type": "markdown",
      "source": [
        "## Introduction\n",
        "\n",
        "Through previous labs so far, we have collected data from sensors (humidity-temperature sensor and accelerometer) and IoT devices (power meter-Modbus TCP and Haas CNC controller-TCP/IP). However, someone may raise a question about how to deal with various devices, sensors, and information if each has different data types, sampling frequencies, even communication protocols. To facilitate and use easy of various data streams in a single platform, the middleware concept was developed. Middleware is a kind of software that offers common services and capabilities to applications outside of what's provided by the operating system. Data management, application services, messaging, authentication, and API (Application Programming Interface) are all commonly handled by middleware. The main purpose of middleware is to help developers or users build applications more efficiently. There are a lot of middleware in manufacturing industry such as MTConnect, OPCUA, MQTT, ROS, and so on. Each middleware has distinct characteristics, pros, and cons. For example, for robot industry, ROS (Robot Operation System, https://www.ros.org/, available on Feb. 14, 2022) is widely employed as middleware and open-source platform. In this course, however, we will mainly use MTConnect as middleware for data aggregation. \n",
        "\n",
        "MTConnect is an open source and royalty-free standard for manufacturing that is connecting manufacturing equipment with applications by using proven Internet protocols based on XML and HTTP. MTConnect enables real-time data sharing between shop floor equipment such as machine tools and computer systems. In addition, MTConnect offers a semantic vocabulary for manufacturing equipment to provide structured, contextualized data with no proprietary format. With uniform data, developers, integrators, and users can focus on useful, productive manufacturing applications rather than translation (Figure 1). As Figure 1, each machine tool speaks a different language, connectivity and integration are nightmare without MTConnect standard. Data sources of MTConnect include machine tools, production equipment, PLC, machine controllers, sensors and sensor systems, and other factory hardware. Applications that consume MTConnect data provide more efficient operations, improved production, optimization, and increased productivity. Therefore, MTConnect stands for two: 1) Middleware itself to enable real-time data stream on shop floor and 2) MTConnect standard \n",
        "(ANSI/MTC1.4-2018) which describes a semantic standard vocabulary for manufacturing equipment. In the lab as mentioned above, we will mainly use MTConnect as middleware for real-time data streaming and applications. If you are interested in MTConnect standard in detail, please visit MTConnect.org.  \n",
        "\n",
        "![picture](https://github.com/hewp84/tinyml/blob/main/img/PL5_Figure1.png?raw=true)\n",
        "\n",
        "*Figure 1 The manufacturing world and applications: before MTConnect (left) and after MTConnect (right)<sup>1</sup>*\n",
        "\n",
        "\n",
        "\n",
        "\n"
      ],
      "metadata": {
        "id": "wfQqeZL38hSo"
      }
    },
    {
      "cell_type": "markdown",
      "source": [
        "## MTConnect Overview\n",
        "\n",
        "MTConnect as middleware consists of two parts, 1) MTConnect agent and 2) MTConnect adapter as Figure 2. In the Lab5 and Lab6, we will explore and practice MTConnect agent and MTConnect adapter, respectively. \n",
        "\n",
        "![picture](https://github.com/hewp84/tinyml/blob/main/img/PL5_Figure2.png?raw=true)\n",
        "\n",
        "*Figure 2 MTConnect configuration and data flow<sup>2</sup>*\n",
        "\n",
        "MTConnect standard is broken down into four parts. The four standard sections of MTConnect with the major sub-sections are below. MTConnect standard documents (version 1.6, Sep. 2020) are uploaded on \n",
        "Brightspace. Or, you can download the standard documents from the MTConnect institute website \n",
        "(https://www.mtconnect.org/documents). FYI, the latest version of MTConnect Standard is 1.8 (Oct. 2021). \n",
        "\n",
        "* MTConnect Standard Part 1\n",
        "  * Overview and Protocol\n",
        "    * MTConnect Document Structure\n",
        "    * Versioning\n",
        "    * HTTP and XML - Brief Reminder\n",
        "  * Architecture Overview\n",
        "    * Request Structure\n",
        "    * Agent Initialization\n",
        "    * Application Communication\n",
        "    * Agent Data and Agent Asset Storage\n",
        "  * Reply XML Document Structure\n",
        "    * Devices\n",
        "    * Streams\n",
        "    * Assets\n",
        "    * Error\n",
        "  * Protocol (Commands to Agent) Overview\n",
        "    * Probe\n",
        "    * Sample\n",
        "    * Current\n",
        "    * Asset\n",
        "    * MTConnect Agent and Adapters\n",
        "* MTConnect Standard Part 2\n",
        "  * Components\n",
        "  * Data Items\n",
        "* MTConnect Standard Part 3\n",
        "  * Streams\n",
        "  * Event\n",
        "  * Samples\n",
        "  * Conditions\n",
        "* MTConnect Standardd Part 4\n",
        "  * Assets\n",
        "\n",
        "\n",
        "---\n",
        "\n",
        "<sup>1</sup>Source: https://mtcup.org/Getting_Started_with_MTConnect_%E2%80%93_Writing_Client_Applications, available on Feb. 14, 2022 \n",
        "\n",
        "<sup>2</sup>Source: https://www.mtconnect.org/, available on Feb. 14, 2022 \n",
        "\n"
      ],
      "metadata": {
        "id": "EvQXubsl8hQE"
      }
    },
    {
      "cell_type": "markdown",
      "source": [
        "## MTConnect Agent"
      ],
      "metadata": {
        "id": "T0NKe-Mt8hOA"
      }
    },
    {
      "cell_type": "markdown",
      "source": [
        "### Part 1: GitHub source for MTConnect\n",
        "\n",
        "Free and open source developer tools are on GitHub (Figure 3) and community-maintained \n",
        "(https://github.com/mtconnect/, available on Feb. 14, 2022). In the MTConnect GitHub page, you will find various programs, adapters and tools. You can appreciate open-source programs by other developers from GitHub page. All about MTConnect agent are on C++ agent page (https://github.com/mtconnect/cppagent, available on Feb. 14, 2022). If you are interested in release history and descriptions about MTConnect agent, please visit the GitHub page and see README.md. \n",
        "\n",
        "![picture](https://github.com/hewp84/tinyml/blob/main/img/PL5_Figure3.png?raw=true)\n",
        "\n",
        "*Figure 3 MTConnect GitHub*\n",
        "\n"
      ],
      "metadata": {
        "id": "xoG7wtTu8hHF"
      }
    },
    {
      "cell_type": "markdown",
      "source": [
        "### Part 2: Install ruby for simulation\n",
        "\n",
        "In Lab 5, we will run MTConnect agent on both Raspberry Pi (Linux-based Debian) and laptop (Windows). All \n",
        "C++ compiled execution files of MTConnect agent on both OS (Operation System) platforms will be given via Brightspace before Lab5. Also, we will simulate MTConnect agent example in Lab 5 based on data we collected in the previous labs. For the simulation, we will use ruby software that is a dynamic, open source, interpreted, high-level programming language which is a focus on simplicity and productivity and supports multiple programming paradigms. You do not need to know about programming of ruby. However, it is required to install ruby on your computers. First, install ‘ruby’ on your laptop as followed procedure. \n",
        "\n",
        "1.\tDownload Ruby installer version 2.7.5-1 without development kit \n",
        "  \n",
        "  a.\tDownload website: https://rubyinstaller.org/downloads/ \n",
        "\n",
        "  ![picture](https://github.com/hewp84/tinyml/blob/main/img/PL5_Image1.png?raw=true)\n",
        "  \n",
        "2.\tInstall Ruby by running the downloaded exe file. \n",
        "3.\tFinish the installation without installing ‘MSY2’ as below. \n",
        "  \n",
        "  a.\tIn the completing window, uncheck the checkbox and click ‘Finish’ as below. \n",
        "\n",
        "  ![picture](https://github.com/hewp84/tinyml/blob/main/img/PL5_Image2.png?raw=true)\n",
        "\n",
        "\n",
        "To check the installation of ‘ruby’ and see the version, use ‘Command Prompt’ as below. \n",
        "\n",
        "---\n",
        "\n",
        "**Windows - Command Prompt**\n",
        "\n",
        "`ruby -v`\n",
        "\n",
        "---\n",
        "\n",
        "\n",
        "![picture](https://github.com/hewp84/tinyml/blob/main/img/PL5_Figure4.png?raw=true)\n",
        "\n",
        "*Figure 4 Ruby version check on Windows*"
      ],
      "metadata": {
        "id": "-KLBrc-f8g9g"
      }
    },
    {
      "cell_type": "markdown",
      "source": [
        "#### TASK 1\n",
        "\n",
        "After installing Ruby on laptop, capture Command Prompt of running ‘ruby -v’ command as Figure 4 and attach it to the report."
      ],
      "metadata": {
        "id": "Fi8F1vYO80zS"
      }
    },
    {
      "cell_type": "markdown",
      "source": [
        "Second, install ‘ruby’ on Raspberry Pi as followed procedure. \n",
        "\n",
        "1. Make Raspberry Pi up to date.\n",
        "\n",
        "---\n",
        "\n",
        "**Raspberry Pi - Terminal**\n",
        "\n",
        "`sudo apt update`\n",
        "`sudo apt upgrade`\n",
        "\n",
        "---\n",
        "\n",
        "2. Install 'ruby' using 'apt install' command\n",
        "\n",
        "---\n",
        "\n",
        "**Raspberry Pi - Terminal**\n",
        "\n",
        "`sudo apt install ruby -y`\n",
        "\n",
        "---\n",
        "\n",
        "To check the installation of ‘ruby’ and see the version, use ‘Terminal’ as below. \n",
        "\n",
        "---\n",
        "\n",
        "**Raspberry Pi - Terminal**\n",
        "\n",
        "`ruby -v`\n",
        "\n",
        "---\n",
        "\n",
        "![picture](https://github.com/hewp84/tinyml/blob/main/img/PL5_Figure5_2.png?raw=true)\n",
        "\n",
        "*Figure 5 Ruby Version Check on Raspberry Pi*\n",
        "\n",
        "\n"
      ],
      "metadata": {
        "id": "7h0TwXh1A6TH"
      }
    },
    {
      "cell_type": "markdown",
      "source": [
        "#### TASK 2\n",
        "\n",
        "After installing Ruby on Raspberry Pi, capture Terminal of running ‘ruby -v’ command as Figure 5 and attach it to the report. "
      ],
      "metadata": {
        "id": "G1povzdS826a"
      }
    },
    {
      "cell_type": "markdown",
      "source": [
        "## Related Websites and Further Reading\n",
        "\n",
        "* MTConnect official website: https://www.mtconnect.org/ \n",
        "* MTConnect user portal (Community): https://mtcup.org/ \n",
        "* MTConnect Institute GitHub: https://github.com/mtconnect\n",
        "* MTConnect C++ agent: https://github.com/mtconnect/cppagent \n",
        "* MTConnect dot net SDK (C#): https://github.com/mtconnect/dot_net_sdk \n",
        "* MTConnect PocketNC_adapter (Python): https://github.com/mtconnect/PocketNC_adapter \n",
        "* MtconnectCore (by TAMS): https://mtconnectcore.dev/ \n",
        "* MTConnect agent example (by Mazak): http://mtconnect.mazakcorp.com/ \n",
        "* Smart Manufacturing Systems (SMS) Test Bed (by NIST): https://www.nist.gov/laboratories/toolsinstruments/smart-manufacturing-systems-sms-test-bed \n"
      ],
      "metadata": {
        "id": "rVL_kMZS84gN"
      }
    },
    {
      "cell_type": "markdown",
      "source": [
        "## Deliverable\n",
        "\n",
        "1.\tPerform all Tasks and submit your Prelab5 report on Brightspace before Lab5. \n",
        "2.\tWhy is middleware needed? \n",
        "3.\tWhat are MTConnect and its applications? \n",
        "\n",
        "  a.\tSummarize MTConnect briefly and possible applications. \n",
        "4.\tWhat are pros and cons of MTConnect? \n",
        "\n",
        "  a.\tCompare with other middleware \n",
        "5.\tWhat is XML document? \n",
        "6.\tWhat is HTTP? \n"
      ],
      "metadata": {
        "id": "TaE5YDmd87Jz"
      }
    }
  ]
}