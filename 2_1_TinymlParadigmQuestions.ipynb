{
  "nbformat": 4,
  "nbformat_minor": 0,
  "metadata": {
    "colab": {
      "name": "2_1_TinymlParadigmQuestions",
      "provenance": [],
      "collapsed_sections": [],
      "include_colab_link": true
    },
    "kernelspec": {
      "name": "python3",
      "display_name": "Python 3"
    },
    "language_info": {
      "name": "python"
    }
  },
  "cells": [
    {
      "cell_type": "markdown",
      "metadata": {
        "id": "view-in-github",
        "colab_type": "text"
      },
      "source": [
        "<a href=\"https://colab.research.google.com/github/hewp84/tinyml/blob/main/2_1_TinymlParadigmQuestions.ipynb\" target=\"_parent\"><img src=\"https://colab.research.google.com/assets/colab-badge.svg\" alt=\"Open In Colab\"/></a>"
      ]
    },
    {
      "cell_type": "markdown",
      "source": [
        "<table><tr>\n",
        "    <td  style=\"background-color:#ffffff;text-align:left;\"><a href=\"http://www.purdue.edu\" target=\"_blank\"><img src=\"https://github.com/hewp84/tinyml/blob/main/img/Logo-Purdue-University.png?raw=1\" width=\"30%\" align=\"left\"></a></td>\n",
        "    <td style=\"background-color:#ffffff;\">&nbsp;</td>\n",
        "    <td style=\"background-color:#ffffff;vertical-align:text-middle;text-align:right;\">\n",
        "        <table><tr style=\"background-color:white;\">\n",
        "            <td><h1 style=\"font-size:10vw\">TinyML for Manufacturing</h1></td>\n",
        "            <td>\n",
        "        </tr></table>\n",
        "    </td>     \n",
        "</tr></table>"
      ],
      "metadata": {
        "id": "fk_BeJqWWh_w"
      }
    },
    {
      "cell_type": "markdown",
      "source": [
        "## Assessment\n",
        "### Question 1\n",
        "Under the Machine Learning Paradigm discussed, which of the following is not a core component needed to train a model?\n",
        "\n",
        "a. A loss function <br>\n",
        "b. Input data<br>\n",
        "**c. Labeled data, or, answers** <br>\n",
        "d. A function to process data\n",
        "<br></br>\n",
        "### Question 2\n",
        "How does a loss function move an ML model towards accurate inferences on real-world data?\n",
        "\n",
        "a. Gradient descent is calculated by the difference of the input data and output data, then utilized to inform the ML model. <br>\n",
        "**b. Loss is calculated as the difference between the predicted value and correct value, then utilized to optimize the ML model towards correct values.** <br>\n",
        "c. An overfit model is provided to the ML researcher who determines how much loss is present, then replicates that loss value on the ML model. <br>\n",
        "d. A loss value is pre-defined and requires tinkering to achieve a fit model that makes accurate inferences on the real-world.\n",
        "<br></br>\n",
        "### Question 3\n",
        "Take a look at the following picture, then determine at which epoch would the model be \"fit.\"\n",
        "<img src=\"https://drive.google.com/uc?id=10EhWYvjvpeCAn_4g3kB1S3QfWObxBa1c\" width=\"440\" height=\"250\"/> <br>\n",
        "<font size='1'>Figure 1: Training Loss<sup>1</sup></font>\n",
        "\n",
        "a. 10 <br>\n",
        "b. 20 <br>\n",
        "c. 5 <br>\n",
        "d. **15**\n"
      ],
      "metadata": {
        "id": "Nrzh0xV_JIwk"
      }
    },
    {
      "cell_type": "markdown",
      "source": [
        "References:\n",
        "\n",
        "1: https://medium.datadriveninvestor.com/visualizing-training-and-validation-loss-in-real-time-using-pytorch-and-bokeh-5522401bc9dd\n",
        "\n"
      ],
      "metadata": {
        "id": "HsHi7mbbJI1W"
      }
    }
  ]
}